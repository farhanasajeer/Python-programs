{
 "cells": [
  {
   "cell_type": "code",
   "execution_count": 55,
   "id": "27f92351",
   "metadata": {},
   "outputs": [
    {
     "name": "stdout",
     "output_type": "stream",
     "text": [
      "value of a= 5\n",
      "value of a=%d 2198525733296\n",
      "value of a=%d 2198606760336\n",
      "address of a=%u 2198525733296\n",
      "address of a=%d 2198525733296\n",
      "address of b=%u 2198606760336\n",
      "value of b = address of a=%u 2198525733296\n"
     ]
    }
   ],
   "source": [
    "a=5\n",
    "# id(b)\n",
    "b =id(a)\n",
    "print(\"value of a=\",a)\n",
    "print(\"value of a=%d\",id(a))\n",
    "print(\"value of a=%d\",id(b))\n",
    "print(\"address of a=%u\",id(a))\n",
    "print(\"address of a=%d\",b)\n",
    "print(\"address of b=%u\",id(b))\n",
    "print(\"value of b = address of a=%u\",b)"
   ]
  },
  {
   "cell_type": "code",
   "execution_count": 65,
   "id": "b087d5a3",
   "metadata": {},
   "outputs": [
    {
     "ename": "SyntaxError",
     "evalue": "invalid syntax (Temp/ipykernel_4668/571754547.py, line 2)",
     "output_type": "error",
     "traceback": [
      "\u001b[1;36m  File \u001b[1;32m\"C:\\Users\\Farhana\\AppData\\Local\\Temp/ipykernel_4668/571754547.py\"\u001b[1;36m, line \u001b[1;32m2\u001b[0m\n\u001b[1;33m    int id()\u001b[0m\n\u001b[1;37m        ^\u001b[0m\n\u001b[1;31mSyntaxError\u001b[0m\u001b[1;31m:\u001b[0m invalid syntax\n"
     ]
    }
   ],
   "source": [
    "def struct_employee():\n",
    "    int id()\n",
    "    float salary\n",
    "    int mobile\n",
    "struct employee(e1,e2,e3): \n",
    "print(\"\\n enter id,salary & mobile no of 3 employee\\n\")\n",
    "\n",
    "print(\"\\n enter result\")\n",
    "print(\"\\n%d %f %d\",&e1.id,&e1.salary,&e1.mobile)\n",
    "print(\"\\n%d %f %d\",&e2.id,&e2.salary,&e2.mobile)\n",
    "print(\"\\n%d %f %d\",&e3.id,&e3.salary,&e3.mobile)\n",
    "    \n",
    "\n"
   ]
  },
  {
   "cell_type": "code",
   "execution_count": 99,
   "id": "8309bc41",
   "metadata": {},
   "outputs": [
    {
     "name": "stdout",
     "output_type": "stream",
     "text": [
      "74.0\n"
     ]
    }
   ],
   "source": [
    "mark1=56\n",
    "mark2=76\n",
    "mark3=88\n",
    "mark4=76\n",
    "avg = (mark1 + mark2 + mark3 + mark4)/4\n",
    "print(avg)\n"
   ]
  },
  {
   "cell_type": "code",
   "execution_count": 100,
   "id": "47c0201d",
   "metadata": {},
   "outputs": [
    {
     "ename": "SyntaxError",
     "evalue": "invalid syntax (Temp/ipykernel_4668/3657310423.py, line 1)",
     "output_type": "error",
     "traceback": [
      "\u001b[1;36m  File \u001b[1;32m\"C:\\Users\\Farhana\\AppData\\Local\\Temp/ipykernel_4668/3657310423.py\"\u001b[1;36m, line \u001b[1;32m1\u001b[0m\n\u001b[1;33m    int marks[6]={56,78,88,76,56,89}\u001b[0m\n\u001b[1;37m        ^\u001b[0m\n\u001b[1;31mSyntaxError\u001b[0m\u001b[1;31m:\u001b[0m invalid syntax\n"
     ]
    }
   ],
   "source": [
    "marks[6]={56,78,88,76,56,89}\n",
    "avg = 0\n",
    "for i in marks:\n",
    "    avg=avg+marks[i]\n",
    "print(avg)"
   ]
  },
  {
   "cell_type": "code",
   "execution_count": 90,
   "id": "859bff6d",
   "metadata": {},
   "outputs": [
    {
     "name": "stdout",
     "output_type": "stream",
     "text": [
      "The average is 73.83333333333333\n"
     ]
    }
   ],
   "source": [
    "def cal_average(num):\n",
    "    sum_num = 0\n",
    "    for i in num:\n",
    "        sum_num = sum_num + i           \n",
    "\n",
    "    avg = sum_num / len(num)\n",
    "    return avg\n",
    "\n",
    "print(\"The average is\", cal_average([56,78,88,76,56,89]))\n"
   ]
  },
  {
   "cell_type": "code",
   "execution_count": 104,
   "id": "211d1394",
   "metadata": {},
   "outputs": [
    {
     "name": "stdout",
     "output_type": "stream",
     "text": [
      "2.5\n"
     ]
    }
   ],
   "source": [
    "import numpy as np   #importing the package\n",
    "x=np.array([1,2,3,4])\n",
    "avg=0\n",
    "for i in x:\n",
    "    avg= avg+i/4\n",
    "print(avg)\n"
   ]
  },
  {
   "cell_type": "code",
   "execution_count": null,
   "id": "4a1b08e0",
   "metadata": {},
   "outputs": [],
   "source": []
  }
 ],
 "metadata": {
  "kernelspec": {
   "display_name": "Python 3 (ipykernel)",
   "language": "python",
   "name": "python3"
  },
  "language_info": {
   "codemirror_mode": {
    "name": "ipython",
    "version": 3
   },
   "file_extension": ".py",
   "mimetype": "text/x-python",
   "name": "python",
   "nbconvert_exporter": "python",
   "pygments_lexer": "ipython3",
   "version": "3.9.7"
  }
 },
 "nbformat": 4,
 "nbformat_minor": 5
}
