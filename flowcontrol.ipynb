{
 "cells": [
  {
   "cell_type": "code",
   "execution_count": 1,
   "id": "d94f0fbb",
   "metadata": {},
   "outputs": [
    {
     "name": "stdout",
     "output_type": "stream",
     "text": [
      "3 is a positive number.\n",
      "This is always printed.\n"
     ]
    }
   ],
   "source": [
    "num=3\n",
    "if num > 0:\n",
    "    print(num,\"is a positive number.\")\n",
    "print(\"This is always printed.\")"
   ]
  },
  {
   "cell_type": "code",
   "execution_count": 2,
   "id": "6484ea19",
   "metadata": {},
   "outputs": [
    {
     "name": "stdout",
     "output_type": "stream",
     "text": [
      "This is always printed.\n"
     ]
    }
   ],
   "source": [
    "num = -1\n",
    "if num > 0:\n",
    "    print(num,\"is a positive number.\")\n",
    "print(\"This is always printed.\")"
   ]
  },
  {
   "cell_type": "code",
   "execution_count": 15,
   "id": "74aa1ed5",
   "metadata": {},
   "outputs": [
    {
     "name": "stdout",
     "output_type": "stream",
     "text": [
      " discount: 900.0\n"
     ]
    }
   ],
   "source": [
    "num = 1000\n",
    "if (num  <= 1000):\n",
    "    disc=num*0.10\n",
    "    num=num-disc\n",
    "    print(\" discount:\",num)\n",
    "\n"
   ]
  },
  {
   "cell_type": "code",
   "execution_count": 9,
   "id": "260e6284",
   "metadata": {},
   "outputs": [
    {
     "name": "stdout",
     "output_type": "stream",
     "text": [
      "enter a number:10\n",
      "10 is a multiple of 5.\n"
     ]
    }
   ],
   "source": [
    "# multiple of 5\n",
    "\n",
    "num=int(input(\"enter a number:\"))\n",
    "\n",
    "if(num %5 == 0):\n",
    "    print(num,\"is a multiple of 5.\")\n",
    "else:\n",
    "    print(\"not\")"
   ]
  },
  {
   "cell_type": "code",
   "execution_count": 2,
   "id": "40ff1392",
   "metadata": {},
   "outputs": [
    {
     "name": "stdout",
     "output_type": "stream",
     "text": [
      "*\r\n",
      "**\r\n",
      "***\r\n",
      "****\r\n",
      "*****\r\n",
      "******\r\n",
      "*******\r\n",
      "********\r\n",
      "*********\r\n",
      "********\r\n",
      "*******\r\n",
      "******\r\n",
      "*****\r\n",
      "****\r\n",
      "***\r\n",
      "**\r\n",
      "*\r\n",
      "\r\n"
     ]
    }
   ],
   "source": [
    "# pattern\n",
    "\n",
    "rows=9\n",
    "for i in range(0,rows):\n",
    "    for j in range(i+1):\n",
    "        print(\"*\",end=\"\")\n",
    "    print(\"\\r\")\n",
    "for i in range(rows,0,-1):\n",
    "    for j in range(i-1):\n",
    "        print(\"*\",end=\"\")\n",
    "    print(\"\\r\")"
   ]
  },
  {
   "cell_type": "code",
   "execution_count": 4,
   "id": "53fa6e56",
   "metadata": {},
   "outputs": [
    {
     "name": "stdout",
     "output_type": "stream",
     "text": [
      "enter age:16\n",
      "you can't vote and participate\n"
     ]
    }
   ],
   "source": [
    "# vote\n",
    "\n",
    "num=int(input(\"enter age:\"))\n",
    "if(num >= 18 and num >=25 ):\n",
    "    print(\"you can vote and contest an election\")\n",
    "elif(num > 18):\n",
    "     print(\"you can vote\")\n",
    "else:\n",
    "    print(\"you can't vote and participate\")"
   ]
  },
  {
   "cell_type": "code",
   "execution_count": 5,
   "id": "45476bdf",
   "metadata": {},
   "outputs": [
    {
     "name": "stdout",
     "output_type": "stream",
     "text": [
      "enter year:2000\n",
      "2000 is a leap year.\n"
     ]
    }
   ],
   "source": [
    "# leap year or not\n",
    "\n",
    "year=int(input(\"enter year:\"))\n",
    "if (year % 4) == 0:\n",
    "    if (year % 100) == 0:\n",
    "        if (year % 400) == 0:\n",
    "            print(year,\"is a leap year.\")\n",
    "        else:\n",
    "            print(year,\"is not a leap year.\")\n",
    "    else:\n",
    "        print(year,\"is a leap year.\")\n",
    "else:\n",
    "    print(year,\"is not a leap year.\")\n"
   ]
  },
  {
   "cell_type": "code",
   "execution_count": 7,
   "id": "79806abe",
   "metadata": {},
   "outputs": [
    {
     "name": "stdout",
     "output_type": "stream",
     "text": [
      "enter year:2000\n",
      "2000 loop year\n"
     ]
    }
   ],
   "source": [
    "year=int(input(\"enter year:\"))\n",
    "if ((year % 4) == 0 and (year % 100) != 0):\n",
    "    print(year,\"is a leap year\")\n",
    "else:\n",
    "    if ((year % 100) == 0) and ((year % 400) == 0):\n",
    "          print(year,\"loop year\")\n",
    "    else:\n",
    "       print(year,\"is not loop\")"
   ]
  },
  {
   "cell_type": "code",
   "execution_count": 8,
   "id": "ec8a37d0",
   "metadata": {},
   "outputs": [
    {
     "name": "stdout",
     "output_type": "stream",
     "text": [
      "enter year:2001\n",
      "2001 is not loop\n"
     ]
    }
   ],
   "source": [
    "year=int(input(\"enter year:\"))\n",
    "if ((year % 4) == 0) and ((year % 100) != 0) or ((year % 100) == 0) and ((year % 400) == 0):\n",
    "    print(year,\"is a leap year\")\n",
    "else:\n",
    "     print(year,\"is not loop\")"
   ]
  },
  {
   "cell_type": "code",
   "execution_count": 1,
   "id": "cdc2e41e",
   "metadata": {},
   "outputs": [
    {
     "name": "stdout",
     "output_type": "stream",
     "text": [
      "enter number:23\n",
      "number of digits= 2\n"
     ]
    }
   ],
   "source": [
    "# print number\n",
    "\n",
    "num=int(input(\"enter number:\"))\n",
    "digits = 0\n",
    "while num != 0:\n",
    "    num = num // 10;\n",
    "#     print(\"num = \",num)\n",
    "    digits = digits + 1\n",
    "print(\"number of digits=\",digits)\n"
   ]
  },
  {
   "cell_type": "code",
   "execution_count": 2,
   "id": "79e318ce",
   "metadata": {},
   "outputs": [
    {
     "name": "stdout",
     "output_type": "stream",
     "text": [
      "sum is: 56\n"
     ]
    }
   ],
   "source": [
    "# sum\n",
    "\n",
    "numbers=[12,23,1,2,5,6,7]\n",
    "totalsum = 0\n",
    "for val in numbers:\n",
    "    totalsum = totalsum + val\n",
    "print(\"sum is:\",totalsum)"
   ]
  },
  {
   "cell_type": "code",
   "execution_count": 2,
   "id": "548abad9",
   "metadata": {},
   "outputs": [
    {
     "name": "stdout",
     "output_type": "stream",
     "text": [
      "enter a number:5\n",
      "prime\n"
     ]
    }
   ],
   "source": [
    "# prime no using while\n",
    "num = int(input(\"enter a number:\"))\n",
    "count=2\n",
    "flag = True\n",
    "\n",
    "while(count > num):\n",
    "    \n",
    "        if num % count == 0:\n",
    "            flag = False\n",
    "        count=count+1  \n",
    "if flag == True:\n",
    "    print(\"prime\")\n",
    "else:\n",
    "    print(\" NOT prime\")\n",
    "\n",
    "\n"
   ]
  },
  {
   "cell_type": "code",
   "execution_count": 4,
   "id": "e5a8143e",
   "metadata": {},
   "outputs": [
    {
     "name": "stdout",
     "output_type": "stream",
     "text": [
      "1505 multiple of 5\n",
      "1540 multiple of 5\n",
      "1575 multiple of 5\n",
      "1610 multiple of 5\n",
      "1645 multiple of 5\n",
      "1680 multiple of 5\n",
      "1715 multiple of 5\n",
      "1750 multiple of 5\n",
      "1785 multiple of 5\n",
      "1820 multiple of 5\n",
      "1855 multiple of 5\n",
      "1890 multiple of 5\n",
      "1925 multiple of 5\n",
      "1960 multiple of 5\n",
      "1995 multiple of 5\n",
      "2030 multiple of 5\n",
      "2065 multiple of 5\n",
      "2100 multiple of 5\n",
      "2135 multiple of 5\n",
      "2170 multiple of 5\n",
      "2205 multiple of 5\n",
      "2240 multiple of 5\n",
      "2275 multiple of 5\n",
      "2310 multiple of 5\n",
      "2345 multiple of 5\n",
      "2380 multiple of 5\n",
      "2415 multiple of 5\n",
      "2450 multiple of 5\n",
      "2485 multiple of 5\n",
      "2520 multiple of 5\n",
      "2555 multiple of 5\n",
      "2590 multiple of 5\n",
      "2625 multiple of 5\n",
      "2660 multiple of 5\n",
      "2695 multiple of 5\n",
      "2699 divisible by 7\n"
     ]
    }
   ],
   "source": [
    "# num=int(input(\"enter a number:\"))\n",
    "for num in range(1500,2700):\n",
    "    if((num % 7) == 0):\n",
    "        if((num % 5) == 0):\n",
    "            print(num,\"multiple of 5\")\n",
    "print(num,\"divisible by 7\")\n",
    "    "
   ]
  },
  {
   "cell_type": "code",
   "execution_count": 4,
   "id": "1e528d91",
   "metadata": {},
   "outputs": [
    {
     "name": "stdout",
     "output_type": "stream",
     "text": [
      "['1505', '1540', '1575', '1610', '1645', '1680', '1715', '1750', '1785', '1820', '1855', '1890', '1925', '1960', '1995', '2030', '2065', '2100', '2135', '2170', '2205', '2240', '2275', '2310', '2345', '2380', '2415', '2450', '2485', '2520', '2555', '2590', '2625', '2660', '2695']\n"
     ]
    }
   ],
   "source": [
    "n1=[]\n",
    "for n in range (1500,2701):\n",
    "    if (n%7==0) and (n%5==0):\n",
    "        n1.append(str(n))\n",
    "print(n1)"
   ]
  },
  {
   "cell_type": "code",
   "execution_count": 8,
   "id": "e4300759",
   "metadata": {},
   "outputs": [
    {
     "name": "stdout",
     "output_type": "stream",
     "text": [
      "even number list: 5\n",
      "odd number: 5\n"
     ]
    }
   ],
   "source": [
    "# count of even or odd from series\n",
    "\n",
    "n = [1,2,3,4,5,6,7,8,9,10]\n",
    "oddcount=0\n",
    "evencount=0\n",
    "for i in n: \n",
    "    if i % 2 == 0:\n",
    "        evencount=evencount+1\n",
    "        \n",
    "    else:\n",
    "        oddcount=oddcount+1\n",
    "print(\"even number list:\",evencount)\n",
    "print(\"odd number:\",oddcount)"
   ]
  },
  {
   "cell_type": "code",
   "execution_count": 4,
   "id": "ecc4df19",
   "metadata": {},
   "outputs": [
    {
     "name": "stdout",
     "output_type": "stream",
     "text": [
      "program to verify if a given number is prime\n",
      "enter the number:45\n",
      "not prime divisible by 3\n"
     ]
    }
   ],
   "source": [
    "print(\"program to verify if a given number is prime\")\n",
    "n=int(input(\"enter the number:\"))\n",
    "for div in range(2,n):\n",
    "    if n % div == 0:\n",
    "        print(\"not prime divisible by\",div)\n",
    "        break\n",
    "else:\n",
    "    print(\"prime\")"
   ]
  },
  {
   "cell_type": "code",
   "execution_count": 5,
   "id": "9b369d3c",
   "metadata": {},
   "outputs": [
    {
     "name": "stdout",
     "output_type": "stream",
     "text": [
      "enter lower range:3\n",
      "enter upper range:7\n",
      "prime numbers between 3 and 7 are:\n",
      "3\n",
      "5\n",
      "7\n"
     ]
    }
   ],
   "source": [
    "# nested\n",
    "\n",
    "lower=int(input(\"enter lower range:\"))\n",
    "upper=int(input(\"enter upper range:\"))\n",
    "print(\"prime numbers between\",lower,\"and\",upper,\"are:\")\n",
    "for num in range(lower,upper+1):\n",
    "    if num > 1:\n",
    "        for i in range(2,num):\n",
    "            if (num % i) == 0:\n",
    "                break\n",
    "        else:\n",
    "            print(num)"
   ]
  },
  {
   "cell_type": "code",
   "execution_count": 8,
   "id": "ffe0bf00",
   "metadata": {},
   "outputs": [
    {
     "name": "stdout",
     "output_type": "stream",
     "text": [
      "Not prime.Divisible by 2\n"
     ]
    }
   ],
   "source": [
    "# while with else\n",
    "\n",
    "n=6\n",
    "i=2\n",
    "while i < n:\n",
    "    if(n % i == 0):\n",
    "        print('Not prime.Divisible by',i)\n",
    "        break\n",
    "    i=i+1\n",
    "else:\n",
    "    print(\"Number is prime\")"
   ]
  },
  {
   "cell_type": "code",
   "execution_count": null,
   "id": "a47eb0f3",
   "metadata": {},
   "outputs": [],
   "source": []
  },
  {
   "cell_type": "code",
   "execution_count": null,
   "id": "ceccd323",
   "metadata": {},
   "outputs": [],
   "source": []
  }
 ],
 "metadata": {
  "kernelspec": {
   "display_name": "Python 3 (ipykernel)",
   "language": "python",
   "name": "python3"
  },
  "language_info": {
   "codemirror_mode": {
    "name": "ipython",
    "version": 3
   },
   "file_extension": ".py",
   "mimetype": "text/x-python",
   "name": "python",
   "nbconvert_exporter": "python",
   "pygments_lexer": "ipython3",
   "version": "3.9.7"
  }
 },
 "nbformat": 4,
 "nbformat_minor": 5
}
