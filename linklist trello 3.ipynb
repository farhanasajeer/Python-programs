{
 "cells": [
  {
   "cell_type": "code",
   "execution_count": 2,
   "id": "344bbd56",
   "metadata": {},
   "outputs": [
    {
     "name": "stdout",
     "output_type": "stream",
     "text": [
      "1 2 3 "
     ]
    }
   ],
   "source": [
    "# create linkdlist\n",
    "class Node:\n",
    "    def __init__(self,item):\n",
    "        self.item=item\n",
    "        self.next=None\n",
    "class LinkedList:\n",
    "    def __init__(self):\n",
    "        self.head=None\n",
    "if __name__=='__main__':\n",
    "    linked_list= LinkedList()\n",
    "    linked_list.head=Node(1)\n",
    "    second=Node(2)\n",
    "    third=Node(3)\n",
    "    \n",
    "#     connect nodes\n",
    "    linked_list.head.next=second\n",
    "    second.next=third\n",
    "    \n",
    "#     printlinkdlistitm\n",
    "    while linked_list.head != None:\n",
    "        print(linked_list.head.item,end=\" \")\n",
    "        linked_list.head=linked_list.head.next\n",
    "    \n",
    "    "
   ]
  },
  {
   "cell_type": "code",
   "execution_count": 5,
   "id": "b8f0a4ff",
   "metadata": {},
   "outputs": [
    {
     "name": "stdout",
     "output_type": "stream",
     "text": [
      "List: [1, 2, 3]\n",
      "Updated list: [1, 2, 3]\n"
     ]
    }
   ],
   "source": [
    "# reverse\n",
    "num = [1,2,3]\n",
    "print('List:', num)\n",
    "systems.reverse()\n",
    "print('Updated list:', num)"
   ]
  },
  {
   "cell_type": "code",
   "execution_count": 10,
   "id": "301f96e0",
   "metadata": {},
   "outputs": [
    {
     "name": "stdout",
     "output_type": "stream",
     "text": [
      "Please enter the elements in the linked list: 1 2 3 4 56 7\n",
      "The reversed list: \n",
      "7 56 4 3 2 1 "
     ]
    }
   ],
   "source": [
    "class Node:\n",
    "    def __init__(self, data):\n",
    "        self.data = data\n",
    "        self.next = None\n",
    " \n",
    " \n",
    "class LinkedList:\n",
    "    def __init__(self):\n",
    "        self.head = None\n",
    "        self.last_node = None\n",
    " \n",
    "    def append(self, data):\n",
    "        if self.last_node is None:\n",
    "            self.head = Node(data)\n",
    "            self.last_node = self.head\n",
    "        else:\n",
    "            self.last_node.next = Node(data)\n",
    "            self.last_node = self.last_node.next\n",
    " \n",
    "    def display(self):\n",
    "        current = self.head\n",
    "        while current:\n",
    "            print(current.data, end = ' ')\n",
    "            current = current.next\n",
    " \n",
    " \n",
    "def reverse_llist(llist):\n",
    "    before = None\n",
    "    current = llist.head\n",
    "    if current is None:\n",
    "        return\n",
    "    after = current.next\n",
    "    while after:\n",
    "        current.next = before\n",
    "        before = current\n",
    "        current = after\n",
    "        after = after.next\n",
    "    current.next = before\n",
    "    llist.head = current\n",
    " \n",
    " \n",
    "a_llist = LinkedList()\n",
    " \n",
    "data_list = input('Please enter the elements in the linked list: ').split()\n",
    "for data in data_list:\n",
    "    a_llist.append(int(data))\n",
    " \n",
    "reverse_llist(a_llist)\n",
    " \n",
    "print('The reversed list: ')\n",
    "a_llist.display()"
   ]
  },
  {
   "cell_type": "code",
   "execution_count": null,
   "id": "a04a4734",
   "metadata": {},
   "outputs": [],
   "source": []
  }
 ],
 "metadata": {
  "kernelspec": {
   "display_name": "Python 3 (ipykernel)",
   "language": "python",
   "name": "python3"
  },
  "language_info": {
   "codemirror_mode": {
    "name": "ipython",
    "version": 3
   },
   "file_extension": ".py",
   "mimetype": "text/x-python",
   "name": "python",
   "nbconvert_exporter": "python",
   "pygments_lexer": "ipython3",
   "version": "3.9.7"
  }
 },
 "nbformat": 4,
 "nbformat_minor": 5
}
