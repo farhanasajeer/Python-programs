{
 "cells": [
  {
   "cell_type": "code",
   "execution_count": 4,
   "id": "ec7b20df",
   "metadata": {},
   "outputs": [
    {
     "name": "stdout",
     "output_type": "stream",
     "text": [
      "Enter the number of elements to be in the list:8\n",
      "Element: 1\n",
      "Element: 2\n",
      "Element: 3\n",
      "Element: 4\n",
      "Element: -9\n",
      "Element: -7\n",
      "Element: -5\n",
      "Element: 5\n",
      "Sum of all positive even numbers: 6\n",
      "Sum of all positive odd numbers: 9\n",
      "Sum of all negative numbers: -21\n"
     ]
    }
   ],
   "source": [
    "# pgm sum of pstv even no negatv no pstv odd no\n",
    "n=int(input(\"Enter the number of elements to be in the list:\"))\n",
    "b=[]\n",
    "for i in range(0,n):\n",
    "    a=int(input(\"Element: \"))\n",
    "    b.append(a)\n",
    "sum1=0\n",
    "sum2=0\n",
    "sum3=0\n",
    "for j in b:\n",
    "    if(j>0):\n",
    "        if(j%2==0):\n",
    "            sum1=sum1+j\n",
    "        else:\n",
    "            sum2=sum2+j\n",
    "    else:\n",
    "        sum3=sum3+j\n",
    "print(\"Sum of all positive even numbers:\",sum1)\n",
    "print(\"Sum of all positive odd numbers:\",sum2)\n",
    "print(\"Sum of all negative numbers:\",sum3)"
   ]
  },
  {
   "cell_type": "code",
   "execution_count": 6,
   "id": "f7003def",
   "metadata": {},
   "outputs": [
    {
     "name": "stdout",
     "output_type": "stream",
     "text": [
      "The list is :\n",
      "[1, 2, 3, 11, 34, 52, 78]\n",
      "The length of the string is : \n",
      "7\n"
     ]
    }
   ],
   "source": [
    "# leng of list usng recursion\n",
    "def list_length(my_list):\n",
    "    if not my_list:\n",
    "        return 0\n",
    "    return 1 + list_length(my_list[1::2]) + list_length(my_list[2::2])\n",
    "my_list = [1, 2, 3, 11, 34, 52, 78]\n",
    "print(\"The list is :\")\n",
    "print(my_list)\n",
    "print(\"The length of the string is : \")\n",
    "print(list_length(my_list))"
   ]
  },
  {
   "cell_type": "code",
   "execution_count": 9,
   "id": "71d3c331",
   "metadata": {},
   "outputs": [
    {
     "name": "stdout",
     "output_type": "stream",
     "text": [
      "given list is: [1, 2, 3, 4, 5, 6, 7]\n",
      "length of list is: 7\n"
     ]
    }
   ],
   "source": [
    "# length of list\n",
    "list=[1,2,3,4,5,6,7]\n",
    "list[1::2]+list[2::2]\n",
    "print(\"given list is:\",list)\n",
    "print(\"length of list is:\",len(list))"
   ]
  },
  {
   "cell_type": "code",
   "execution_count": 10,
   "id": "364c0d52",
   "metadata": {},
   "outputs": [
    {
     "name": "stdout",
     "output_type": "stream",
     "text": [
      "Enter string:FaRhana\n",
      "The number of lowercase characters is:\n",
      "5\n"
     ]
    }
   ],
   "source": [
    "# lowercase\n",
    "string=input(\"Enter string:\")\n",
    "count=0\n",
    "for i in string:\n",
    "      if(i.islower()):\n",
    "            count=count+1\n",
    "print(\"The number of lowercase characters is:\")\n",
    "print(count)"
   ]
  },
  {
   "cell_type": "code",
   "execution_count": 11,
   "id": "752cd134",
   "metadata": {},
   "outputs": [
    {
     "name": "stdout",
     "output_type": "stream",
     "text": [
      "enter a string:FARHana\n",
      "upper case: 4\n"
     ]
    }
   ],
   "source": [
    "string=input(\"enter a string:\")\n",
    "count=0\n",
    "for i in string:\n",
    "    if(i.isupper()):\n",
    "        count=count+1\n",
    "print(\"upper case:\",count)"
   ]
  },
  {
   "cell_type": "code",
   "execution_count": 18,
   "id": "8d77f135",
   "metadata": {},
   "outputs": [
    {
     "data": {
      "text/plain": [
       "{'f', 's'}"
      ]
     },
     "execution_count": 18,
     "metadata": {},
     "output_type": "execute_result"
    }
   ],
   "source": [
    "# program that display letters are in 2 string but not in both\n",
    "\n",
    "a=set(['a','b','f','s','l'])\n",
    "b=set(['l','b','a'])\n",
    "a.difference_update(b)\n",
    "a"
   ]
  },
  {
   "cell_type": "code",
   "execution_count": 6,
   "id": "b5ae37c5",
   "metadata": {},
   "outputs": [
    {
     "name": "stdout",
     "output_type": "stream",
     "text": [
      "3\n"
     ]
    }
   ],
   "source": [
    "\n",
    "# find element occurng odd no of time in a list\n",
    "\n",
    "def odd(list,size):\n",
    "     \n",
    "    for i in range(0,size):\n",
    "        count = 0\n",
    "        for j in range(0, size):\n",
    "            if list[i] == list[j]:\n",
    "                count+=1\n",
    "             \n",
    "        if (count % 2 != 0):\n",
    "            return list[i]\n",
    "    return -1\n",
    "list = [3,5,7,4]\n",
    "n = len(list)\n",
    "print(odd(list, n))\n",
    " "
   ]
  },
  {
   "cell_type": "code",
   "execution_count": 26,
   "id": "b9aa3ab3",
   "metadata": {},
   "outputs": [
    {
     "name": "stdout",
     "output_type": "stream",
     "text": [
      "fraa\n"
     ]
    }
   ],
   "source": [
    "# remove odd value index in string\n",
    "\n",
    "def oddvalue(string):\n",
    "    result=\"\"\n",
    "    for i in range(len(string)):\n",
    "        if i % 2 == 0:\n",
    "            result=result+string[i]\n",
    "    return result\n",
    "print(oddvalue('farhana'))\n",
    "            \n",
    "\n"
   ]
  },
  {
   "cell_type": "code",
   "execution_count": 30,
   "id": "18d2360c",
   "metadata": {},
   "outputs": [
    {
     "name": "stdout",
     "output_type": "stream",
     "text": [
      "Enter string:farhana\n",
      "f : ['farhana']\n"
     ]
    }
   ],
   "source": [
    "\n",
    "test_string=input(\"Enter string:\")\n",
    "l=test_string.split()\n",
    "d={}\n",
    "for word in l:\n",
    "    if(word[0] not in d.keys()):\n",
    "        d[word[0]]=[]\n",
    "        d[word[0]].append(word)\n",
    "    else:\n",
    "        if(word not in d[word[0]]):\n",
    "            d[word[0]].append(word)\n",
    "for k,v in d.items():\n",
    "        print(k,\":\",v)"
   ]
  },
  {
   "cell_type": "code",
   "execution_count": 10,
   "id": "00ba4944",
   "metadata": {},
   "outputs": [
    {
     "name": "stdout",
     "output_type": "stream",
     "text": [
      "enter lower limit:1\n",
      "enter upper limit:50\n",
      "1\n",
      "5\n",
      "7\n",
      "11\n",
      "13\n",
      "17\n",
      "19\n",
      "23\n",
      "25\n",
      "29\n",
      "31\n",
      "35\n",
      "37\n",
      "41\n",
      "43\n",
      "47\n",
      "49\n"
     ]
    }
   ],
   "source": [
    "# print integers that not divisible by 2,3 lie bw 1-50\n",
    "lowerrange=int(input(\"enter lower limit:\"))\n",
    "upperrange=int(input(\"enter upper limit:\"))\n",
    "for i in range(lowerrange,upperrange):\n",
    "    if(i % 2 != 0 and i % 3 != 0 ):\n",
    "        print(i)"
   ]
  },
  {
   "cell_type": "code",
   "execution_count": null,
   "id": "2e637397",
   "metadata": {},
   "outputs": [],
   "source": [
    "n=[1,2,3,4,5,6,7,-9,-8,-6]\n",
    "even=0\n",
    "negative=0\n",
    "odd=0\n",
    "for i in n:\n",
    "    "
   ]
  },
  {
   "cell_type": "code",
   "execution_count": null,
   "id": "09ac5e51",
   "metadata": {},
   "outputs": [],
   "source": []
  }
 ],
 "metadata": {
  "kernelspec": {
   "display_name": "Python 3 (ipykernel)",
   "language": "python",
   "name": "python3"
  },
  "language_info": {
   "codemirror_mode": {
    "name": "ipython",
    "version": 3
   },
   "file_extension": ".py",
   "mimetype": "text/x-python",
   "name": "python",
   "nbconvert_exporter": "python",
   "pygments_lexer": "ipython3",
   "version": "3.9.7"
  }
 },
 "nbformat": 4,
 "nbformat_minor": 5
}
