{
 "cells": [
  {
   "cell_type": "code",
   "execution_count": 1,
   "id": "080a9e7b",
   "metadata": {},
   "outputs": [
    {
     "name": "stdout",
     "output_type": "stream",
     "text": [
      "enter a number5\n",
      "factorial of 5 is 120\n"
     ]
    }
   ],
   "source": [
    "num = int(input(\"enter a number\"))\n",
    "factorial = 1\n",
    "if num < 0:\n",
    "    print(\"factorial not exist in negative\")\n",
    "elif num == 0:\n",
    "    print(\"factorial 0 is 1\")\n",
    "else:\n",
    "    for i in range(1,num+1):\n",
    "     factorial = factorial*i\n",
    "    print(\"factorial of\",num,\"is\",factorial)"
   ]
  },
  {
   "cell_type": "code",
   "execution_count": 2,
   "id": "42c48304",
   "metadata": {},
   "outputs": [
    {
     "name": "stdout",
     "output_type": "stream",
     "text": [
      "enter the range4\n",
      "fibonacci series:\n",
      "0\n",
      "1\n",
      "1\n",
      "2\n"
     ]
    }
   ],
   "source": [
    "num = int(input(\"enter the range\"))\n",
    "n1=0\n",
    "n2=1\n",
    "count=0\n",
    "if num < 0:\n",
    "    print(\"enter positive integer\")\n",
    "elif num == 0:\n",
    "    print(\"fibonacci series\",num)\n",
    "    print(n1)\n",
    "else:\n",
    "    print(\"fibonacci series:\")\n",
    "    while count < num:\n",
    "        print(n1)\n",
    "        n=n1+n2\n",
    "        n1=n2\n",
    "        n2=n\n",
    "        count += 1"
   ]
  },
  {
   "cell_type": "code",
   "execution_count": 1,
   "id": "da385342",
   "metadata": {},
   "outputs": [
    {
     "name": "stdout",
     "output_type": "stream",
     "text": [
      "enter a number:45667\n",
      "sum of the given number is: 1042760278\n"
     ]
    }
   ],
   "source": [
    "n = int(input(\"enter a number:\"))\n",
    "sum = 0\n",
    "for i in range(1, n+1):\n",
    "    sum = sum + i\n",
    "print(\"sum of the given number is:\",sum)"
   ]
  },
  {
   "cell_type": "code",
   "execution_count": 4,
   "id": "81587d83",
   "metadata": {},
   "outputs": [
    {
     "name": "stdout",
     "output_type": "stream",
     "text": [
      "enter a number:5\n",
      "5 is a prime number\n"
     ]
    }
   ],
   "source": [
    "num = int(input(\"enter a number:\"))\n",
    "flag = False\n",
    "if num > 1:\n",
    "    for i in range(2, num):\n",
    "        if (num % i) == 0:\n",
    "            flag = True\n",
    "            break\n",
    "if flag:\n",
    "     print(num,\"is not a prime number\")\n",
    "else:\n",
    "     print(num,\"is a prime number\")"
   ]
  },
  {
   "cell_type": "code",
   "execution_count": 3,
   "id": "6a2f356c",
   "metadata": {},
   "outputs": [
    {
     "name": "stdout",
     "output_type": "stream",
     "text": [
      "enter a number78\n",
      "78 not armstrong\n"
     ]
    }
   ],
   "source": [
    "num = int(input(\"enter a number\"))\n",
    "sum = 0\n",
    "temp = num\n",
    "while temp>0:\n",
    "    digit = temp % 10\n",
    "    sum += digit ** 3\n",
    "    temp //= 10\n",
    "if num == sum:\n",
    "    print(num,\"armstong number\")\n",
    "else:\n",
    "    print(num,\"not armstrong\")"
   ]
  },
  {
   "cell_type": "code",
   "execution_count": 4,
   "id": "8caf05e9",
   "metadata": {},
   "outputs": [
    {
     "name": "stdout",
     "output_type": "stream",
     "text": [
      "enter defined rows:6\n",
      " *  \n",
      "\n",
      " *   *  \n",
      "\n",
      " *   *   *  \n",
      "\n",
      " *   *   *   *  \n",
      "\n",
      " *   *   *   *   *  \n",
      "\n",
      " *   *   *   *   *   *  \n",
      "\n"
     ]
    }
   ],
   "source": [
    "rows = int(input(\"enter defined rows:\"))\n",
    "for i in range(rows):\n",
    "    for j in range(i+1):\n",
    "        print(\" * \",end=\" \")\n",
    "    print(\"\\n\")\n"
   ]
  },
  {
   "cell_type": "code",
   "execution_count": 5,
   "id": "0fac1dea",
   "metadata": {},
   "outputs": [
    {
     "name": "stdout",
     "output_type": "stream",
     "text": [
      "enter defined rows:10\n",
      "         *  \n",
      "        * *  \n",
      "       * * *  \n",
      "      * * * *  \n",
      "     * * * * *  \n",
      "    * * * * * *  \n",
      "   * * * * * * *  \n",
      "  * * * * * * * *  \n",
      " * * * * * * * * *  \n",
      "* * * * * * * * * *  \n"
     ]
    }
   ],
   "source": [
    "rows=int(input(\"enter defined rows:\"))\n",
    "a = 0\n",
    "for i in range(1,rows+1):\n",
    "    for space in range(1, (rows-i)+1):\n",
    "        print(end=\" \")\n",
    "        \n",
    "    while a!=(1*i):\n",
    "        print(\"*\",end=\" \")\n",
    "        a += 1\n",
    "            \n",
    "    a = 0\n",
    "    print(\" \")"
   ]
  },
  {
   "cell_type": "code",
   "execution_count": null,
   "id": "9438c52b",
   "metadata": {},
   "outputs": [],
   "source": []
  },
  {
   "cell_type": "code",
   "execution_count": null,
   "id": "324d4c87",
   "metadata": {},
   "outputs": [],
   "source": []
  },
  {
   "cell_type": "code",
   "execution_count": null,
   "id": "a4865975",
   "metadata": {},
   "outputs": [],
   "source": []
  },
  {
   "cell_type": "code",
   "execution_count": null,
   "id": "31836581",
   "metadata": {},
   "outputs": [],
   "source": []
  },
  {
   "cell_type": "code",
   "execution_count": null,
   "id": "ba8f877d",
   "metadata": {},
   "outputs": [],
   "source": []
  }
 ],
 "metadata": {
  "kernelspec": {
   "display_name": "Python 3 (ipykernel)",
   "language": "python",
   "name": "python3"
  },
  "language_info": {
   "codemirror_mode": {
    "name": "ipython",
    "version": 3
   },
   "file_extension": ".py",
   "mimetype": "text/x-python",
   "name": "python",
   "nbconvert_exporter": "python",
   "pygments_lexer": "ipython3",
   "version": "3.9.7"
  }
 },
 "nbformat": 4,
 "nbformat_minor": 5
}
