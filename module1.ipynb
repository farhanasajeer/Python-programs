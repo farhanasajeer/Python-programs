{
 "cells": [
  {
   "cell_type": "code",
   "execution_count": 12,
   "id": "5014498d",
   "metadata": {},
   "outputs": [
    {
     "name": "stdout",
     "output_type": "stream",
     "text": [
      "shirin far  \n"
     ]
    }
   ],
   "source": [
    "firstname=' far'\n",
    "lastname='shirin'\n",
    "fullname = lastname + firstname\n",
    "print(fullname)"
   ]
  },
  {
   "cell_type": "code",
   "execution_count": 30,
   "id": "4b44b407",
   "metadata": {},
   "outputs": [
    {
     "data": {
      "text/plain": [
       "{1, 3}"
      ]
     },
     "execution_count": 30,
     "metadata": {},
     "output_type": "execute_result"
    }
   ],
   "source": [
    "a=set([1,2,3,4])\n",
    "b=set([9,8,1,3])\n",
    "a.intersection(b)"
   ]
  },
  {
   "cell_type": "code",
   "execution_count": 4,
   "id": "0047ceda",
   "metadata": {},
   "outputs": [
    {
     "name": "stdout",
     "output_type": "stream",
     "text": [
      "h\n",
      "i\n"
     ]
    }
   ],
   "source": [
    "a = 'hi'\n",
    "for i in a:\n",
    "    print(i)"
   ]
  },
  {
   "cell_type": "code",
   "execution_count": 60,
   "id": "af85a513",
   "metadata": {},
   "outputs": [
    {
     "name": "stdout",
     "output_type": "stream",
     "text": [
      "id is 1  \n",
      "name is farhana  \n",
      "clas is 5 \n"
     ]
    }
   ],
   "source": [
    "class student:\n",
    "    def __init__(self,id,name,clas):\n",
    "        self.id=id\n",
    "        self.name=name    \n",
    "        self.clas=clas\n",
    "a=student(1,'farhana',5)\n",
    "print(\"id is {}  \\nname is {}  \\nclas is {} \".format(a.id,a.name,a.clas))\n"
   ]
  },
  {
   "cell_type": "code",
   "execution_count": 61,
   "id": "d88aa6c1",
   "metadata": {},
   "outputs": [
    {
     "name": "stdout",
     "output_type": "stream",
     "text": [
      "enter 1st no:3\n",
      "enter 2nd no:2\n",
      "enter 3rd no:1\n",
      "6\n"
     ]
    }
   ],
   "source": [
    "a=int(input(\"enter 1st no:\"))\n",
    "b=int(input(\"enter 2nd no:\"))\n",
    "c=int(input(\"enter 3rd no:\"))\n",
    "d=a+b+c\n",
    "if d == (a,b,c):\n",
    "    \n",
    "    d * 3\n",
    "    print(d*3)\n",
    "else:\n",
    "     print(d)"
   ]
  },
  {
   "cell_type": "markdown",
   "id": "bb723516",
   "metadata": {},
   "source": [
    "### def multiply(a):\n",
    "    total=1\n",
    "    for i in a:\n",
    "        total=total*i\n",
    "    return total\n",
    "print(multiply((1,2,2,3,4)))\n"
   ]
  },
  {
   "cell_type": "code",
   "execution_count": 14,
   "id": "bf73c19b",
   "metadata": {},
   "outputs": [
    {
     "name": "stdout",
     "output_type": "stream",
     "text": [
      "student details: \n",
      "name:farhana \n",
      "id:1 \n"
     ]
    }
   ],
   "source": [
    "class student:\n",
    "    def __init__(self,name,id):\n",
    "        self.name=name\n",
    "        self.id=id \n",
    "    def classs(self):\n",
    "        pass\n",
    "s=student(\"farhana\",1)\n",
    "print(\"student details: \\nname:{} \\nid:{} \".format(s.name,s.id))"
   ]
  },
  {
   "cell_type": "code",
   "execution_count": 17,
   "id": "911de08b",
   "metadata": {},
   "outputs": [
    {
     "name": "stdout",
     "output_type": "stream",
     "text": [
      "enter numbers:123\n",
      "list: list['1,2,3']\n",
      "tuple ('1,2,3',)\n"
     ]
    }
   ],
   "source": [
    "num=(input(\"enter numbers:\"))\n",
    "x=list[\",\".join(num)]\n",
    "y=tuple([\",\".join(num)])\n",
    "print(\"list:\",x)\n",
    "print(\"tuple\",y)"
   ]
  },
  {
   "cell_type": "code",
   "execution_count": 22,
   "id": "3d546b70",
   "metadata": {},
   "outputs": [
    {
     "data": {
      "text/plain": [
       "{'black', 'blue', 'white'}"
      ]
     },
     "execution_count": 22,
     "metadata": {},
     "output_type": "execute_result"
    }
   ],
   "source": [
    "colorlist1=set([\"blue\",\"white\",\"red\",\"black\"])\n",
    "colorlist2=set([\"navyblue\",\"yellow\",\"red\",\"brown\"])\n",
    "colorlist1-colorlist2"
   ]
  },
  {
   "cell_type": "code",
   "execution_count": 42,
   "id": "a638c3e2",
   "metadata": {},
   "outputs": [
    {
     "name": "stdout",
     "output_type": "stream",
     "text": [
      "10\n"
     ]
    }
   ],
   "source": [
    "# inside\n",
    "def a():\n",
    "    a=10\n",
    "    print(a)\n",
    "a()   "
   ]
  },
  {
   "cell_type": "code",
   "execution_count": 33,
   "id": "0f4f8867",
   "metadata": {},
   "outputs": [
    {
     "name": "stdout",
     "output_type": "stream",
     "text": [
      "24\n"
     ]
    }
   ],
   "source": [
    "def multiply(a):\n",
    "    total=1\n",
    "    for i in a:\n",
    "        total=total*i\n",
    "    return total\n",
    "\n",
    "print(multiply((1,2,3,4)))"
   ]
  },
  {
   "cell_type": "code",
   "execution_count": 93,
   "id": "e50bb151",
   "metadata": {},
   "outputs": [
    {
     "name": "stdout",
     "output_type": "stream",
     "text": [
      "farhan shirin\n"
     ]
    }
   ],
   "source": [
    "a='farhan'\n",
    "b='shirin'\n",
    "a[::-1]==b[::-1]\n",
    "b[::-2]==a[::-2]\n",
    "fullname=a + ' ' + b\n",
    "print(fullname)"
   ]
  },
  {
   "cell_type": "code",
   "execution_count": null,
   "id": "8468623b",
   "metadata": {},
   "outputs": [],
   "source": []
  }
 ],
 "metadata": {
  "kernelspec": {
   "display_name": "Python 3 (ipykernel)",
   "language": "python",
   "name": "python3"
  },
  "language_info": {
   "codemirror_mode": {
    "name": "ipython",
    "version": 3
   },
   "file_extension": ".py",
   "mimetype": "text/x-python",
   "name": "python",
   "nbconvert_exporter": "python",
   "pygments_lexer": "ipython3",
   "version": "3.9.7"
  }
 },
 "nbformat": 4,
 "nbformat_minor": 5
}
