{
 "cells": [
  {
   "cell_type": "code",
   "execution_count": 1,
   "id": "d0647275",
   "metadata": {},
   "outputs": [
    {
     "data": {
      "text/plain": [
       "'hi'"
      ]
     },
     "execution_count": 1,
     "metadata": {},
     "output_type": "execute_result"
    }
   ],
   "source": [
    "word=str('Hi')\n",
    "str.lower(word)"
   ]
  },
  {
   "cell_type": "code",
   "execution_count": 2,
   "id": "ce9b7fa0",
   "metadata": {},
   "outputs": [
    {
     "data": {
      "text/plain": [
       "'AM HERE'"
      ]
     },
     "execution_count": 2,
     "metadata": {},
     "output_type": "execute_result"
    }
   ],
   "source": [
    "word=str('am here')\n",
    "str.upper(word)"
   ]
  },
  {
   "cell_type": "code",
   "execution_count": 4,
   "id": "08322363",
   "metadata": {},
   "outputs": [
    {
     "data": {
      "text/plain": [
       "'hI AM cOMING FRoM kERALA'"
      ]
     },
     "execution_count": 4,
     "metadata": {},
     "output_type": "execute_result"
    }
   ],
   "source": [
    "word='Hi am Coming frOm Kerala'\n",
    "str.swapcase(word)"
   ]
  },
  {
   "cell_type": "code",
   "execution_count": 5,
   "id": "75499e54",
   "metadata": {},
   "outputs": [
    {
     "data": {
      "text/plain": [
       "'Good  Morning Everyone'"
      ]
     },
     "execution_count": 5,
     "metadata": {},
     "output_type": "execute_result"
    }
   ],
   "source": [
    "word='good  morning everyone'\n",
    "str.title(word)"
   ]
  },
  {
   "cell_type": "code",
   "execution_count": 10,
   "id": "5d761cea",
   "metadata": {},
   "outputs": [
    {
     "data": {
      "text/plain": [
       "'Hi good after noon'"
      ]
     },
     "execution_count": 10,
     "metadata": {},
     "output_type": "execute_result"
    }
   ],
   "source": [
    "word='hi good after noon'\n",
    "str.capitalize(word)"
   ]
  },
  {
   "cell_type": "code",
   "execution_count": 12,
   "id": "769392e7",
   "metadata": {},
   "outputs": [
    {
     "name": "stdout",
     "output_type": "stream",
     "text": [
      "enter a string:hi hello\n"
     ]
    },
    {
     "data": {
      "text/plain": [
       "'HI HELLO'"
      ]
     },
     "execution_count": 12,
     "metadata": {},
     "output_type": "execute_result"
    }
   ],
   "source": [
    "word=str(input(\"enter a string:\"))\n",
    "str.upper(word)"
   ]
  },
  {
   "cell_type": "code",
   "execution_count": 13,
   "id": "cc70f2ec",
   "metadata": {},
   "outputs": [
    {
     "name": "stdout",
     "output_type": "stream",
     "text": [
      "enter a string:hI am here Where ARE yu\n"
     ]
    },
    {
     "data": {
      "text/plain": [
       "'Hi AM HERE wHERE are YU'"
      ]
     },
     "execution_count": 13,
     "metadata": {},
     "output_type": "execute_result"
    }
   ],
   "source": [
    "word=str(input(\"enter a string:\"))\n",
    "str.swapcase(word)"
   ]
  },
  {
   "cell_type": "code",
   "execution_count": 24,
   "id": "118eb0d0",
   "metadata": {},
   "outputs": [
    {
     "name": "stdout",
     "output_type": "stream",
     "text": [
      "enter a string:hi hello good morning\n",
      "largest word of a string is: morning\n",
      "smallest word of a string is: hi\n"
     ]
    }
   ],
   "source": [
    "word=str(input(\"enter a string:\"))\n",
    "largest=max(word.split(),key=len)\n",
    "smallest=min(word.split(),key=len)\n",
    "print(\"largest word of a string is:\",largest)\n",
    "print(\"smallest word of a string is:\",smallest)\n"
   ]
  },
  {
   "cell_type": "code",
   "execution_count": 42,
   "id": "ab2c47e7",
   "metadata": {},
   "outputs": [
    {
     "name": "stdout",
     "output_type": "stream",
     "text": [
      "enter a string:am here for ye\n",
      "number of vowels in given string is 5\n"
     ]
    }
   ],
   "source": [
    "word=str(input(\"enter a string:\"))\n",
    "vowels=0\n",
    "for i in word:\n",
    "    if(i=='a' or i=='e' or i=='i' or i=='o' or i=='u'):\n",
    "        vowels= vowels + 1\n",
    "print(\"number of vowels in given string is\",vowels)"
   ]
  },
  {
   "cell_type": "code",
   "execution_count": 43,
   "id": "6c5d88b5",
   "metadata": {},
   "outputs": [
    {
     "name": "stdout",
     "output_type": "stream",
     "text": [
      "here occured 1 times\n"
     ]
    }
   ],
   "source": [
    "mainStr=\"hi hello from here hi\"\n",
    "subStr=\"here\"\n",
    "res=mainStr.count(subStr)\n",
    "print(subStr,'occured',res,'times')"
   ]
  },
  {
   "cell_type": "code",
   "execution_count": 45,
   "id": "a6f2b86d",
   "metadata": {},
   "outputs": [
    {
     "name": "stdout",
     "output_type": "stream",
     "text": [
      "enter a string:where are you\n",
      "split words are: ['where', 'are', 'you']\n"
     ]
    }
   ],
   "source": [
    "word=str(input(\"enter a string:\"))\n",
    "word=(word.split())\n",
    "print(\"split words are:\",word)"
   ]
  },
  {
   "cell_type": "code",
   "execution_count": 5,
   "id": "1f7fff64",
   "metadata": {},
   "outputs": [
    {
     "name": "stdout",
     "output_type": "stream",
     "text": [
      "enter a stringgoodmorning\n",
      "joined string is: g-o-o-d-m-o-r-n-i-n-g\n"
     ]
    }
   ],
   "source": [
    "word=str(input(\"enter a string:\"))\n",
    "word=\"-\".join(word)\n",
    "print(\"joined string is:\",word)"
   ]
  },
  {
   "cell_type": "code",
   "execution_count": 8,
   "id": "662a6be8",
   "metadata": {},
   "outputs": [
    {
     "name": "stdout",
     "output_type": "stream",
     "text": [
      "joined numbers is: 124578\n"
     ]
    }
   ],
   "source": [
    "number=[1,2,45,7,8]\n",
    "number=\"\".join(map(str,number))\n",
    "print(\"joined numbers is:\",number)"
   ]
  },
  {
   "cell_type": "code",
   "execution_count": 14,
   "id": "171cd211",
   "metadata": {},
   "outputs": [
    {
     "name": "stdout",
     "output_type": "stream",
     "text": [
      "farhana shrn\n"
     ]
    }
   ],
   "source": [
    "word=\"farhana shirin\"\n",
    "print(word.replace('i',''))"
   ]
  },
  {
   "cell_type": "code",
   "execution_count": 20,
   "id": "2a714d3d",
   "metadata": {},
   "outputs": [
    {
     "name": "stdout",
     "output_type": "stream",
     "text": [
      "dlroW olleH\n"
     ]
    }
   ],
   "source": [
    "txt = \"Hello World\"[::-1]\n",
    "print(txt)"
   ]
  },
  {
   "cell_type": "code",
   "execution_count": 23,
   "id": "fecb6780",
   "metadata": {},
   "outputs": [
    {
     "name": "stdout",
     "output_type": "stream",
     "text": [
      "joined string is: e#n#t#e#r# #a# #s#t#r#i#n#g#:\n"
     ]
    }
   ],
   "source": [
    "word=\"enter a string:\"\n",
    "word=\"#\".join(word)\n",
    "print(\"joined string is:\",word)"
   ]
  },
  {
   "cell_type": "code",
   "execution_count": 33,
   "id": "f3757570",
   "metadata": {},
   "outputs": [
    {
     "name": "stdout",
     "output_type": "stream",
     "text": [
      "common words: {'good'}\n"
     ]
    }
   ],
   "source": [
    "str1='hello good afternoon'\n",
    "str2='hi good noon'\n",
    "str1=set(str1.split())\n",
    "str2=set(str2.split())\n",
    "common=str1 & str2\n",
    "print(\"common words:\",common)"
   ]
  },
  {
   "cell_type": "code",
   "execution_count": null,
   "id": "4572b5cb",
   "metadata": {},
   "outputs": [],
   "source": []
  }
 ],
 "metadata": {
  "kernelspec": {
   "display_name": "Python 3 (ipykernel)",
   "language": "python",
   "name": "python3"
  },
  "language_info": {
   "codemirror_mode": {
    "name": "ipython",
    "version": 3
   },
   "file_extension": ".py",
   "mimetype": "text/x-python",
   "name": "python",
   "nbconvert_exporter": "python",
   "pygments_lexer": "ipython3",
   "version": "3.9.7"
  }
 },
 "nbformat": 4,
 "nbformat_minor": 5
}
