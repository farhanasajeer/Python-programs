{
 "cells": [
  {
   "cell_type": "code",
   "execution_count": 22,
   "id": "bed45c1f",
   "metadata": {},
   "outputs": [
    {
     "name": "stdout",
     "output_type": "stream",
     "text": [
      "given list: [1, 45, 67, 89, 0, 76, 5.9, 2345]\n",
      "ascending order: [0, 1, 5.9, 45, 67, 76, 89, 2345]\n"
     ]
    }
   ],
   "source": [
    "a=[1,45,67,89,0,76,5.9,2345]\n",
    "print(\"given list:\",a)\n",
    "a.sort()\n",
    "if a == a:\n",
    "    print(\"ascending order:\",a)\n",
    "else:\n",
    "    print(\"not ascending\")"
   ]
  },
  {
   "cell_type": "code",
   "execution_count": 44,
   "id": "840d61ca",
   "metadata": {},
   "outputs": [
    {
     "name": "stdout",
     "output_type": "stream",
     "text": [
      "list is: [1, 2, 3, 4, 5, 6, 7, 8, 8, 9]\n",
      "even number in the list is: 2\n",
      "even number in the list is: 4\n",
      "even number in the list is: 6\n",
      "even number in the list is: 8\n",
      "even number in the list is: 8\n"
     ]
    }
   ],
   "source": [
    "list=[1,2,3,4,5,6,7,8,8,9]\n",
    "print(\"list is:\",list)\n",
    "for num in list:\n",
    "    if num %2 == 0:\n",
    "        print(\"even number in the list is:\",num)"
   ]
  },
  {
   "cell_type": "code",
   "execution_count": 45,
   "id": "25c3944c",
   "metadata": {},
   "outputs": [
    {
     "name": "stdout",
     "output_type": "stream",
     "text": [
      "list= [78, 67, 56, 45]\n",
      "interchanged list is: [45, 67, 56, 78]\n"
     ]
    }
   ],
   "source": [
    "# inter change 1st and last num\n",
    "list=[78,67,56,45]\n",
    "print(\"list=\",list)\n",
    "length=len(list)\n",
    "temp=list[0]\n",
    "list[0]=list[length - 1]\n",
    "list[length - 1]=temp\n",
    "print(\"interchanged list is:\",list)"
   ]
  },
  {
   "cell_type": "code",
   "execution_count": 9,
   "id": "35fbc3ee",
   "metadata": {},
   "outputs": [
    {
     "name": "stdout",
     "output_type": "stream",
     "text": [
      "sum of the list is: 290\n"
     ]
    }
   ],
   "source": [
    "list=[12,34,67,87,90]\n",
    "total=sum(list)\n",
    "print(\"sum of the list is:\",total)"
   ]
  },
  {
   "cell_type": "code",
   "execution_count": 12,
   "id": "eba5856f",
   "metadata": {},
   "outputs": [
    {
     "name": "stdout",
     "output_type": "stream",
     "text": [
      "list: [1, 5, 7]\n",
      "newlist: [1, 5, 7, 89]\n",
      "list: [1, 5, 7, 89]\n"
     ]
    }
   ],
   "source": [
    "list=[1,5,7]\n",
    "print(\"list:\",list)\n",
    "newlist=list\n",
    "newlist.append(89)\n",
    "print('newlist:',newlist)\n",
    "print('list:',list)"
   ]
  },
  {
   "cell_type": "code",
   "execution_count": 13,
   "id": "4a1c93e3",
   "metadata": {},
   "outputs": [
    {
     "name": "stdout",
     "output_type": "stream",
     "text": [
      "list is empty\n"
     ]
    }
   ],
   "source": [
    "list=[]\n",
    "if len(list) == 0:\n",
    "    print(\"list is empty\")\n",
    "else:\n",
    "    print(\"not empty\")"
   ]
  },
  {
   "cell_type": "code",
   "execution_count": 21,
   "id": "0fc924fd",
   "metadata": {},
   "outputs": [
    {
     "name": "stdout",
     "output_type": "stream",
     "text": [
      "list: [1, 2, 3, 4]\n",
      "appended list: [1, 2, 3, 4, [45, 67]]\n"
     ]
    }
   ],
   "source": [
    "a=[1,2,3,4,]\n",
    "print('list:',a)\n",
    "b=[45,67]\n",
    "a.append(b)\n",
    "print(\"appended list:\",a)\n"
   ]
  },
  {
   "cell_type": "code",
   "execution_count": 30,
   "id": "ba66bc99",
   "metadata": {},
   "outputs": [
    {
     "name": "stdout",
     "output_type": "stream",
     "text": [
      "sum of items in list: 69345\n"
     ]
    }
   ],
   "source": [
    "list=[23,45,67]\n",
    "result=1\n",
    "for i in list:\n",
    "    result = result * i\n",
    "    \n",
    "print(\"sum of items in list:\",result)\n"
   ]
  },
  {
   "cell_type": "code",
   "execution_count": 8,
   "id": "581f6efc",
   "metadata": {},
   "outputs": [],
   "source": [
    "\n"
   ]
  },
  {
   "cell_type": "code",
   "execution_count": 15,
   "id": "779d78a8",
   "metadata": {},
   "outputs": [
    {
     "name": "stdout",
     "output_type": "stream",
     "text": [
      "enter values:3\n",
      "12\n",
      "5\n",
      "7\n",
      "sorted values: [5, 7, 12]\n"
     ]
    }
   ],
   "source": [
    "listt=[]\n",
    "list1=int(input(\"enter values:\"))\n",
    "for i in range(0,list1):\n",
    "    val=int(input())\n",
    "    listt.append(val)\n",
    "listt.sort()\n",
    "print(\"sorted values:\",listt)"
   ]
  },
  {
   "cell_type": "code",
   "execution_count": 6,
   "id": "9decb197",
   "metadata": {},
   "outputs": [
    {
     "name": "stdout",
     "output_type": "stream",
     "text": [
      "enter values:4\n",
      "3\n",
      "4\n",
      "5\n",
      "7\n",
      "sum of values: 19\n"
     ]
    }
   ],
   "source": [
    "# sum\n",
    "listt=[]\n",
    "list1=int(input(\"enter values:\"))\n",
    "for i in range(0,list1):\n",
    "    val=int(input())\n",
    "    listt.append(val)\n",
    "total=sum(listt)\n",
    "print(\"sum of values:\",total)"
   ]
  },
  {
   "cell_type": "code",
   "execution_count": 14,
   "id": "070248c7",
   "metadata": {},
   "outputs": [
    {
     "name": "stdout",
     "output_type": "stream",
     "text": [
      "enter values:2,34,5,6,8\n"
     ]
    },
    {
     "ename": "ValueError",
     "evalue": "invalid literal for int() with base 10: '2,34,5,6,8'",
     "output_type": "error",
     "traceback": [
      "\u001b[1;31m---------------------------------------------------------------------------\u001b[0m",
      "\u001b[1;31mValueError\u001b[0m                                Traceback (most recent call last)",
      "\u001b[1;32m~\\AppData\\Local\\Temp/ipykernel_8012/3822406140.py\u001b[0m in \u001b[0;36m<module>\u001b[1;34m\u001b[0m\n\u001b[0;32m      1\u001b[0m \u001b[1;31m# odd even\u001b[0m\u001b[1;33m\u001b[0m\u001b[1;33m\u001b[0m\u001b[0m\n\u001b[0;32m      2\u001b[0m \u001b[0mlist\u001b[0m\u001b[1;33m=\u001b[0m\u001b[1;33m[\u001b[0m\u001b[1;33m]\u001b[0m\u001b[1;33m\u001b[0m\u001b[1;33m\u001b[0m\u001b[0m\n\u001b[1;32m----> 3\u001b[1;33m \u001b[0mlist1\u001b[0m\u001b[1;33m=\u001b[0m\u001b[0mint\u001b[0m\u001b[1;33m(\u001b[0m\u001b[0minput\u001b[0m\u001b[1;33m(\u001b[0m\u001b[1;34m\"enter values:\"\u001b[0m\u001b[1;33m)\u001b[0m\u001b[1;33m)\u001b[0m\u001b[1;33m\u001b[0m\u001b[1;33m\u001b[0m\u001b[0m\n\u001b[0m\u001b[0;32m      4\u001b[0m \u001b[1;32mfor\u001b[0m \u001b[0mi\u001b[0m \u001b[1;32min\u001b[0m \u001b[0mrange\u001b[0m\u001b[1;33m(\u001b[0m\u001b[1;36m0\u001b[0m\u001b[1;33m,\u001b[0m\u001b[0mlist1\u001b[0m\u001b[1;33m)\u001b[0m\u001b[1;33m:\u001b[0m\u001b[1;33m\u001b[0m\u001b[1;33m\u001b[0m\u001b[0m\n\u001b[0;32m      5\u001b[0m     \u001b[1;32mif\u001b[0m \u001b[0mi\u001b[0m \u001b[1;33m%\u001b[0m\u001b[1;36m2\u001b[0m \u001b[1;33m==\u001b[0m \u001b[1;36m0\u001b[0m\u001b[1;33m:\u001b[0m\u001b[1;33m\u001b[0m\u001b[1;33m\u001b[0m\u001b[0m\n",
      "\u001b[1;31mValueError\u001b[0m: invalid literal for int() with base 10: '2,34,5,6,8'"
     ]
    }
   ],
   "source": [
    "# odd even\n",
    "list=[]\n",
    "list1=int(input(\"enter values:\"))\n",
    "for i in range(0,list1):\n",
    "    if i %2 == 0:\n",
    "        print(\"even number in the list is:\",i)\n",
    "    if i % 2 == 1:\n",
    "        print(\"odd number list:\",i)"
   ]
  },
  {
   "cell_type": "code",
   "execution_count": 15,
   "id": "78717cbd",
   "metadata": {},
   "outputs": [
    {
     "name": "stdout",
     "output_type": "stream",
     "text": [
      "enter first number for range:10\n",
      "enter second number for range:20\n",
      "Display the even numbers between two numbers are:\n",
      "10\n",
      "12\n",
      "14\n",
      "16\n",
      "18\n",
      "20\n",
      "Display the odd numbers between two numbers are:\n",
      "11\n",
      "13\n",
      "15\n",
      "17\n",
      "19\n"
     ]
    }
   ],
   "source": [
    "lowernum=int(input(\"enter first number for range:\"))\n",
    "uppernum=int(input(\"enter second number for range:\"))\n",
    "print(\"Display the even numbers between two numbers are:\")\n",
    "for i in range(lowernum,uppernum+1):\n",
    "    if(i %2 == 0):\n",
    "        print(i)\n",
    "print(\"Display the odd numbers between two numbers are:\")\n",
    "for i in range(lowernum,uppernum+1):\n",
    "    if(i %2 == 1):\n",
    "        print(i)"
   ]
  },
  {
   "cell_type": "code",
   "execution_count": null,
   "id": "212f081e",
   "metadata": {},
   "outputs": [],
   "source": []
  }
 ],
 "metadata": {
  "kernelspec": {
   "display_name": "Python 3 (ipykernel)",
   "language": "python",
   "name": "python3"
  },
  "language_info": {
   "codemirror_mode": {
    "name": "ipython",
    "version": 3
   },
   "file_extension": ".py",
   "mimetype": "text/x-python",
   "name": "python",
   "nbconvert_exporter": "python",
   "pygments_lexer": "ipython3",
   "version": "3.9.7"
  }
 },
 "nbformat": 4,
 "nbformat_minor": 5
}
