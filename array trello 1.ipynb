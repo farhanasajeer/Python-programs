{
 "cells": [
  {
   "cell_type": "code",
   "execution_count": 8,
   "id": "b50897fb",
   "metadata": {},
   "outputs": [
    {
     "name": "stdout",
     "output_type": "stream",
     "text": [
      "[1, 2, 3, 4, 5]\n",
      "1 2 3 4 5\n"
     ]
    }
   ],
   "source": [
    "# indexing\n",
    "a=([1,2,3,4,5])\n",
    "print(a)\n",
    "print(a[0],a[1],a[2],a[3],a[4])\n"
   ]
  },
  {
   "cell_type": "code",
   "execution_count": 10,
   "id": "5bd69d5e",
   "metadata": {},
   "outputs": [
    {
     "name": "stdout",
     "output_type": "stream",
     "text": [
      "1\n",
      "3\n",
      "5\n",
      "7\n",
      "9\n",
      "Access first three items \n",
      "1\n",
      "3\n",
      "5\n"
     ]
    }
   ],
   "source": [
    "from array import *\n",
    "array_num = array('i', [1,3,5,7,9])\n",
    "for i in array_num:\n",
    "    print(i)\n",
    "print(\"Access first three items \")\n",
    "print(array_num[0])\n",
    "print(array_num[1])\n",
    "print(array_num[2])"
   ]
  },
  {
   "cell_type": "code",
   "execution_count": 16,
   "id": "a3f11ba6",
   "metadata": {},
   "outputs": [
    {
     "name": "stdout",
     "output_type": "stream",
     "text": [
      "array elements is: [1, 2, 3, 4]\n",
      "copying reversed array: [4, 3, 2, 1]\n"
     ]
    }
   ],
   "source": [
    "# copying and reversing\n",
    "\n",
    "from array import*\n",
    "a=([1,2,3,4])\n",
    "print(\"array elements is:\",a)\n",
    "arr=a[::-1]\n",
    "print(\"copying reversed array:\",arr)\n"
   ]
  },
  {
   "cell_type": "code",
   "execution_count": 24,
   "id": "18b290fd",
   "metadata": {},
   "outputs": [
    {
     "name": "stdout",
     "output_type": "stream",
     "text": [
      "array: [23, 45, 67, 88]\n",
      "revered array: [88, 67, 45, 23]\n"
     ]
    }
   ],
   "source": [
    "from array import*\n",
    "a=([23,45,67,88])\n",
    "print(\"array:\",a)\n",
    "for i in range(len(a)):\n",
    "    arr=a[::-1]\n",
    "print(\"revered array:\",arr)"
   ]
  },
  {
   "cell_type": "code",
   "execution_count": 27,
   "id": "d532e637",
   "metadata": {},
   "outputs": [
    {
     "name": "stdout",
     "output_type": "stream",
     "text": [
      "[array([1, 2, 3]), array([4, 5, 6])]\n"
     ]
    }
   ],
   "source": [
    "# divide 1 array into 2 array\n",
    "\n",
    "import numpy as np\n",
    "a = np.array([1, 2, 3, 4, 5, 6])\n",
    "arr = np.array_split(a, 2)\n",
    "print(arr)"
   ]
  },
  {
   "cell_type": "code",
   "execution_count": 2,
   "id": "ecc723ae",
   "metadata": {},
   "outputs": [
    {
     "name": "stdout",
     "output_type": "stream",
     "text": [
      "5.0\n"
     ]
    }
   ],
   "source": [
    "# average\n",
    "\n",
    "import numpy as np   #importing the package\n",
    "x=np.array([1,2,3,4,10])\n",
    "avg=0\n",
    "for i in x:\n",
    "    avg= avg+i/4\n",
    "print(avg)\n"
   ]
  },
  {
   "cell_type": "code",
   "execution_count": 18,
   "id": "993d9ef8",
   "metadata": {},
   "outputs": [
    {
     "name": "stdout",
     "output_type": "stream",
     "text": [
      "second largest element: 34\n"
     ]
    }
   ],
   "source": [
    "# find second largest\n",
    "\n",
    "from array import*\n",
    "array=([18,2,34,56,15])\n",
    "print(\"second largest element:\",array[n-2])"
   ]
  },
  {
   "cell_type": "code",
   "execution_count": 19,
   "id": "a604991f",
   "metadata": {},
   "outputs": [
    {
     "name": "stdout",
     "output_type": "stream",
     "text": [
      "2nd large element: 23\n",
      "2nd large element: 23\n",
      "2nd large element: 23\n",
      "2nd large element: 23\n"
     ]
    }
   ],
   "source": [
    "a=([12,34,23,66])\n",
    "for i in range(1,n+1):\n",
    "    print(\"2nd large element:\",a[n-2])\n"
   ]
  },
  {
   "cell_type": "code",
   "execution_count": 4,
   "id": "32aa137c",
   "metadata": {},
   "outputs": [
    {
     "name": "stdout",
     "output_type": "stream",
     "text": [
      " largest element: 56\n"
     ]
    }
   ],
   "source": [
    "# largest\n",
    "\n",
    "from array import*\n",
    "array=([18,2,34,56,15])\n",
    "print(\" largest element:\",max(array))"
   ]
  },
  {
   "cell_type": "code",
   "execution_count": 5,
   "id": "c7d29445",
   "metadata": {},
   "outputs": [
    {
     "name": "stdout",
     "output_type": "stream",
     "text": [
      "smallest array element: 24\n"
     ]
    }
   ],
   "source": [
    "# smallest print\n",
    "\n",
    "from array import*\n",
    "array=([33,24,77,88])\n",
    "print(\"smallest array element:\",min(array))"
   ]
  },
  {
   "cell_type": "code",
   "execution_count": 6,
   "id": "945396df",
   "metadata": {},
   "outputs": [
    {
     "name": "stdout",
     "output_type": "stream",
     "text": [
      "Enter number of elements:4\n",
      "Enter element:23\n",
      "Enter element:44\n",
      "Enter element:56\n",
      "Enter element:77\n",
      "Largest element is: 77\n"
     ]
    }
   ],
   "source": [
    "# find large\n",
    "a=[]\n",
    "n=int(input(\"Enter number of elements:\"))\n",
    "for i in range(1,n+1):\n",
    "    b=int(input(\"Enter element:\"))\n",
    "    a.append(b)\n",
    "a.sort()\n",
    "print(\"Largest element is:\",a[n-1])"
   ]
  },
  {
   "cell_type": "code",
   "execution_count": 10,
   "id": "de206889",
   "metadata": {},
   "outputs": [
    {
     "name": "stdout",
     "output_type": "stream",
     "text": [
      "Enter number of elements:3\n",
      "Enter element:12\n",
      "Enter element:34\n",
      "Enter element:2\n",
      "Largest element is: 2\n"
     ]
    }
   ],
   "source": [
    "# find small\n",
    "a=[]\n",
    "n=int(input(\"Enter number of elements:\"))\n",
    "for i in range(1,n+1):\n",
    "    b=int(input(\"Enter element:\"))\n",
    "    a.append(b)\n",
    "a.sort()\n",
    "print(\"smallest element is:\",min(a))"
   ]
  },
  {
   "cell_type": "code",
   "execution_count": 11,
   "id": "13dc3520",
   "metadata": {},
   "outputs": [
    {
     "name": "stdout",
     "output_type": "stream",
     "text": [
      "present elemnts: 7\n"
     ]
    }
   ],
   "source": [
    "# present in arary\n",
    "\n",
    "array=([12,2,3,4,5,78,9])\n",
    "print(\"present elemnts:\",str(len(array)))"
   ]
  },
  {
   "cell_type": "code",
   "execution_count": 13,
   "id": "17a3bf57",
   "metadata": {},
   "outputs": [
    {
     "name": "stdout",
     "output_type": "stream",
     "text": [
      "56 78 90 23 12 44 "
     ]
    }
   ],
   "source": [
    "# split\n",
    "arr=[12,44,56,78,90,23]\n",
    "n = len(arr)\n",
    "position = 2\n",
    "arr = splitArr(arr, n, position)\n",
    "for i in range(0, n): \n",
    "    print(arr[i], end = ' ')"
   ]
  },
  {
   "cell_type": "code",
   "execution_count": 14,
   "id": "6c55673d",
   "metadata": {},
   "outputs": [
    {
     "name": "stdout",
     "output_type": "stream",
     "text": [
      "Duplicate elements in given array: \n",
      "1\n",
      "2\n",
      "3\n",
      "8\n"
     ]
    }
   ],
   "source": [
    "# print duplicate elmnt\n",
    "\n",
    "arr = [1, 2, 3, 4, 2, 7, 8, 8, 3,9,1,11,23]   \n",
    "     \n",
    "print(\"Duplicate elements in given array: \")    \n",
    "for i in range(0, len(arr)):    \n",
    "    for j in range(i+1, len(arr)):    \n",
    "        if(arr[i] == arr[j]):    \n",
    "            print(arr[j])  "
   ]
  },
  {
   "cell_type": "code",
   "execution_count": 1,
   "id": "5f141574",
   "metadata": {},
   "outputs": [
    {
     "name": "stdout",
     "output_type": "stream",
     "text": [
      "Elements of given array present on odd position: \n",
      "1\n",
      "3\n",
      "5\n",
      "even:\n",
      "2\n",
      "3\n",
      "4\n",
      "5\n"
     ]
    }
   ],
   "source": [
    "# odd even\n",
    "arr = ([1, 2, 3, 4, 5])    \n",
    "     \n",
    "print(\"Elements of given array present on odd position: \")    \n",
    "for i in range(0, len(arr), 2):  \n",
    "    print(arr[i])  \n",
    "print(\"even:\")\n",
    "for i in range(1,len(arr),1):\n",
    "    print(arr[i])"
   ]
  },
  {
   "cell_type": "code",
   "execution_count": 25,
   "id": "66c009c8",
   "metadata": {},
   "outputs": [
    {
     "name": "stdout",
     "output_type": "stream",
     "text": [
      "slicd array: [1, 2, 3, 5]\n"
     ]
    }
   ],
   "source": [
    "# slicing\n",
    "\n",
    "a=([1,2,3,5,4])\n",
    "print(\"slicd array:\",a[:4])"
   ]
  },
  {
   "cell_type": "code",
   "execution_count": 26,
   "id": "7360f425",
   "metadata": {},
   "outputs": [
    {
     "name": "stdout",
     "output_type": "stream",
     "text": [
      "Original array: array('i', [1, 3, 5, 3, 7, 1, 9, 3])\n",
      "Reverse the order of the items:\n",
      "array('i', [3, 9, 1, 7, 3, 5, 3, 1])\n"
     ]
    }
   ],
   "source": [
    "# reverse\n",
    "from array import *\n",
    "array_num = array('i', [1, 3, 5, 3, 7, 1, 9, 3])\n",
    "print(\"Original array: \"+str(array_num))\n",
    "array_num.reverse()\n",
    "print(\"Reverse the order of the items:\")\n",
    "print(str(array_num))"
   ]
  },
  {
   "cell_type": "code",
   "execution_count": 27,
   "id": "f94d1420",
   "metadata": {},
   "outputs": [
    {
     "name": "stdout",
     "output_type": "stream",
     "text": [
      "[45, 34, 67]\n"
     ]
    }
   ],
   "source": [
    "# convert to list\n",
    "\n",
    "from array import *\n",
    "def array_list(array_num):\n",
    "    num_list = array_num.tolist() \n",
    "    print(num_list)\n",
    "array_num = array('i', [45,34,67]) \n",
    "array_list(array_num)"
   ]
  },
  {
   "cell_type": "code",
   "execution_count": 2,
   "id": "1a9971cb",
   "metadata": {},
   "outputs": [
    {
     "name": "stdout",
     "output_type": "stream",
     "text": [
      "[1, 2, 3]\n"
     ]
    }
   ],
   "source": [
    "# remove\n",
    "from array import *\n",
    "a=([1,2,3,5])\n",
    "a.remove(a[3])\n",
    "print(a)"
   ]
  },
  {
   "cell_type": "code",
   "execution_count": 1,
   "id": "a2a27380",
   "metadata": {},
   "outputs": [
    {
     "name": "stdout",
     "output_type": "stream",
     "text": [
      "Original array: array('i', [1, 3, 5, 7, 9])\n",
      "Insert new value 4 before 3:\n",
      "New array: array('i', [1, 4, 3, 5, 7, 9])\n"
     ]
    }
   ],
   "source": [
    "# Write a Python program to insert a new item before the second element in an existing array.\n",
    "\n",
    "from array import *\n",
    "array_num = array('i', [1, 3, 5, 7, 9])\n",
    "print(\"Original array: \"+str(array_num))\n",
    "print(\"Insert new value 4 before 3:\")\n",
    "array_num.insert(1, 4)\n",
    "print(\"New array: \"+str(array_num))"
   ]
  },
  {
   "cell_type": "code",
   "execution_count": 2,
   "id": "6931171a",
   "metadata": {},
   "outputs": [
    {
     "name": "stdout",
     "output_type": "stream",
     "text": [
      "Original array: array('i', [1, 3, 5, 7, 9])\n",
      "Append 11 at the end of the array:\n",
      "New array: array('i', [1, 3, 5, 7, 9, 11])\n"
     ]
    }
   ],
   "source": [
    "# program to append a new item to the end of the array\n",
    "\n",
    "from array import *\n",
    "array_num = array('i', [1, 3, 5, 7, 9])\n",
    "print(\"Original array: \"+str(array_num))\n",
    "print(\"Append 11 at the end of the array:\")\n",
    "array_num.append(11)\n",
    "print(\"New array: \"+str(array_num))"
   ]
  },
  {
   "cell_type": "code",
   "execution_count": 3,
   "id": "64642978",
   "metadata": {},
   "outputs": [
    {
     "name": "stdout",
     "output_type": "stream",
     "text": [
      "Length of the array is:\n",
      "5\n"
     ]
    }
   ],
   "source": [
    "# Write a Python program to get the length of an array.\n",
    "\n",
    "from array import array\n",
    "num_array = array('i', [10,20,30,40,50])\n",
    "print(\"Length of the array is:\")\n",
    "print(len(num_array))"
   ]
  },
  {
   "cell_type": "code",
   "execution_count": null,
   "id": "d4ce7322",
   "metadata": {},
   "outputs": [],
   "source": []
  }
 ],
 "metadata": {
  "kernelspec": {
   "display_name": "Python 3 (ipykernel)",
   "language": "python",
   "name": "python3"
  },
  "language_info": {
   "codemirror_mode": {
    "name": "ipython",
    "version": 3
   },
   "file_extension": ".py",
   "mimetype": "text/x-python",
   "name": "python",
   "nbconvert_exporter": "python",
   "pygments_lexer": "ipython3",
   "version": "3.9.7"
  }
 },
 "nbformat": 4,
 "nbformat_minor": 5
}
