{
 "cells": [
  {
   "cell_type": "code",
   "execution_count": 1,
   "id": "ed117c16",
   "metadata": {},
   "outputs": [
    {
     "name": "stdout",
     "output_type": "stream",
     "text": [
      "Blu is a bird\n",
      "Woo is also a bird\n",
      "Blu is 10 years old\n",
      " Woo is 15 years old\n"
     ]
    }
   ],
   "source": [
    "class parrot:\n",
    "   # class attribute\n",
    "   species=\"bird\"\n",
    "#     instance attribute\n",
    "   def __init__(self,name,age):\n",
    "    self.name=name\n",
    "    self.age=age\n",
    "        \n",
    "# instantiate the parrot class\n",
    "blu=parrot(\"Blu\",10)\n",
    "woo=parrot(\"Woo\",15)\n",
    "\n",
    "# access the class attributes\n",
    "print(\"Blu is a {}\".format(blu.__class__.species))\n",
    "print(\"Woo is also a {}\".format(woo.__class__.species))\n",
    "\n",
    "# access the instance attributes\n",
    "print(\"{} is {} years old\".format(blu.name,blu.age))\n",
    "print(\" {} is {} years old\".format(woo.name,woo.age))"
   ]
  },
  {
   "cell_type": "code",
   "execution_count": 2,
   "id": "6990772c",
   "metadata": {},
   "outputs": [
    {
     "name": "stdout",
     "output_type": "stream",
     "text": [
      "Blu sings 'Happy'\n",
      "Blu is now dancing\n"
     ]
    }
   ],
   "source": [
    "class parrot:    \n",
    "    def __init__(self,name,age):\n",
    "        self.name=name\n",
    "        self.age=age\n",
    "    def sing(self,song):\n",
    "        return \"{} sings {}\".format(self.name,song)\n",
    "    def dance(self):\n",
    "        return \"{} is now dancing\".format(self.name)\n",
    "# instance the object\n",
    "blu=parrot(\"Blu\",10)\n",
    "# call our instance methods\n",
    "print(blu.sing(\"'Happy'\"))\n",
    "print(blu.dance())"
   ]
  },
  {
   "cell_type": "code",
   "execution_count": 3,
   "id": "d850c232",
   "metadata": {},
   "outputs": [
    {
     "name": "stdout",
     "output_type": "stream",
     "text": [
      "Bird is ready\n",
      "Penguin is ready\n",
      "Penguin\n",
      "Swim faster\n",
      "Run faster\n"
     ]
    }
   ],
   "source": [
    "#parent class\n",
    "class Bird:\n",
    "    def __init__(self):\n",
    "        print(\"Bird is ready\")\n",
    "    def WhoisThis(self):\n",
    "        print(\"Bird\")\n",
    "    def swim(self):\n",
    "        print(\"Swim faster\")\n",
    "# child class\n",
    "class Penguin(Bird):\n",
    "    \n",
    "    def __init__(self):\n",
    "        #call super()function\n",
    "        super().__init__()\n",
    "        print(\"Penguin is ready\")\n",
    "    def WhoisThis(self):\n",
    "        print(\"Penguin\")\n",
    "    def run(self):\n",
    "        print(\"Run faster\")\n",
    "peggy = Penguin() \n",
    "peggy.WhoisThis()\n",
    "peggy.swim() \n",
    "peggy.run()"
   ]
  },
  {
   "cell_type": "code",
   "execution_count": 4,
   "id": "1471f616",
   "metadata": {},
   "outputs": [
    {
     "name": "stdout",
     "output_type": "stream",
     "text": [
      "selling price:900\n",
      "selling price:900\n",
      "selling price:1000\n"
     ]
    }
   ],
   "source": [
    "class computer:\n",
    "    def __init__(self):\n",
    "        self.__maxprice=900\n",
    "    def sell(self):\n",
    "        print(\"selling price:{}\".format(self.__maxprice))\n",
    "    def setMaxPrice(self,price):\n",
    "        self.__maxprice=price\n",
    "c = computer()\n",
    "c.sell()\n",
    "\n",
    "# change the price\n",
    "c.__maxprice=1000\n",
    "c.sell()\n",
    "\n",
    "# using setter function\n",
    "c.setMaxPrice(1000)\n",
    "c.sell()"
   ]
  },
  {
   "cell_type": "code",
   "execution_count": 5,
   "id": "7e3a2525",
   "metadata": {},
   "outputs": [
    {
     "name": "stdout",
     "output_type": "stream",
     "text": [
      "parrot can fly\n",
      "penguin can't fly\n"
     ]
    }
   ],
   "source": [
    "class parrot:\n",
    "    def fly(self):\n",
    "        print(\"parrot can fly\")\n",
    "    def swim(self):\n",
    "        print(\"parrot can't swim\")\n",
    "class penguin:\n",
    "    def fly(self):\n",
    "        print(\"penguin can't fly\")\n",
    "    def swim(self):\n",
    "        print(\"penguin can swim\")\n",
    "# common interface\n",
    "def flying_test(bird):\n",
    "    bird.fly()\n",
    "# instantiate objects\n",
    "blu = parrot()\n",
    "peggy = penguin()\n",
    "# passing the object\n",
    "flying_test(blu)\n",
    "flying_test(peggy)"
   ]
  },
  {
   "cell_type": "code",
   "execution_count": 6,
   "id": "06a780df",
   "metadata": {},
   "outputs": [
    {
     "name": "stdout",
     "output_type": "stream",
     "text": [
      "10\n",
      "<function Person.greet at 0x000001C4674B7EE0>\n",
      "this is a person class\n"
     ]
    }
   ],
   "source": [
    "# class\n",
    "\n",
    "\n",
    "class Person:\n",
    "    '''this is a person class'''\n",
    "    age=10\n",
    "    def greet(self):\n",
    "        print('hello')\n",
    "print(Person.age)\n",
    "print(Person.greet)\n",
    "print(Person.__doc__)"
   ]
  },
  {
   "cell_type": "code",
   "execution_count": 7,
   "id": "ea81d9f7",
   "metadata": {},
   "outputs": [
    {
     "name": "stdout",
     "output_type": "stream",
     "text": [
      "<function Person.greet at 0x000001C4674C6160>\n",
      "<bound method Person.greet of <__main__.Person object at 0x000001C4674B9A60>>\n",
      "hello\n"
     ]
    }
   ],
   "source": [
    "# object\n",
    "\n",
    "class Person:\n",
    "    '''this is a person class'''\n",
    "    age=10\n",
    "    def greet(self):\n",
    "        print('hello')\n",
    "        \n",
    "harry=Person()\n",
    "print(Person.greet)\n",
    "print(harry.greet)\n",
    "harry.greet()"
   ]
  },
  {
   "cell_type": "code",
   "execution_count": 8,
   "id": "e8fecb66",
   "metadata": {},
   "outputs": [
    {
     "name": "stdout",
     "output_type": "stream",
     "text": [
      "2+3j\n",
      "5 0 10\n"
     ]
    },
    {
     "ename": "AttributeError",
     "evalue": "'complexnumber' object has no attribute 'attr'",
     "output_type": "error",
     "traceback": [
      "\u001b[1;31m---------------------------------------------------------------------------\u001b[0m",
      "\u001b[1;31mAttributeError\u001b[0m                            Traceback (most recent call last)",
      "\u001b[1;32m~\\AppData\\Local\\Temp/ipykernel_9336/1206628569.py\u001b[0m in \u001b[0;36m<module>\u001b[1;34m\u001b[0m\n\u001b[0;32m     11\u001b[0m \u001b[0mnum2\u001b[0m\u001b[1;33m.\u001b[0m\u001b[0mattr\u001b[0m \u001b[1;33m=\u001b[0m \u001b[1;36m10\u001b[0m\u001b[1;33m\u001b[0m\u001b[1;33m\u001b[0m\u001b[0m\n\u001b[0;32m     12\u001b[0m \u001b[0mprint\u001b[0m\u001b[1;33m(\u001b[0m\u001b[0mnum2\u001b[0m\u001b[1;33m.\u001b[0m\u001b[0mreal\u001b[0m\u001b[1;33m,\u001b[0m\u001b[0mnum2\u001b[0m\u001b[1;33m.\u001b[0m\u001b[0mimag\u001b[0m\u001b[1;33m,\u001b[0m\u001b[0mnum2\u001b[0m\u001b[1;33m.\u001b[0m\u001b[0mattr\u001b[0m\u001b[1;33m)\u001b[0m\u001b[1;33m\u001b[0m\u001b[1;33m\u001b[0m\u001b[0m\n\u001b[1;32m---> 13\u001b[1;33m \u001b[0mprint\u001b[0m\u001b[1;33m(\u001b[0m\u001b[0mnum1\u001b[0m\u001b[1;33m.\u001b[0m\u001b[0mattr\u001b[0m\u001b[1;33m)\u001b[0m\u001b[1;33m\u001b[0m\u001b[1;33m\u001b[0m\u001b[0m\n\u001b[0m",
      "\u001b[1;31mAttributeError\u001b[0m: 'complexnumber' object has no attribute 'attr'"
     ]
    }
   ],
   "source": [
    "# constructor\n",
    "class complexnumber:\n",
    "    def __init__(self,r=0,i=0):\n",
    "        self.real=r\n",
    "        self.imag=i\n",
    "    def get_data(self):\n",
    "        print(f\"{self.real}+{self.imag}j\")\n",
    "num1 = complexnumber(2,3)\n",
    "num1.get_data()\n",
    "num2 = complexnumber(5)\n",
    "num2.attr = 10\n",
    "print(num2.real,num2.imag,num2.attr)\n",
    "print(num1.attr)"
   ]
  },
  {
   "cell_type": "code",
   "execution_count": 9,
   "id": "029c3aca",
   "metadata": {},
   "outputs": [
    {
     "name": "stdout",
     "output_type": "stream",
     "text": [
      "2+3j\n",
      "5 0 10\n"
     ]
    },
    {
     "ename": "AttributeError",
     "evalue": "'complexnumber' object has no attribute 'imag'",
     "output_type": "error",
     "traceback": [
      "\u001b[1;31m---------------------------------------------------------------------------\u001b[0m",
      "\u001b[1;31mAttributeError\u001b[0m                            Traceback (most recent call last)",
      "\u001b[1;32m~\\AppData\\Local\\Temp/ipykernel_9336/493872778.py\u001b[0m in \u001b[0;36m<module>\u001b[1;34m\u001b[0m\n\u001b[0;32m     11\u001b[0m \u001b[0mprint\u001b[0m\u001b[1;33m(\u001b[0m\u001b[0mnum2\u001b[0m\u001b[1;33m.\u001b[0m\u001b[0mreal\u001b[0m\u001b[1;33m,\u001b[0m\u001b[0mnum2\u001b[0m\u001b[1;33m.\u001b[0m\u001b[0mimag\u001b[0m\u001b[1;33m,\u001b[0m\u001b[0mnum2\u001b[0m\u001b[1;33m.\u001b[0m\u001b[0mattr\u001b[0m\u001b[1;33m)\u001b[0m\u001b[1;33m\u001b[0m\u001b[1;33m\u001b[0m\u001b[0m\n\u001b[0;32m     12\u001b[0m \u001b[1;32mdel\u001b[0m \u001b[0mnum1\u001b[0m\u001b[1;33m.\u001b[0m\u001b[0mimag\u001b[0m\u001b[1;33m\u001b[0m\u001b[1;33m\u001b[0m\u001b[0m\n\u001b[1;32m---> 13\u001b[1;33m \u001b[0mnum1\u001b[0m\u001b[1;33m.\u001b[0m\u001b[0mget_data\u001b[0m\u001b[1;33m(\u001b[0m\u001b[1;33m)\u001b[0m\u001b[1;33m\u001b[0m\u001b[1;33m\u001b[0m\u001b[0m\n\u001b[0m",
      "\u001b[1;32m~\\AppData\\Local\\Temp/ipykernel_9336/493872778.py\u001b[0m in \u001b[0;36mget_data\u001b[1;34m(self)\u001b[0m\n\u001b[0;32m      4\u001b[0m         \u001b[0mself\u001b[0m\u001b[1;33m.\u001b[0m\u001b[0mimag\u001b[0m\u001b[1;33m=\u001b[0m\u001b[0mi\u001b[0m\u001b[1;33m\u001b[0m\u001b[1;33m\u001b[0m\u001b[0m\n\u001b[0;32m      5\u001b[0m     \u001b[1;32mdef\u001b[0m \u001b[0mget_data\u001b[0m\u001b[1;33m(\u001b[0m\u001b[0mself\u001b[0m\u001b[1;33m)\u001b[0m\u001b[1;33m:\u001b[0m\u001b[1;33m\u001b[0m\u001b[1;33m\u001b[0m\u001b[0m\n\u001b[1;32m----> 6\u001b[1;33m         \u001b[0mprint\u001b[0m\u001b[1;33m(\u001b[0m\u001b[1;34mf\"{self.real}+{self.imag}j\"\u001b[0m\u001b[1;33m)\u001b[0m\u001b[1;33m\u001b[0m\u001b[1;33m\u001b[0m\u001b[0m\n\u001b[0m\u001b[0;32m      7\u001b[0m \u001b[0mnum1\u001b[0m \u001b[1;33m=\u001b[0m \u001b[0mcomplexnumber\u001b[0m\u001b[1;33m(\u001b[0m\u001b[1;36m2\u001b[0m\u001b[1;33m,\u001b[0m\u001b[1;36m3\u001b[0m\u001b[1;33m)\u001b[0m\u001b[1;33m\u001b[0m\u001b[1;33m\u001b[0m\u001b[0m\n\u001b[0;32m      8\u001b[0m \u001b[0mnum1\u001b[0m\u001b[1;33m.\u001b[0m\u001b[0mget_data\u001b[0m\u001b[1;33m(\u001b[0m\u001b[1;33m)\u001b[0m\u001b[1;33m\u001b[0m\u001b[1;33m\u001b[0m\u001b[0m\n",
      "\u001b[1;31mAttributeError\u001b[0m: 'complexnumber' object has no attribute 'imag'"
     ]
    }
   ],
   "source": [
    "class complexnumber:\n",
    "    def __init__(self,r=0,i=0):\n",
    "        self.real=r\n",
    "        self.imag=i\n",
    "    def get_data(self):\n",
    "        print(f\"{self.real}+{self.imag}j\")\n",
    "num1 = complexnumber(2,3)\n",
    "num1.get_data()\n",
    "num2 = complexnumber(5)\n",
    "num2.attr = 10\n",
    "print(num2.real,num2.imag,num2.attr)\n",
    "del num1.imag\n",
    "num1.get_data()"
   ]
  },
  {
   "cell_type": "code",
   "execution_count": 10,
   "id": "c99aabfe",
   "metadata": {},
   "outputs": [
    {
     "ename": "AttributeError",
     "evalue": "'complexnumber' object has no attribute 'get_data'",
     "output_type": "error",
     "traceback": [
      "\u001b[1;31m---------------------------------------------------------------------------\u001b[0m",
      "\u001b[1;31mAttributeError\u001b[0m                            Traceback (most recent call last)",
      "\u001b[1;32m~\\AppData\\Local\\Temp/ipykernel_9336/94182018.py\u001b[0m in \u001b[0;36m<module>\u001b[1;34m\u001b[0m\n\u001b[0;32m      1\u001b[0m \u001b[1;32mdel\u001b[0m \u001b[0mcomplexnumber\u001b[0m\u001b[1;33m.\u001b[0m\u001b[0mget_data\u001b[0m\u001b[1;33m\u001b[0m\u001b[1;33m\u001b[0m\u001b[0m\n\u001b[1;32m----> 2\u001b[1;33m \u001b[0mnum1\u001b[0m\u001b[1;33m.\u001b[0m\u001b[0mget_data\u001b[0m\u001b[1;33m(\u001b[0m\u001b[1;33m)\u001b[0m\u001b[1;33m\u001b[0m\u001b[1;33m\u001b[0m\u001b[0m\n\u001b[0m",
      "\u001b[1;31mAttributeError\u001b[0m: 'complexnumber' object has no attribute 'get_data'"
     ]
    }
   ],
   "source": [
    "del complexnumber.get_data\n",
    "num1.get_data()"
   ]
  },
  {
   "cell_type": "code",
   "execution_count": 11,
   "id": "f94cebfc",
   "metadata": {},
   "outputs": [
    {
     "name": "stdout",
     "output_type": "stream",
     "text": [
      "vehicle is ready\n",
      "bus is ready\n",
      "car\n"
     ]
    }
   ],
   "source": [
    "class vehicle:\n",
    "    def __init__(self):\n",
    "        print(\"vehicle is ready\")\n",
    "    def car(self):\n",
    "        print(\"car is a vehicle\")\n",
    "class bus(vehicle):\n",
    "    def __init__(self):\n",
    "        super().__init__()\n",
    "        print(\"bus is ready\")\n",
    "    def car(self):\n",
    "        print(\"car\")\n",
    "a = bus()\n",
    "a.car()           "
   ]
  },
  {
   "cell_type": "code",
   "execution_count": 12,
   "id": "52d9d4b8",
   "metadata": {},
   "outputs": [
    {
     "data": {
      "text/plain": [
       "True"
      ]
     },
     "execution_count": 12,
     "metadata": {},
     "output_type": "execute_result"
    }
   ],
   "source": [
    "isinstance(a,bus)"
   ]
  },
  {
   "cell_type": "code",
   "execution_count": 13,
   "id": "a98e573a",
   "metadata": {},
   "outputs": [
    {
     "data": {
      "text/plain": [
       "True"
      ]
     },
     "execution_count": 13,
     "metadata": {},
     "output_type": "execute_result"
    }
   ],
   "source": [
    "isinstance(a,vehicle)"
   ]
  },
  {
   "cell_type": "code",
   "execution_count": 14,
   "id": "3587c6c9",
   "metadata": {},
   "outputs": [
    {
     "data": {
      "text/plain": [
       "False"
      ]
     },
     "execution_count": 14,
     "metadata": {},
     "output_type": "execute_result"
    }
   ],
   "source": [
    "isinstance(a,int)"
   ]
  },
  {
   "cell_type": "code",
   "execution_count": 15,
   "id": "01374fca",
   "metadata": {},
   "outputs": [
    {
     "data": {
      "text/plain": [
       "True"
      ]
     },
     "execution_count": 15,
     "metadata": {},
     "output_type": "execute_result"
    }
   ],
   "source": [
    "isinstance(a,object)"
   ]
  },
  {
   "cell_type": "code",
   "execution_count": 16,
   "id": "c0acdb54",
   "metadata": {},
   "outputs": [
    {
     "data": {
      "text/plain": [
       "False"
      ]
     },
     "execution_count": 16,
     "metadata": {},
     "output_type": "execute_result"
    }
   ],
   "source": [
    "issubclass(vehicle,bus)"
   ]
  },
  {
   "cell_type": "code",
   "execution_count": 17,
   "id": "5dcbcc5c",
   "metadata": {},
   "outputs": [
    {
     "data": {
      "text/plain": [
       "True"
      ]
     },
     "execution_count": 17,
     "metadata": {},
     "output_type": "execute_result"
    }
   ],
   "source": [
    "issubclass(bus,vehicle)"
   ]
  },
  {
   "cell_type": "code",
   "execution_count": 18,
   "id": "dda60ec0",
   "metadata": {},
   "outputs": [
    {
     "name": "stdout",
     "output_type": "stream",
     "text": [
      "school bus is ready\n",
      "bus is ready\n"
     ]
    },
    {
     "data": {
      "text/plain": [
       "True"
      ]
     },
     "execution_count": 18,
     "metadata": {},
     "output_type": "execute_result"
    }
   ],
   "source": [
    "class vehicle:\n",
    "    def __init__(self):\n",
    "        print(\"vehicle\")\n",
    "    def bus(self):\n",
    "        print(\"bus\")\n",
    "class school_bus:\n",
    "    def __init__(self):\n",
    "        super().__init__()\n",
    "        print(\"school bus is ready\")\n",
    "    def bus(self):\n",
    "        print(\"bus is ready\")\n",
    "a=school_bus()\n",
    "a.bus()\n",
    "isinstance(a,school_bus)"
   ]
  },
  {
   "cell_type": "code",
   "execution_count": 19,
   "id": "ec75a5a8",
   "metadata": {},
   "outputs": [
    {
     "name": "stdout",
     "output_type": "stream",
     "text": [
      "student details: \n",
      "name:farhana \n",
      "rollno:1 \n",
      "age:20 \n",
      "mark:90\n"
     ]
    }
   ],
   "source": [
    "class student:\n",
    "    def __init__(self,name,rollno,age,mark):\n",
    "        self.name=name\n",
    "        self.rollno=rollno\n",
    "        self.age=age\n",
    "        self.mark=mark\n",
    "s=student(\"farhana\",1,20,90)\n",
    "print(\"student details: \\nname:{} \\nrollno:{} \\nage:{} \\nmark:{}\".format(s.name,s.rollno,s.age,s.mark))"
   ]
  },
  {
   "cell_type": "code",
   "execution_count": 24,
   "id": "0030e6f0",
   "metadata": {},
   "outputs": [
    {
     "name": "stdout",
     "output_type": "stream",
     "text": [
      "name is farhana and roll no is 1\n",
      "age is 20 \n",
      "mark is 78\n"
     ]
    }
   ],
   "source": [
    "class student:\n",
    "    def __init__(self,name,rollno,age,mark):\n",
    "        self.name=name\n",
    "        self.rollno=rollno\n",
    "        self.age=age\n",
    "        self.mark=mark\n",
    "    def display(self):\n",
    "        return \"name is {} and roll no is {}\".format(self.name,self.rollno)\n",
    "    def Setage(self):\n",
    "        return \"age is {} \".format(self.age)\n",
    "    def Setmark(self):\n",
    "        return \"mark is {}\".format(self.mark)\n",
    "s=student(\"farhana\",1,20,78)\n",
    "print(s.display())\n",
    "print(s.Setage())\n",
    "print(s.Setmark())\n"
   ]
  },
  {
   "cell_type": "markdown",
   "id": "8e435b8d",
   "metadata": {},
   "source": [
    "## class calculation1:\n",
    "    def addition(self):\n",
    "        print(a+b)\n",
    "class calculation2:\n",
    "    def multiplication(self):\n",
    "        print(a*b)\n",
    "class calculation3:\n",
    "    def division(self):\n",
    "        print(a/b)\n",
    "a=(input(\"enter 1st no:\"))\n",
    "b=(input(\"enter 2nd no:\"))\n",
    "\n",
    "print(\"addition is {}\".format(self.addition))\n"
   ]
  },
  {
   "cell_type": "markdown",
   "id": "c53da855",
   "metadata": {},
   "source": []
  },
  {
   "cell_type": "code",
   "execution_count": 15,
   "id": "6009c2b8",
   "metadata": {},
   "outputs": [
    {
     "name": "stdout",
     "output_type": "stream",
     "text": [
      "20\n",
      "100\n",
      "1.0\n"
     ]
    }
   ],
   "source": [
    "class calculation1:       \n",
    "    def add(self):\n",
    "        print (a+b)\n",
    "\n",
    "class calculation2:\n",
    "    def mul(self):\n",
    "        print(a*b)\n",
    "class calculation3(calculation1,calculation2):\n",
    "    def div(self):\n",
    "        print(a/b) \n",
    "a=10\n",
    "b=10\n",
    "obj=calculation3()\n",
    "obj.add()\n",
    "obj.mul()\n",
    "obj.div()"
   ]
  },
  {
   "cell_type": "code",
   "execution_count": 7,
   "id": "5acd4398",
   "metadata": {},
   "outputs": [
    {
     "name": "stdout",
     "output_type": "stream",
     "text": [
      "animal\n",
      "dog is a animal\n"
     ]
    }
   ],
   "source": [
    "class animal:\n",
    "    def __init__(self):\n",
    "        print(\"animal\")\n",
    "    def cat(self):\n",
    "        print(\"cat\")\n",
    "class dog(animal):\n",
    "    def __init__(self):\n",
    "        super().__init__()\n",
    "        print(\"dog is a animal\")\n",
    "class dogchild(dog):\n",
    "    pass\n",
    "a=dogchild()\n"
   ]
  },
  {
   "cell_type": "code",
   "execution_count": 5,
   "id": "5091f8fc",
   "metadata": {},
   "outputs": [
    {
     "name": "stdout",
     "output_type": "stream",
     "text": [
      "animal\n",
      "dog can speak\n"
     ]
    }
   ],
   "source": [
    "class animal:\n",
    "    def __init__(self):\n",
    "        print(\"animal\")\n",
    "    def speak(self):\n",
    "        print(\"dog can speak\")\n",
    "class dog(animal):\n",
    "    pass\n",
    "a=dog()\n",
    "a.speak()"
   ]
  },
  {
   "cell_type": "code",
   "execution_count": null,
   "id": "b19de917",
   "metadata": {},
   "outputs": [],
   "source": []
  }
 ],
 "metadata": {
  "kernelspec": {
   "display_name": "Python 3 (ipykernel)",
   "language": "python",
   "name": "python3"
  },
  "language_info": {
   "codemirror_mode": {
    "name": "ipython",
    "version": 3
   },
   "file_extension": ".py",
   "mimetype": "text/x-python",
   "name": "python",
   "nbconvert_exporter": "python",
   "pygments_lexer": "ipython3",
   "version": "3.9.7"
  }
 },
 "nbformat": 4,
 "nbformat_minor": 5
}
