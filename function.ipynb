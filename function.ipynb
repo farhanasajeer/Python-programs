{
 "cells": [
  {
   "cell_type": "code",
   "execution_count": 1,
   "id": "8ce53bfa",
   "metadata": {},
   "outputs": [
    {
     "name": "stdout",
     "output_type": "stream",
     "text": [
      "Hello,paul. Good morning\n"
     ]
    }
   ],
   "source": [
    "def greet(name):\n",
    "    \"\"\"This function greets to\n",
    "    the person passed in as\n",
    "    a parameter\"\"\"\n",
    "    print(\"Hello,\"+name+\". Good morning\")\n",
    "greet('paul')"
   ]
  },
  {
   "cell_type": "code",
   "execution_count": 2,
   "id": "d69b2571",
   "metadata": {},
   "outputs": [
    {
     "name": "stdout",
     "output_type": "stream",
     "text": [
      "This function greets to\n",
      "    the person passed in as\n",
      "    a parameter\n"
     ]
    }
   ],
   "source": [
    "# docstrng\n",
    "print(greet.__doc__)"
   ]
  },
  {
   "cell_type": "code",
   "execution_count": 5,
   "id": "ecd69da5",
   "metadata": {},
   "outputs": [
    {
     "name": "stdout",
     "output_type": "stream",
     "text": [
      "2\n",
      "4\n"
     ]
    }
   ],
   "source": [
    "def absolute_value(num):\n",
    "    \"\"\"this function returns the absolute\n",
    "    value of the entered number\"\"\"\n",
    "    if num >= 0:\n",
    "        return num\n",
    "    else:\n",
    "        return -num\n",
    "print(absolute_value(2))\n",
    "print(absolute_value(-4))"
   ]
  },
  {
   "cell_type": "code",
   "execution_count": 7,
   "id": "19136572",
   "metadata": {},
   "outputs": [
    {
     "name": "stdout",
     "output_type": "stream",
     "text": [
      "value inside function: 10\n",
      "value outside function: 20\n"
     ]
    }
   ],
   "source": [
    "# scope\n",
    "\n",
    "def my_func():\n",
    "    x=10\n",
    "    print(\"value inside function:\",x)\n",
    "x=20\n",
    "my_func()\n",
    "print(\"value outside function:\",x)"
   ]
  },
  {
   "cell_type": "code",
   "execution_count": 8,
   "id": "d48a3b2b",
   "metadata": {},
   "outputs": [
    {
     "name": "stdout",
     "output_type": "stream",
     "text": [
      "the sum is 11\n"
     ]
    }
   ],
   "source": [
    "# user defined\n",
    "\n",
    "def add_numbers(x,y):\n",
    "    sum=x+y\n",
    "    return sum\n",
    "num1=5\n",
    "num2=6\n",
    "print(\"the sum is\",add_numbers(num1,num2))"
   ]
  },
  {
   "cell_type": "code",
   "execution_count": 9,
   "id": "542e8f8f",
   "metadata": {},
   "outputs": [
    {
     "name": "stdout",
     "output_type": "stream",
     "text": [
      "hello kate,good morning\n",
      "hello bruce,how do you do?\n"
     ]
    }
   ],
   "source": [
    "# default argmnt\n",
    "\n",
    "def greet(name,msg=\"good morning\"):\n",
    "    \"\"\"this function greets to\n",
    "    the person with provided message\n",
    "    if the message is not provided,\n",
    "    it defaults to \"good mornin\" \"\"\"\n",
    "    print(\"hello\",name+ ',' +msg)\n",
    "greet(\"kate\")\n",
    "greet(\"bruce\",\"how do you do?\")"
   ]
  },
  {
   "cell_type": "code",
   "execution_count": null,
   "id": "2305ff92",
   "metadata": {},
   "outputs": [],
   "source": [
    "def greet(name,msg=\"good morning\"):\n",
    "    \"\"\"this function greets to\n",
    "    the person with provided message\n",
    "    if the message is not provided,\n",
    "    it defaults to \"good mornin\" \"\"\"\n",
    "    print(\"hello\",name+ ',' +msg)\n",
    "greet(\"kate\")\n",
    "greet(\"bruce\",\"how do you do?\")\n",
    "\n"
   ]
  },
  {
   "cell_type": "code",
   "execution_count": 10,
   "id": "c61b4c48",
   "metadata": {},
   "outputs": [
    {
     "name": "stdout",
     "output_type": "stream",
     "text": [
      "hello kate,good morning\n",
      "hello bruce,how do you do?\n",
      "hello far,how are you\n",
      "hello jo,where are yu\n",
      "hello aman,what happen\n"
     ]
    }
   ],
   "source": [
    "def greet(name,msg=\"good morning\"):\n",
    "    \"\"\"this function greets to\n",
    "    the person with provided message\n",
    "    if the message is not provided,\n",
    "    it defaults to \"good mornin\" \"\"\"\n",
    "    print(\"hello\",name+ ',' +msg)\n",
    "greet(\"kate\")\n",
    "greet(\"bruce\",\"how do you do?\")\n",
    "greet(name=\"far\",msg=\"how are you\")\n",
    "greet(msg=\"where are yu\",name=\"jo\")\n",
    "greet(\"aman\",msg=\"what happen\")"
   ]
  },
  {
   "cell_type": "code",
   "execution_count": 11,
   "id": "76e0f82e",
   "metadata": {},
   "outputs": [
    {
     "ename": "SyntaxError",
     "evalue": "positional argument follows keyword argument (Temp/ipykernel_9848/3503454461.py, line 1)",
     "output_type": "error",
     "traceback": [
      "\u001b[1;36m  File \u001b[1;32m\"C:\\Users\\Farhana\\AppData\\Local\\Temp/ipykernel_9848/3503454461.py\"\u001b[1;36m, line \u001b[1;32m1\u001b[0m\n\u001b[1;33m    greet(name=\"jerry\",\"how are you\")\u001b[0m\n\u001b[1;37m                                    ^\u001b[0m\n\u001b[1;31mSyntaxError\u001b[0m\u001b[1;31m:\u001b[0m positional argument follows keyword argument\n"
     ]
    }
   ],
   "source": [
    "greet(name=\"jerry\",\"how are you\")"
   ]
  },
  {
   "cell_type": "code",
   "execution_count": 15,
   "id": "12daa4a1",
   "metadata": {},
   "outputs": [
    {
     "ename": "NameError",
     "evalue": "name 'num' is not defined",
     "output_type": "error",
     "traceback": [
      "\u001b[1;31m---------------------------------------------------------------------------\u001b[0m",
      "\u001b[1;31mNameError\u001b[0m                                 Traceback (most recent call last)",
      "\u001b[1;32m~\\AppData\\Local\\Temp/ipykernel_9848/803257067.py\u001b[0m in \u001b[0;36m<module>\u001b[1;34m\u001b[0m\n\u001b[0;32m      8\u001b[0m         \u001b[1;32mreturn\u001b[0m\u001b[1;33m(\u001b[0m\u001b[0mx\u001b[0m \u001b[1;33m*\u001b[0m \u001b[0mfactorial\u001b[0m\u001b[1;33m(\u001b[0m\u001b[0mx\u001b[0m\u001b[1;33m-\u001b[0m\u001b[1;36m1\u001b[0m\u001b[1;33m)\u001b[0m\u001b[1;33m)\u001b[0m\u001b[1;33m\u001b[0m\u001b[1;33m\u001b[0m\u001b[0m\n\u001b[0;32m      9\u001b[0m     \u001b[0mnum\u001b[0m\u001b[1;33m=\u001b[0m\u001b[1;36m3\u001b[0m\u001b[1;33m\u001b[0m\u001b[1;33m\u001b[0m\u001b[0m\n\u001b[1;32m---> 10\u001b[1;33m \u001b[0mprint\u001b[0m\u001b[1;33m(\u001b[0m\u001b[1;34m\"the factorial of\"\u001b[0m\u001b[1;33m,\u001b[0m\u001b[0mnum\u001b[0m\u001b[1;33m,\u001b[0m\u001b[1;34m\"is\"\u001b[0m\u001b[1;33m,\u001b[0m\u001b[0mfactorial\u001b[0m\u001b[1;33m(\u001b[0m\u001b[0mnum\u001b[0m\u001b[1;33m)\u001b[0m\u001b[1;33m)\u001b[0m\u001b[1;33m\u001b[0m\u001b[1;33m\u001b[0m\u001b[0m\n\u001b[0m",
      "\u001b[1;31mNameError\u001b[0m: name 'num' is not defined"
     ]
    }
   ],
   "source": [
    "# recursion\n",
    "def factorial(x):\n",
    "    \"\"\"this is a recursive function\n",
    "    to find the factorial of an integer\"\"\"\n",
    "    if x == 1:\n",
    "        return 1\n",
    "    else:\n",
    "        return(x * factorial(x-1))\n",
    "    num=3\n",
    "print(\"the factorial of\",num,\"is\",factorial(num))"
   ]
  },
  {
   "cell_type": "code",
   "execution_count": 17,
   "id": "5c5d8813",
   "metadata": {},
   "outputs": [
    {
     "name": "stdout",
     "output_type": "stream",
     "text": [
      "   February 2001\n",
      "Mo Tu We Th Fr Sa Su\n",
      "          1  2  3  4\n",
      " 5  6  7  8  9 10 11\n",
      "12 13 14 15 16 17 18\n",
      "19 20 21 22 23 24 25\n",
      "26 27 28\n",
      "\n"
     ]
    }
   ],
   "source": [
    "# calender\n",
    "\n",
    "import calendar\n",
    "yy = 2001\n",
    "mm = 2\n",
    "print(calendar.month(yy,mm))"
   ]
  },
  {
   "cell_type": "code",
   "execution_count": 20,
   "id": "03c09cea",
   "metadata": {},
   "outputs": [
    {
     "name": "stdout",
     "output_type": "stream",
     "text": [
      "89\n"
     ]
    }
   ],
   "source": [
    "# find max of 3 no\n",
    "\n",
    "num1=12\n",
    "num2=23\n",
    "num3=89\n",
    "print(max(num1,num2,num3))"
   ]
  },
  {
   "cell_type": "code",
   "execution_count": 25,
   "id": "772ec50d",
   "metadata": {},
   "outputs": [
    {
     "name": "stdout",
     "output_type": "stream",
     "text": [
      "name: farhana age: 24\n"
     ]
    }
   ],
   "source": [
    "# argument\n",
    "\n",
    "def function(name,age):\n",
    "    \"\"\"the function that can\n",
    "    accept two arguments\"\"\"\n",
    "    print(\"name:\",name, \"age:\",age)\n",
    "function('farhana','24')"
   ]
  },
  {
   "cell_type": "code",
   "execution_count": 29,
   "id": "0317d18f",
   "metadata": {},
   "outputs": [
    {
     "name": "stdout",
     "output_type": "stream",
     "text": [
      "name: farhana, salary: 9000\n"
     ]
    }
   ],
   "source": [
    "# createfunction\n",
    "\n",
    "def showEmployee(name,salary=\"9000\"):\n",
    "    \"\"\"this function accept \n",
    "    employee name and salary\"\"\"\n",
    "    print(\"name:\",name+ ',',\"salary:\",salary)\n",
    "showEmployee('farhana')\n"
   ]
  },
  {
   "cell_type": "code",
   "execution_count": 6,
   "id": "65f3ecd2",
   "metadata": {},
   "outputs": [
    {
     "name": "stdout",
     "output_type": "stream",
     "text": [
      "addition= 55 substraction: -35\n"
     ]
    }
   ],
   "source": [
    "# calculation\n",
    "\n",
    "def calculation(a,b):\n",
    "    addition =a + b\n",
    "    sub = a - b\n",
    "    return print(\"addition=\",addition,\"substraction:\",sub)\n",
    "calculation(10,45)"
   ]
  },
  {
   "cell_type": "code",
   "execution_count": 3,
   "id": "d19ea1d7",
   "metadata": {},
   "outputs": [
    {
     "name": "stdout",
     "output_type": "stream",
     "text": [
      "additin 30 subtraction -10\n"
     ]
    }
   ],
   "source": [
    "def calculation(a,b):\n",
    "    return print(\"additin\",a+b,\"subtraction\",a-b)\n",
    "calculation(10,20)"
   ]
  },
  {
   "cell_type": "code",
   "execution_count": 2,
   "id": "9013bcf3",
   "metadata": {},
   "outputs": [
    {
     "name": "stdout",
     "output_type": "stream",
     "text": [
      "fibonacci series:\n",
      "0\n",
      "1\n",
      "1\n",
      "2\n",
      "3\n",
      "5\n",
      "8\n",
      "13\n",
      "21\n",
      "34\n"
     ]
    }
   ],
   "source": [
    "# fibonacci\n",
    "\n",
    "def fibnocci(x):\n",
    "    if x <= 1:\n",
    "        return x\n",
    "    else:\n",
    "        return (fibnocci(x-1) + fibnocci(x-2))\n",
    "nterms = 10\n",
    "if nterms <= 0:\n",
    "    print(\"enter value\")\n",
    "else:\n",
    "    print(\"fibonacci series:\")\n",
    "    for i in range(nterms):\n",
    "        print(fibnocci(i))"
   ]
  },
  {
   "cell_type": "code",
   "execution_count": 3,
   "id": "6694176c",
   "metadata": {},
   "outputs": [
    {
     "name": "stdout",
     "output_type": "stream",
     "text": [
      "factorial of 3 is 6\n"
     ]
    }
   ],
   "source": [
    "# factorial \n",
    "\n",
    "def factorial(x):\n",
    "    \"\"\"this fuction to find\n",
    "    factorial of an integer\"\"\"\n",
    "    if x == 1:\n",
    "        return 1\n",
    "    else:\n",
    "        return (x * factorial(x-1))\n",
    "    \n",
    "num = 3\n",
    "print(\"factorial of\",num,\"is\",factorial(num))"
   ]
  },
  {
   "cell_type": "code",
   "execution_count": 4,
   "id": "7bfbd785",
   "metadata": {},
   "outputs": [
    {
     "name": "stdout",
     "output_type": "stream",
     "text": [
      "the sum is 136\n"
     ]
    }
   ],
   "source": [
    "# natural num\n",
    "def sum(n):\n",
    "    if n <= 1:\n",
    "        return n\n",
    "    else:\n",
    "        return n + sum(n-1)\n",
    "    \n",
    "num = 16\n",
    "if num < 0:\n",
    "    print(\"enter pstv number\")\n",
    "else:\n",
    "    print(\"the sum is\",sum(num))"
   ]
  },
  {
   "cell_type": "code",
   "execution_count": 7,
   "id": "ca1256d5",
   "metadata": {},
   "outputs": [
    {
     "name": "stdout",
     "output_type": "stream",
     "text": [
      "enter number:407\n",
      "armstrong\n"
     ]
    }
   ],
   "source": [
    "# armstrong\n",
    "\n",
    "sum=0\n",
    "def armstrong(num):\n",
    "    global sum\n",
    "    if(num!=0):\n",
    "        sum+=pow(num%10,3)\n",
    "        armstrong(num//10)\n",
    "    return sum\n",
    "num=int(input(\"enter number:\"))\n",
    "if(armstrong(num)==num):\n",
    "    print(\"armstrong\")\n",
    "else:\n",
    "    print(\"not\")"
   ]
  },
  {
   "cell_type": "code",
   "execution_count": 10,
   "id": "9818ec9b",
   "metadata": {},
   "outputs": [
    {
     "name": "stdout",
     "output_type": "stream",
     "text": [
      "palindrome\n"
     ]
    }
   ],
   "source": [
    "# palindrome\n",
    "\n",
    "def isPalindrome(x):\n",
    "    return x == x[::-1]\n",
    "x='malayalam'\n",
    "result = isPalindrome(x)\n",
    "if result:\n",
    "    print(\"palindrome\")\n",
    "else:\n",
    "    print(\"not\")"
   ]
  },
  {
   "cell_type": "code",
   "execution_count": null,
   "id": "3a828cea",
   "metadata": {},
   "outputs": [],
   "source": []
  }
 ],
 "metadata": {
  "kernelspec": {
   "display_name": "Python 3 (ipykernel)",
   "language": "python",
   "name": "python3"
  },
  "language_info": {
   "codemirror_mode": {
    "name": "ipython",
    "version": 3
   },
   "file_extension": ".py",
   "mimetype": "text/x-python",
   "name": "python",
   "nbconvert_exporter": "python",
   "pygments_lexer": "ipython3",
   "version": "3.9.7"
  }
 },
 "nbformat": 4,
 "nbformat_minor": 5
}
