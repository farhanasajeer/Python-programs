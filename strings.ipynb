{
 "cells": [
  {
   "cell_type": "code",
   "execution_count": 3,
   "id": "6b37a742",
   "metadata": {},
   "outputs": [
    {
     "name": "stdout",
     "output_type": "stream",
     "text": [
      "first character is f\n",
      "fifth character is a\n",
      "last character is n\n"
     ]
    }
   ],
   "source": [
    "name = 'farhana shirin'\n",
    "print('first character is', name[0])\n",
    "print('fifth character is', name[4])\n",
    "print('last character is', name[-1])"
   ]
  },
  {
   "cell_type": "code",
   "execution_count": null,
   "id": "33bc1821",
   "metadata": {},
   "outputs": [],
   "source": []
  },
  {
   "cell_type": "code",
   "execution_count": 5,
   "id": "1982c07d",
   "metadata": {},
   "outputs": [
    {
     "name": "stdout",
     "output_type": "stream",
     "text": [
      "farhanashirin <class 'str'>\n",
      "f <class 'str'>\n"
     ]
    }
   ],
   "source": [
    "name=\"farhanashirin\"\n",
    "print(name, type(name) )\n",
    "print(name[0], type(name[0]))"
   ]
  },
  {
   "cell_type": "code",
   "execution_count": 9,
   "id": "ce3992cd",
   "metadata": {},
   "outputs": [
    {
     "name": "stdout",
     "output_type": "stream",
     "text": [
      "first 5 characers are :  farha\n",
      "string excluding first 5 characters : nashirin\n",
      "4th to 8th character anas\n"
     ]
    }
   ],
   "source": [
    "name=\"farhanashirin\"\n",
    "print('first 5 characers are : ', name[:5])\n",
    "print('string excluding first 5 characters :', name[5:])\n",
    "print('4th to 8th character', name[4:8])"
   ]
  },
  {
   "cell_type": "code",
   "execution_count": 10,
   "id": "a497ccaf",
   "metadata": {},
   "outputs": [
    {
     "name": "stdout",
     "output_type": "stream",
     "text": [
      "farhanashirin\n"
     ]
    }
   ],
   "source": [
    "firstname = 'farhana'\n",
    "secondname = 'shirin'\n",
    "fullname = firstname+secondname\n",
    "print(fullname)"
   ]
  },
  {
   "cell_type": "code",
   "execution_count": 23,
   "id": "97858ab1",
   "metadata": {},
   "outputs": [
    {
     "name": "stdout",
     "output_type": "stream",
     "text": [
      "hello \n",
      "hello \n",
      "hello \n",
      "\n"
     ]
    }
   ],
   "source": [
    "word = 'hello \\n'\n",
    "echo = word * 3\n",
    "print(echo)\n"
   ]
  },
  {
   "cell_type": "code",
   "execution_count": 24,
   "id": "fd3c9b8d",
   "metadata": {},
   "outputs": [
    {
     "name": "stdout",
     "output_type": "stream",
     "text": [
      "f\n",
      "a\n",
      "r\n",
      "h\n",
      "a\n",
      "n\n",
      "a\n"
     ]
    }
   ],
   "source": [
    "word = 'farhana'\n",
    "for c in word:\n",
    "    print(c)"
   ]
  },
  {
   "cell_type": "code",
   "execution_count": 26,
   "id": "d7e5335b",
   "metadata": {},
   "outputs": [
    {
     "name": "stdout",
     "output_type": "stream",
     "text": [
      "character a occured 3 number of times\n"
     ]
    }
   ],
   "source": [
    "word = 'farhana shirin'\n",
    "count = 0\n",
    "for c in word:\n",
    "    if c == 'a':\n",
    "        count = count + 1\n",
    "print('character a occured', count,'number of times')"
   ]
  },
  {
   "cell_type": "code",
   "execution_count": 42,
   "id": "240129f6",
   "metadata": {},
   "outputs": [
    {
     "name": "stdout",
     "output_type": "stream",
     "text": [
      "enter a name:farhana\n",
      "farhana f <class 'str'>\n",
      "full characters farhana\n",
      "character a occured 3 number of times\n"
     ]
    }
   ],
   "source": [
    "name=str(input(\"enter a name:\"))\n",
    "print(name,name[0],type(name))\n",
    "print('full characters', name[0:8])\n",
    "count = 0\n",
    "for c in name:\n",
    "    if c == 'a':\n",
    "        count = count + 1\n",
    "print('character a occured',count,'number of times')\n",
    "    \n",
    "    \n"
   ]
  },
  {
   "cell_type": "code",
   "execution_count": 49,
   "id": "1b3aaf5f",
   "metadata": {},
   "outputs": [
    {
     "name": "stdout",
     "output_type": "stream",
     "text": [
      "enter a string:farhana\n",
      "length of string is: 7\n"
     ]
    }
   ],
   "source": [
    "word=str(input(\"enter a string:\"))\n",
    "print(\"length of string is:\",len(word))"
   ]
  },
  {
   "cell_type": "code",
   "execution_count": 51,
   "id": "bc854144",
   "metadata": {},
   "outputs": [
    {
     "name": "stdout",
     "output_type": "stream",
     "text": [
      "enter a string:hi from here\n",
      "length of string is: 12\n"
     ]
    }
   ],
   "source": [
    "word=str(input(\"enter a string:\"))\n",
    "count = 0\n",
    "for i in word:\n",
    "    count = count + 1\n",
    "print(\"length of string is:\",count)"
   ]
  },
  {
   "cell_type": "code",
   "execution_count": 7,
   "id": "75922fad",
   "metadata": {},
   "outputs": [
    {
     "name": "stdout",
     "output_type": "stream",
     "text": [
      "good \n"
     ]
    }
   ],
   "source": [
    "word='hi good afternoon'\n",
    "print(word[3:8])"
   ]
  },
  {
   "cell_type": "code",
   "execution_count": null,
   "id": "c94a8930",
   "metadata": {},
   "outputs": [],
   "source": []
  },
  {
   "cell_type": "code",
   "execution_count": null,
   "id": "90b1fee5",
   "metadata": {},
   "outputs": [],
   "source": []
  }
 ],
 "metadata": {
  "kernelspec": {
   "display_name": "Python 3 (ipykernel)",
   "language": "python",
   "name": "python3"
  },
  "language_info": {
   "codemirror_mode": {
    "name": "ipython",
    "version": 3
   },
   "file_extension": ".py",
   "mimetype": "text/x-python",
   "name": "python",
   "nbconvert_exporter": "python",
   "pygments_lexer": "ipython3",
   "version": "3.9.7"
  }
 },
 "nbformat": 4,
 "nbformat_minor": 5
}
