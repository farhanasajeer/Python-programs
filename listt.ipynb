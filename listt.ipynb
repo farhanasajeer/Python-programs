{
 "cells": [
  {
   "cell_type": "code",
   "execution_count": 3,
   "id": "2d79c2cc",
   "metadata": {},
   "outputs": [
    {
     "name": "stdout",
     "output_type": "stream",
     "text": [
      "[]\n"
     ]
    },
    {
     "data": {
      "text/plain": [
       "list"
      ]
     },
     "execution_count": 3,
     "metadata": {},
     "output_type": "execute_result"
    }
   ],
   "source": [
    "list=[]\n",
    "print(list)\n",
    "type(list)"
   ]
  },
  {
   "cell_type": "code",
   "execution_count": null,
   "id": "351c523a",
   "metadata": {},
   "outputs": [],
   "source": []
  },
  {
   "cell_type": "code",
   "execution_count": 5,
   "id": "7bbee091",
   "metadata": {},
   "outputs": [
    {
     "name": "stdout",
     "output_type": "stream",
     "text": [
      "list: [1, 3, 667]\n"
     ]
    }
   ],
   "source": [
    "numlist=[1,3,667]\n",
    "print(\"list:\",numlist)\n"
   ]
  },
  {
   "cell_type": "code",
   "execution_count": 6,
   "id": "17cc977a",
   "metadata": {},
   "outputs": [
    {
     "name": "stdout",
     "output_type": "stream",
     "text": [
      "stringlist: ['farhana', 'mlprm']\n"
     ]
    }
   ],
   "source": [
    "string=['farhana','mlprm']\n",
    "print(\"stringlist:\",string)\n"
   ]
  },
  {
   "cell_type": "code",
   "execution_count": 8,
   "id": "be6928db",
   "metadata": {},
   "outputs": [
    {
     "name": "stdout",
     "output_type": "stream",
     "text": [
      "[1, 'farha']\n",
      "[1, 'far', ['hi']]\n"
     ]
    }
   ],
   "source": [
    "word=[1,'farha']\n",
    "print(word)\n",
    "word=[1,'far',[\"hi\"]]\n",
    "print(word)"
   ]
  },
  {
   "cell_type": "code",
   "execution_count": 9,
   "id": "59e728a1",
   "metadata": {},
   "outputs": [
    {
     "name": "stdout",
     "output_type": "stream",
     "text": [
      "o\n"
     ]
    }
   ],
   "source": [
    "list=['p','r','o','b','e']\n",
    "print(list[2])\n",
    "# positive indexing"
   ]
  },
  {
   "cell_type": "code",
   "execution_count": 10,
   "id": "5ea688f1",
   "metadata": {},
   "outputs": [
    {
     "name": "stdout",
     "output_type": "stream",
     "text": [
      "b\n"
     ]
    }
   ],
   "source": [
    "list=['p','r','o','b','e']\n",
    "print(list[-2])\n",
    "# negative indexing"
   ]
  },
  {
   "cell_type": "code",
   "execution_count": 11,
   "id": "efc10e79",
   "metadata": {},
   "outputs": [
    {
     "name": "stdout",
     "output_type": "stream",
     "text": [
      "e\n"
     ]
    }
   ],
   "source": [
    "my_list=['p','r','o','b','e']\n",
    "print(my_list[-1])"
   ]
  },
  {
   "cell_type": "code",
   "execution_count": 12,
   "id": "6614d98e",
   "metadata": {},
   "outputs": [
    {
     "name": "stdout",
     "output_type": "stream",
     "text": [
      "p\n"
     ]
    }
   ],
   "source": [
    "my_list=['p','r','o','b','e']\n",
    "print(my_list[-5])"
   ]
  },
  {
   "cell_type": "code",
   "execution_count": 13,
   "id": "cce16fad",
   "metadata": {},
   "outputs": [
    {
     "name": "stdout",
     "output_type": "stream",
     "text": [
      "[90, 78, 65]\n"
     ]
    }
   ],
   "source": [
    "# change element\n",
    "marks=[90,78,65]\n",
    "print(marks)"
   ]
  },
  {
   "cell_type": "code",
   "execution_count": 14,
   "id": "7ff26035",
   "metadata": {},
   "outputs": [
    {
     "name": "stdout",
     "output_type": "stream",
     "text": [
      "[100, 78, 65]\n"
     ]
    }
   ],
   "source": [
    "marks[0]=100\n",
    "print(marks)"
   ]
  },
  {
   "cell_type": "code",
   "execution_count": 15,
   "id": "566f002d",
   "metadata": {},
   "outputs": [
    {
     "name": "stdout",
     "output_type": "stream",
     "text": [
      "[100, 78, 65, 50]\n"
     ]
    }
   ],
   "source": [
    "# add elements\n",
    "marks.append(50)\n",
    "print(marks)"
   ]
  },
  {
   "cell_type": "code",
   "execution_count": 17,
   "id": "c59d1f31",
   "metadata": {},
   "outputs": [
    {
     "name": "stdout",
     "output_type": "stream",
     "text": [
      "[100, 78, 65, 50, 10, 35, 69]\n"
     ]
    }
   ],
   "source": [
    "# add several number used to extend\n",
    "marks.extend([10,35,69])\n",
    "print(marks)"
   ]
  },
  {
   "cell_type": "code",
   "execution_count": 18,
   "id": "7355e16a",
   "metadata": {},
   "outputs": [
    {
     "name": "stdout",
     "output_type": "stream",
     "text": [
      "[100, 78, 7, 65, 50, 10, 35, 69]\n"
     ]
    }
   ],
   "source": [
    "# insert used to insert value by location\n",
    "marks.insert(2,7)\n",
    "print(marks)"
   ]
  },
  {
   "cell_type": "code",
   "execution_count": 32,
   "id": "61c43e82",
   "metadata": {},
   "outputs": [
    {
     "name": "stdout",
     "output_type": "stream",
     "text": [
      "[10, 35, 68, 30, 56, 78, 35, 70]\n"
     ]
    }
   ],
   "source": [
    "mark=[10,35,68,30,56,78,35,70]\n",
    "print(mark)"
   ]
  },
  {
   "cell_type": "code",
   "execution_count": 33,
   "id": "9b90cab5",
   "metadata": {},
   "outputs": [
    {
     "name": "stdout",
     "output_type": "stream",
     "text": [
      "[10, 35, 68, 30, 56, 78, 70]\n"
     ]
    }
   ],
   "source": [
    "del mark[6]\n",
    "print(mark)"
   ]
  },
  {
   "cell_type": "code",
   "execution_count": 34,
   "id": "81ec104b",
   "metadata": {},
   "outputs": [
    {
     "ename": "NameError",
     "evalue": "name 'marks' is not defined",
     "output_type": "error",
     "traceback": [
      "\u001b[1;31m---------------------------------------------------------------------------\u001b[0m",
      "\u001b[1;31mNameError\u001b[0m                                 Traceback (most recent call last)",
      "\u001b[1;32m~\\AppData\\Local\\Temp/ipykernel_12920/3610640570.py\u001b[0m in \u001b[0;36m<module>\u001b[1;34m\u001b[0m\n\u001b[1;32m----> 1\u001b[1;33m \u001b[1;32mdel\u001b[0m \u001b[0mmarks\u001b[0m\u001b[1;33m\u001b[0m\u001b[1;33m\u001b[0m\u001b[0m\n\u001b[0m\u001b[0;32m      2\u001b[0m \u001b[0mprint\u001b[0m\u001b[1;33m(\u001b[0m\u001b[0mmark\u001b[0m\u001b[1;33m)\u001b[0m\u001b[1;33m\u001b[0m\u001b[1;33m\u001b[0m\u001b[0m\n",
      "\u001b[1;31mNameError\u001b[0m: name 'marks' is not defined"
     ]
    }
   ],
   "source": [
    "del marks\n",
    "print(mark)"
   ]
  },
  {
   "cell_type": "code",
   "execution_count": 35,
   "id": "ccbd0a2e",
   "metadata": {},
   "outputs": [
    {
     "name": "stdout",
     "output_type": "stream",
     "text": [
      "[]\n"
     ]
    }
   ],
   "source": [
    "mark.clear()\n",
    "print(mark)"
   ]
  },
  {
   "cell_type": "code",
   "execution_count": 36,
   "id": "774e3f61",
   "metadata": {},
   "outputs": [
    {
     "name": "stdout",
     "output_type": "stream",
     "text": [
      "[20, 30]\n"
     ]
    }
   ],
   "source": [
    "markk=[10,20,30]\n",
    "markk.remove(10)\n",
    "print(markk)\n",
    "# remove item"
   ]
  },
  {
   "cell_type": "code",
   "execution_count": 37,
   "id": "685c66ba",
   "metadata": {},
   "outputs": [
    {
     "ename": "ValueError",
     "evalue": "list.remove(x): x not in list",
     "output_type": "error",
     "traceback": [
      "\u001b[1;31m---------------------------------------------------------------------------\u001b[0m",
      "\u001b[1;31mValueError\u001b[0m                                Traceback (most recent call last)",
      "\u001b[1;32m~\\AppData\\Local\\Temp/ipykernel_12920/2535822257.py\u001b[0m in \u001b[0;36m<module>\u001b[1;34m\u001b[0m\n\u001b[1;32m----> 1\u001b[1;33m \u001b[0mmarkk\u001b[0m\u001b[1;33m.\u001b[0m\u001b[0mremove\u001b[0m\u001b[1;33m(\u001b[0m\u001b[1;36m100\u001b[0m\u001b[1;33m)\u001b[0m\u001b[1;33m\u001b[0m\u001b[1;33m\u001b[0m\u001b[0m\n\u001b[0m",
      "\u001b[1;31mValueError\u001b[0m: list.remove(x): x not in list"
     ]
    }
   ],
   "source": [
    "markk.remove(100)"
   ]
  },
  {
   "cell_type": "code",
   "execution_count": 38,
   "id": "23a64f91",
   "metadata": {},
   "outputs": [
    {
     "data": {
      "text/plain": [
       "450"
      ]
     },
     "execution_count": 38,
     "metadata": {},
     "output_type": "execute_result"
    }
   ],
   "source": [
    "value=[100,200,300,450]\n",
    "value.pop()"
   ]
  },
  {
   "cell_type": "code",
   "execution_count": 39,
   "id": "8225e6aa",
   "metadata": {},
   "outputs": [
    {
     "name": "stdout",
     "output_type": "stream",
     "text": [
      "[100, 200, 300]\n"
     ]
    }
   ],
   "source": [
    "print(value)"
   ]
  },
  {
   "cell_type": "code",
   "execution_count": null,
   "id": "39c106af",
   "metadata": {},
   "outputs": [],
   "source": []
  },
  {
   "cell_type": "code",
   "execution_count": 44,
   "id": "40e7112e",
   "metadata": {},
   "outputs": [
    {
     "name": "stdout",
     "output_type": "stream",
     "text": [
      "[]\n"
     ]
    }
   ],
   "source": [
    "print(value)"
   ]
  },
  {
   "cell_type": "code",
   "execution_count": 47,
   "id": "53a193dd",
   "metadata": {},
   "outputs": [
    {
     "name": "stdout",
     "output_type": "stream",
     "text": [
      "[20, 30]\n"
     ]
    }
   ],
   "source": [
    "val=[10,20,30]\n",
    "val.pop(0)\n",
    "print(val)"
   ]
  },
  {
   "cell_type": "code",
   "execution_count": 48,
   "id": "c4c7a9f9",
   "metadata": {},
   "outputs": [
    {
     "name": "stdout",
     "output_type": "stream",
     "text": [
      "list: ['hi', 'hello']\n"
     ]
    }
   ],
   "source": [
    "# append() method\n",
    "# adding element\n",
    "list=['hi','hello']\n",
    "print(\"list:\",list)"
   ]
  },
  {
   "cell_type": "code",
   "execution_count": 49,
   "id": "8d9e6bd0",
   "metadata": {},
   "outputs": [
    {
     "name": "stdout",
     "output_type": "stream",
     "text": [
      "new list: ['hi', 'hello', 'welcome']\n"
     ]
    }
   ],
   "source": [
    "list.append(\"welcome\")\n",
    "print(\"new list:\",list)"
   ]
  },
  {
   "cell_type": "code",
   "execution_count": 50,
   "id": "8ce38cae",
   "metadata": {},
   "outputs": [
    {
     "name": "stdout",
     "output_type": "stream",
     "text": [
      "list: ['hi', 'hello']\n"
     ]
    }
   ],
   "source": [
    "# adding list to list\n",
    "list=['hi','hello']\n",
    "print(\"list:\",list)"
   ]
  },
  {
   "cell_type": "code",
   "execution_count": 54,
   "id": "c2259d46",
   "metadata": {},
   "outputs": [
    {
     "name": "stdout",
     "output_type": "stream",
     "text": [
      "new list: ['hi', 'hello', ['welcome'], ['welcome'], ['welcome'], ['welcome']]\n"
     ]
    }
   ],
   "source": [
    "list1=['welcome']\n",
    "list.append(list1)\n",
    "print(\"new list:\",list)"
   ]
  },
  {
   "cell_type": "code",
   "execution_count": 55,
   "id": "4c1181b2",
   "metadata": {},
   "outputs": [
    {
     "name": "stdout",
     "output_type": "stream",
     "text": [
      "count of i is: 1\n"
     ]
    }
   ],
   "source": [
    "# count()\n",
    "# count occurence of an element\n",
    "list=['a','b','c','d','e','f','g','c','i','j']\n",
    "print('count of i is:',list.count('i'))\n"
   ]
  },
  {
   "cell_type": "code",
   "execution_count": 56,
   "id": "cb3fec49",
   "metadata": {},
   "outputs": [
    {
     "name": "stdout",
     "output_type": "stream",
     "text": [
      "count of c is: 2\n"
     ]
    }
   ],
   "source": [
    "print('count of c is:',list.count('c'))\n"
   ]
  },
  {
   "cell_type": "code",
   "execution_count": 9,
   "id": "a1b073b4",
   "metadata": {},
   "outputs": [
    {
     "name": "stdout",
     "output_type": "stream",
     "text": [
      "count of('a','b') is: 1\n"
     ]
    }
   ],
   "source": [
    "# count occurence of tuple and list inside the list\n",
    "list=['a',('h','i'),('a','b'),[8,4]]\n",
    "count=list.count(('a','b'))\n",
    "print(\"count of('a','b') is:\",count)\n"
   ]
  },
  {
   "cell_type": "code",
   "execution_count": 11,
   "id": "c35bf3e7",
   "metadata": {},
   "outputs": [
    {
     "name": "stdout",
     "output_type": "stream",
     "text": [
      "count of[3,4] is 0\n"
     ]
    }
   ],
   "source": [
    "count=list.count([3,4])\n",
    "print(\"count of[3,4] is\",count)"
   ]
  },
  {
   "cell_type": "code",
   "execution_count": 14,
   "id": "77e2f4bd",
   "metadata": {},
   "outputs": [
    {
     "name": "stdout",
     "output_type": "stream",
     "text": [
      "language list: ['c', 'c++', 'python', 'java', 'cobol']\n"
     ]
    }
   ],
   "source": [
    "# extend()\n",
    "language=['c','c++','python']\n",
    "language1=['java','cobol']\n",
    "language.extend(language1)\n",
    "print(\"language list:\",language)"
   ]
  },
  {
   "cell_type": "code",
   "execution_count": 15,
   "id": "65e1d135",
   "metadata": {},
   "outputs": [
    {
     "name": "stdout",
     "output_type": "stream",
     "text": [
      "new language list: ['c', 'c++', 'python', 'java', 'cobol']\n"
     ]
    }
   ],
   "source": [
    "# add elemnts of tuole and set to list\n",
    "language=['c','c++','python']\n",
    "language_tuple=['java','cobol']\n",
    "language_set={'.net','c##'}\n",
    "language.extend(language_tuple)\n",
    "print(\"new language list:\",language)"
   ]
  },
  {
   "cell_type": "code",
   "execution_count": 16,
   "id": "b3901d79",
   "metadata": {},
   "outputs": [
    {
     "name": "stdout",
     "output_type": "stream",
     "text": [
      "new language list: ['c', 'c++', 'python', 'java', 'cobol', '.net', 'c##']\n"
     ]
    }
   ],
   "source": [
    "language.extend(language_set)\n",
    "print(\"new language list:\",language)"
   ]
  },
  {
   "cell_type": "code",
   "execution_count": 17,
   "id": "7c86266e",
   "metadata": {},
   "outputs": [
    {
     "name": "stdout",
     "output_type": "stream",
     "text": [
      "count of i is: 1\n"
     ]
    }
   ],
   "source": [
    "# index()\n",
    "list=['h','i','h','o','w','y','o','u','!','!']\n",
    "print(\"count of i is:\",list.index('i'))"
   ]
  },
  {
   "cell_type": "code",
   "execution_count": 18,
   "id": "03f17ba6",
   "metadata": {},
   "outputs": [
    {
     "name": "stdout",
     "output_type": "stream",
     "text": [
      "count of o is: 3\n"
     ]
    }
   ],
   "source": [
    "print(\"count of o is:\",list.index('o'))"
   ]
  },
  {
   "cell_type": "code",
   "execution_count": 19,
   "id": "29a4e453",
   "metadata": {},
   "outputs": [
    {
     "ename": "ValueError",
     "evalue": "'z' is not in list",
     "output_type": "error",
     "traceback": [
      "\u001b[1;31m---------------------------------------------------------------------------\u001b[0m",
      "\u001b[1;31mValueError\u001b[0m                                Traceback (most recent call last)",
      "\u001b[1;32m~\\AppData\\Local\\Temp/ipykernel_3624/1346597410.py\u001b[0m in \u001b[0;36m<module>\u001b[1;34m\u001b[0m\n\u001b[1;32m----> 1\u001b[1;33m \u001b[0mprint\u001b[0m\u001b[1;33m(\u001b[0m\u001b[1;34m\"count of z is:\"\u001b[0m\u001b[1;33m,\u001b[0m\u001b[0mlist\u001b[0m\u001b[1;33m.\u001b[0m\u001b[0mindex\u001b[0m\u001b[1;33m(\u001b[0m\u001b[1;34m'z'\u001b[0m\u001b[1;33m)\u001b[0m\u001b[1;33m)\u001b[0m\u001b[1;33m\u001b[0m\u001b[1;33m\u001b[0m\u001b[0m\n\u001b[0m",
      "\u001b[1;31mValueError\u001b[0m: 'z' is not in list"
     ]
    }
   ],
   "source": [
    "print(\"count of z is:\",list.index('z'))"
   ]
  },
  {
   "cell_type": "code",
   "execution_count": 20,
   "id": "bf9262e6",
   "metadata": {},
   "outputs": [
    {
     "name": "stdout",
     "output_type": "stream",
     "text": [
      "list: ['a', 'i', 'o', 'u']\n"
     ]
    }
   ],
   "source": [
    "# insert()\n",
    "# insert element to list\n",
    "vowels=['a','i','o','u']\n",
    "print(\"list:\",vowels)"
   ]
  },
  {
   "cell_type": "code",
   "execution_count": 21,
   "id": "21abe247",
   "metadata": {},
   "outputs": [
    {
     "name": "stdout",
     "output_type": "stream",
     "text": [
      "new list= ['a', 'e', 'i', 'o', 'u']\n"
     ]
    }
   ],
   "source": [
    "vowels.insert(1,'e')\n",
    "print('new list=',vowels)"
   ]
  },
  {
   "cell_type": "code",
   "execution_count": 26,
   "id": "3a67ca53",
   "metadata": {},
   "outputs": [
    {
     "name": "stdout",
     "output_type": "stream",
     "text": [
      "return_value: french\n"
     ]
    }
   ],
   "source": [
    "# pop()\n",
    "# pop element given index\n",
    "list5=['python','java','c++','french','c']\n",
    "return_value=list5.pop(3)\n",
    "print('return_value:',return_value)"
   ]
  },
  {
   "cell_type": "code",
   "execution_count": 27,
   "id": "89cf48b9",
   "metadata": {},
   "outputs": [
    {
     "name": "stdout",
     "output_type": "stream",
     "text": [
      "updated list: ['python', 'java', 'c++', 'c']\n"
     ]
    }
   ],
   "source": [
    "print(\"updated list:\",list5)"
   ]
  },
  {
   "cell_type": "code",
   "execution_count": 28,
   "id": "b735f227",
   "metadata": {},
   "outputs": [
    {
     "name": "stdout",
     "output_type": "stream",
     "text": [
      "return value: c\n",
      "updated list: ['python', 'java', 'c++']\n",
      "return value: c++\n",
      "updated list: ['python', 'java']\n"
     ]
    }
   ],
   "source": [
    "# pop index not passed\n",
    "language=['python','java','c++','c']\n",
    "print('return value:',language.pop())\n",
    "print('updated list:',language)\n",
    "print('return value:',language.pop(-1))\n",
    "print('updated list:',language)"
   ]
  },
  {
   "cell_type": "code",
   "execution_count": 29,
   "id": "8fb457fb",
   "metadata": {},
   "outputs": [
    {
     "name": "stdout",
     "output_type": "stream",
     "text": [
      "new list: [1, 2, 3, 'a']\n",
      "old list: [1, 2, 3, 'a']\n"
     ]
    }
   ],
   "source": [
    "# copy()\n",
    "oldlist=[1,2,3]\n",
    "newlist=oldlist\n",
    "newlist.append('a')\n",
    "print(\"new list:\",newlist)\n",
    "print(\"old list:\",oldlist)\n"
   ]
  },
  {
   "cell_type": "code",
   "execution_count": 32,
   "id": "a901777d",
   "metadata": {},
   "outputs": [
    {
     "name": "stdout",
     "output_type": "stream",
     "text": [
      "[1, 2, 4, 3]\n",
      "oldlist: [1, 2, 4]\n"
     ]
    }
   ],
   "source": [
    "list=[1,2,4]\n",
    "newlist=list.copy()\n",
    "newlist.append(3)\n",
    "print(newlist)\n",
    "print('oldlist:',list)"
   ]
  },
  {
   "cell_type": "code",
   "execution_count": 33,
   "id": "31e03aab",
   "metadata": {},
   "outputs": [
    {
     "name": "stdout",
     "output_type": "stream",
     "text": [
      "original list [5, 78, 12, 26, 50]\n"
     ]
    }
   ],
   "source": [
    "# remove\n",
    "list=[5,78,12,26,50]\n",
    "print('original list',list)"
   ]
  },
  {
   "cell_type": "code",
   "execution_count": 34,
   "id": "43d289b2",
   "metadata": {},
   "outputs": [
    {
     "name": "stdout",
     "output_type": "stream",
     "text": [
      "updated list elements: [5, 78, 26, 50]\n"
     ]
    }
   ],
   "source": [
    "list.remove(12)\n",
    "print('updated list elements:',list)"
   ]
  },
  {
   "cell_type": "code",
   "execution_count": 36,
   "id": "f33415ee",
   "metadata": {},
   "outputs": [
    {
     "name": "stdout",
     "output_type": "stream",
     "text": [
      "original list: [1, 5, 8, 6, 11, 55]\n"
     ]
    }
   ],
   "source": [
    "# reverse\n",
    "# use slicing operater\n",
    "list=[1,5,8,6,11,55]\n",
    "print('original list:',list)\n",
    "reversedlist=list[::-1]"
   ]
  },
  {
   "cell_type": "code",
   "execution_count": 37,
   "id": "e601bef8",
   "metadata": {},
   "outputs": [
    {
     "name": "stdout",
     "output_type": "stream",
     "text": [
      "original list: [1, 5, 8, 6, 11, 55]\n",
      "reversedlist: [55, 11, 6, 8, 5, 1]\n"
     ]
    }
   ],
   "source": [
    "# reverse \n",
    "list=[1,5,8,6,11,55]\n",
    "print('original list:',list)\n",
    "list.reverse()\n",
    "print('reversedlist:',list)"
   ]
  },
  {
   "cell_type": "code",
   "execution_count": 43,
   "id": "5b19191a",
   "metadata": {},
   "outputs": [
    {
     "data": {
      "text/plain": [
       "True"
      ]
     },
     "execution_count": 43,
     "metadata": {},
     "output_type": "execute_result"
    }
   ],
   "source": [
    "# all()\n",
    "list=[23,78,'h']\n",
    "all(list)"
   ]
  },
  {
   "cell_type": "code",
   "execution_count": 2,
   "id": "6dc141d2",
   "metadata": {},
   "outputs": [
    {
     "name": "stdout",
     "output_type": "stream",
     "text": [
      "length of list: 4\n"
     ]
    }
   ],
   "source": [
    "list=[1,2,3888,4]\n",
    "print(\"length of list:\",len(list))"
   ]
  },
  {
   "cell_type": "code",
   "execution_count": 3,
   "id": "e5f05c07",
   "metadata": {},
   "outputs": [
    {
     "name": "stdout",
     "output_type": "stream",
     "text": [
      "sum of list= 40\n"
     ]
    }
   ],
   "source": [
    "list=[10,30]\n",
    "print(\"sum of list=\",sum(list))"
   ]
  },
  {
   "cell_type": "code",
   "execution_count": 11,
   "id": "612cbc94",
   "metadata": {},
   "outputs": [
    {
     "name": "stdout",
     "output_type": "stream",
     "text": [
      "sorted list is: [2.67, 7, 7, 45, 89, 90]\n"
     ]
    }
   ],
   "source": [
    "list=[2.67,89,45,7,7,90]\n",
    "print(\"sorted list is:\",sorted(list))\n"
   ]
  },
  {
   "cell_type": "code",
   "execution_count": 9,
   "id": "38e161f1",
   "metadata": {},
   "outputs": [
    {
     "name": "stdout",
     "output_type": "stream",
     "text": [
      "largest number is: 678\n",
      "smallest number is: -1\n"
     ]
    }
   ],
   "source": [
    "list=[.0,678,67,63,67,88,-1,4]\n",
    "print(\"largest number is:\",max(list))\n",
    "print(\"smallest number is:\",min(list))"
   ]
  },
  {
   "cell_type": "code",
   "execution_count": 16,
   "id": "1a7a2638",
   "metadata": {},
   "outputs": [
    {
     "name": "stdout",
     "output_type": "stream",
     "text": [
      "[2.67, 7, 7, 45, 89, 90]\n"
     ]
    }
   ],
   "source": [
    "print(list)"
   ]
  },
  {
   "cell_type": "code",
   "execution_count": 20,
   "id": "ea2e7d7e",
   "metadata": {},
   "outputs": [
    {
     "name": "stdout",
     "output_type": "stream",
     "text": [
      "reverse list: [90, 89, 45, 7, 7, 2.67]\n"
     ]
    }
   ],
   "source": [
    "list.reverse()\n",
    "print('reverse list:',list)"
   ]
  },
  {
   "cell_type": "code",
   "execution_count": 18,
   "id": "e86299d1",
   "metadata": {},
   "outputs": [
    {
     "name": "stdout",
     "output_type": "stream",
     "text": [
      "[2.67, 7, 7, 45, 89, 90]\n"
     ]
    }
   ],
   "source": [
    "list.sort()\n",
    "print(list)"
   ]
  },
  {
   "cell_type": "code",
   "execution_count": 25,
   "id": "5285ae60",
   "metadata": {},
   "outputs": [
    {
     "name": "stdout",
     "output_type": "stream",
     "text": [
      "['hi', 'hello']\n"
     ]
    }
   ],
   "source": [
    "list=['hi','hello']\n",
    "enumerete=enumerate(list)\n",
    "print(list)\n"
   ]
  },
  {
   "cell_type": "code",
   "execution_count": 34,
   "id": "75b67bba",
   "metadata": {},
   "outputs": [
    {
     "name": "stdout",
     "output_type": "stream",
     "text": [
      "mergeg list [6, 78, 46, 45, 90, 89]\n",
      "sorted: [6, 45, 46, 78, 89, 90]\n"
     ]
    }
   ],
   "source": [
    "list=[6,78,46]\n",
    "list2=[45,90,89]\n",
    "list.extend(list2)\n",
    "print(\"mergeg list\",list)\n",
    "list.sort()\n",
    "print(\"sorted:\",list)"
   ]
  },
  {
   "cell_type": "code",
   "execution_count": null,
   "id": "8aa62374",
   "metadata": {},
   "outputs": [],
   "source": []
  }
 ],
 "metadata": {
  "kernelspec": {
   "display_name": "Python 3 (ipykernel)",
   "language": "python",
   "name": "python3"
  },
  "language_info": {
   "codemirror_mode": {
    "name": "ipython",
    "version": 3
   },
   "file_extension": ".py",
   "mimetype": "text/x-python",
   "name": "python",
   "nbconvert_exporter": "python",
   "pygments_lexer": "ipython3",
   "version": "3.9.7"
  }
 },
 "nbformat": 4,
 "nbformat_minor": 5
}
