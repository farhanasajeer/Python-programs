{
  "nbformat": 4,
  "nbformat_minor": 0,
  "metadata": {
    "colab": {
      "name": "cars.ipynb",
      "provenance": [],
      "collapsed_sections": [],
      "authorship_tag": "ABX9TyMIgSGFhzrRdpK0N7es8Yl3",
      "include_colab_link": true
    },
    "kernelspec": {
      "name": "python3",
      "display_name": "Python 3"
    },
    "language_info": {
      "name": "python"
    }
  },
  "cells": [
    {
      "cell_type": "markdown",
      "metadata": {
        "id": "view-in-github",
        "colab_type": "text"
      },
      "source": [
        "<a href=\"https://colab.research.google.com/github/farhanasajeer/github/blob/main/cars.ipynb\" target=\"_parent\"><img src=\"https://colab.research.google.com/assets/colab-badge.svg\" alt=\"Open In Colab\"/></a>"
      ]
    },
    {
      "cell_type": "code",
      "execution_count": null,
      "metadata": {
        "id": "lW4miadTl1OU"
      },
      "outputs": [],
      "source": [
        "import numpy as np\n",
        "import pandas as pd"
      ]
    },
    {
      "cell_type": "code",
      "source": [
        "dataset=pd.read_csv('/content/drive/MyDrive/cars.csv',delimiter=';')"
      ],
      "metadata": {
        "id": "1FO8f5I-mNyy"
      },
      "execution_count": 8,
      "outputs": []
    },
    {
      "cell_type": "code",
      "source": [
        "df=dataset.tail(10)\n",
        "df"
      ],
      "metadata": {
        "id": "VfXMtARwnWvl",
        "colab": {
          "base_uri": "https://localhost:8080/",
          "height": 363
        },
        "outputId": "a5faf741-5259-439d-8860-34d4615f14ea"
      },
      "execution_count": 9,
      "outputs": [
        {
          "output_type": "execute_result",
          "data": {
            "text/html": [
              "\n",
              "  <div id=\"df-a650d0d3-6f26-4134-945e-ef4bd59cfa6d\">\n",
              "    <div class=\"colab-df-container\">\n",
              "      <div>\n",
              "<style scoped>\n",
              "    .dataframe tbody tr th:only-of-type {\n",
              "        vertical-align: middle;\n",
              "    }\n",
              "\n",
              "    .dataframe tbody tr th {\n",
              "        vertical-align: top;\n",
              "    }\n",
              "\n",
              "    .dataframe thead th {\n",
              "        text-align: right;\n",
              "    }\n",
              "</style>\n",
              "<table border=\"1\" class=\"dataframe\">\n",
              "  <thead>\n",
              "    <tr style=\"text-align: right;\">\n",
              "      <th></th>\n",
              "      <th>Car</th>\n",
              "      <th>MPG</th>\n",
              "      <th>Cylinders</th>\n",
              "      <th>Displacement</th>\n",
              "      <th>Horsepower</th>\n",
              "      <th>Weight</th>\n",
              "      <th>Acceleration</th>\n",
              "      <th>Model</th>\n",
              "      <th>Origin</th>\n",
              "    </tr>\n",
              "  </thead>\n",
              "  <tbody>\n",
              "    <tr>\n",
              "      <th>397</th>\n",
              "      <td>Chrysler Lebaron Medallion</td>\n",
              "      <td>26.0</td>\n",
              "      <td>4</td>\n",
              "      <td>156.0</td>\n",
              "      <td>92.00</td>\n",
              "      <td>2585.</td>\n",
              "      <td>14.5</td>\n",
              "      <td>82</td>\n",
              "      <td>US</td>\n",
              "    </tr>\n",
              "    <tr>\n",
              "      <th>398</th>\n",
              "      <td>Ford Grenada l</td>\n",
              "      <td>22.0</td>\n",
              "      <td>6</td>\n",
              "      <td>232.0</td>\n",
              "      <td>112.0</td>\n",
              "      <td>2835</td>\n",
              "      <td>14.7</td>\n",
              "      <td>82</td>\n",
              "      <td>US</td>\n",
              "    </tr>\n",
              "    <tr>\n",
              "      <th>399</th>\n",
              "      <td>Toyota Celica GT</td>\n",
              "      <td>32.0</td>\n",
              "      <td>4</td>\n",
              "      <td>144.0</td>\n",
              "      <td>96.00</td>\n",
              "      <td>2665.</td>\n",
              "      <td>13.9</td>\n",
              "      <td>82</td>\n",
              "      <td>Japan</td>\n",
              "    </tr>\n",
              "    <tr>\n",
              "      <th>400</th>\n",
              "      <td>Dodge Charger 2.2</td>\n",
              "      <td>36.0</td>\n",
              "      <td>4</td>\n",
              "      <td>135.0</td>\n",
              "      <td>84.00</td>\n",
              "      <td>2370.</td>\n",
              "      <td>13.0</td>\n",
              "      <td>82</td>\n",
              "      <td>US</td>\n",
              "    </tr>\n",
              "    <tr>\n",
              "      <th>401</th>\n",
              "      <td>Chevrolet Camaro</td>\n",
              "      <td>27.0</td>\n",
              "      <td>4</td>\n",
              "      <td>151.0</td>\n",
              "      <td>90.00</td>\n",
              "      <td>2950.</td>\n",
              "      <td>17.3</td>\n",
              "      <td>82</td>\n",
              "      <td>US</td>\n",
              "    </tr>\n",
              "    <tr>\n",
              "      <th>402</th>\n",
              "      <td>Ford Mustang GL</td>\n",
              "      <td>27.0</td>\n",
              "      <td>4</td>\n",
              "      <td>140.0</td>\n",
              "      <td>86.00</td>\n",
              "      <td>2790.</td>\n",
              "      <td>15.6</td>\n",
              "      <td>82</td>\n",
              "      <td>US</td>\n",
              "    </tr>\n",
              "    <tr>\n",
              "      <th>403</th>\n",
              "      <td>Volkswagen Pickup</td>\n",
              "      <td>44.0</td>\n",
              "      <td>4</td>\n",
              "      <td>97.00</td>\n",
              "      <td>52.00</td>\n",
              "      <td>2130.</td>\n",
              "      <td>24.6</td>\n",
              "      <td>82</td>\n",
              "      <td>Europe</td>\n",
              "    </tr>\n",
              "    <tr>\n",
              "      <th>404</th>\n",
              "      <td>Dodge Rampage</td>\n",
              "      <td>32.0</td>\n",
              "      <td>4</td>\n",
              "      <td>135.0</td>\n",
              "      <td>84.00</td>\n",
              "      <td>2295.</td>\n",
              "      <td>11.6</td>\n",
              "      <td>82</td>\n",
              "      <td>US</td>\n",
              "    </tr>\n",
              "    <tr>\n",
              "      <th>405</th>\n",
              "      <td>Ford Ranger</td>\n",
              "      <td>28.0</td>\n",
              "      <td>4</td>\n",
              "      <td>120.0</td>\n",
              "      <td>79.00</td>\n",
              "      <td>2625.</td>\n",
              "      <td>18.6</td>\n",
              "      <td>82</td>\n",
              "      <td>US</td>\n",
              "    </tr>\n",
              "    <tr>\n",
              "      <th>406</th>\n",
              "      <td>Chevy S-10</td>\n",
              "      <td>31.0</td>\n",
              "      <td>4</td>\n",
              "      <td>119.0</td>\n",
              "      <td>82.00</td>\n",
              "      <td>2720.</td>\n",
              "      <td>19.4</td>\n",
              "      <td>82</td>\n",
              "      <td>US</td>\n",
              "    </tr>\n",
              "  </tbody>\n",
              "</table>\n",
              "</div>\n",
              "      <button class=\"colab-df-convert\" onclick=\"convertToInteractive('df-a650d0d3-6f26-4134-945e-ef4bd59cfa6d')\"\n",
              "              title=\"Convert this dataframe to an interactive table.\"\n",
              "              style=\"display:none;\">\n",
              "        \n",
              "  <svg xmlns=\"http://www.w3.org/2000/svg\" height=\"24px\"viewBox=\"0 0 24 24\"\n",
              "       width=\"24px\">\n",
              "    <path d=\"M0 0h24v24H0V0z\" fill=\"none\"/>\n",
              "    <path d=\"M18.56 5.44l.94 2.06.94-2.06 2.06-.94-2.06-.94-.94-2.06-.94 2.06-2.06.94zm-11 1L8.5 8.5l.94-2.06 2.06-.94-2.06-.94L8.5 2.5l-.94 2.06-2.06.94zm10 10l.94 2.06.94-2.06 2.06-.94-2.06-.94-.94-2.06-.94 2.06-2.06.94z\"/><path d=\"M17.41 7.96l-1.37-1.37c-.4-.4-.92-.59-1.43-.59-.52 0-1.04.2-1.43.59L10.3 9.45l-7.72 7.72c-.78.78-.78 2.05 0 2.83L4 21.41c.39.39.9.59 1.41.59.51 0 1.02-.2 1.41-.59l7.78-7.78 2.81-2.81c.8-.78.8-2.07 0-2.86zM5.41 20L4 18.59l7.72-7.72 1.47 1.35L5.41 20z\"/>\n",
              "  </svg>\n",
              "      </button>\n",
              "      \n",
              "  <style>\n",
              "    .colab-df-container {\n",
              "      display:flex;\n",
              "      flex-wrap:wrap;\n",
              "      gap: 12px;\n",
              "    }\n",
              "\n",
              "    .colab-df-convert {\n",
              "      background-color: #E8F0FE;\n",
              "      border: none;\n",
              "      border-radius: 50%;\n",
              "      cursor: pointer;\n",
              "      display: none;\n",
              "      fill: #1967D2;\n",
              "      height: 32px;\n",
              "      padding: 0 0 0 0;\n",
              "      width: 32px;\n",
              "    }\n",
              "\n",
              "    .colab-df-convert:hover {\n",
              "      background-color: #E2EBFA;\n",
              "      box-shadow: 0px 1px 2px rgba(60, 64, 67, 0.3), 0px 1px 3px 1px rgba(60, 64, 67, 0.15);\n",
              "      fill: #174EA6;\n",
              "    }\n",
              "\n",
              "    [theme=dark] .colab-df-convert {\n",
              "      background-color: #3B4455;\n",
              "      fill: #D2E3FC;\n",
              "    }\n",
              "\n",
              "    [theme=dark] .colab-df-convert:hover {\n",
              "      background-color: #434B5C;\n",
              "      box-shadow: 0px 1px 3px 1px rgba(0, 0, 0, 0.15);\n",
              "      filter: drop-shadow(0px 1px 2px rgba(0, 0, 0, 0.3));\n",
              "      fill: #FFFFFF;\n",
              "    }\n",
              "  </style>\n",
              "\n",
              "      <script>\n",
              "        const buttonEl =\n",
              "          document.querySelector('#df-a650d0d3-6f26-4134-945e-ef4bd59cfa6d button.colab-df-convert');\n",
              "        buttonEl.style.display =\n",
              "          google.colab.kernel.accessAllowed ? 'block' : 'none';\n",
              "\n",
              "        async function convertToInteractive(key) {\n",
              "          const element = document.querySelector('#df-a650d0d3-6f26-4134-945e-ef4bd59cfa6d');\n",
              "          const dataTable =\n",
              "            await google.colab.kernel.invokeFunction('convertToInteractive',\n",
              "                                                     [key], {});\n",
              "          if (!dataTable) return;\n",
              "\n",
              "          const docLinkHtml = 'Like what you see? Visit the ' +\n",
              "            '<a target=\"_blank\" href=https://colab.research.google.com/notebooks/data_table.ipynb>data table notebook</a>'\n",
              "            + ' to learn more about interactive tables.';\n",
              "          element.innerHTML = '';\n",
              "          dataTable['output_type'] = 'display_data';\n",
              "          await google.colab.output.renderOutput(dataTable, element);\n",
              "          const docLink = document.createElement('div');\n",
              "          docLink.innerHTML = docLinkHtml;\n",
              "          element.appendChild(docLink);\n",
              "        }\n",
              "      </script>\n",
              "    </div>\n",
              "  </div>\n",
              "  "
            ],
            "text/plain": [
              "                            Car   MPG Cylinders  ... Acceleration Model  Origin\n",
              "397  Chrysler Lebaron Medallion  26.0         4  ...         14.5    82      US\n",
              "398              Ford Grenada l  22.0         6  ...         14.7    82      US\n",
              "399            Toyota Celica GT  32.0         4  ...         13.9    82   Japan\n",
              "400           Dodge Charger 2.2  36.0         4  ...         13.0    82      US\n",
              "401            Chevrolet Camaro  27.0         4  ...         17.3    82      US\n",
              "402             Ford Mustang GL  27.0         4  ...         15.6    82      US\n",
              "403           Volkswagen Pickup  44.0         4  ...         24.6    82  Europe\n",
              "404               Dodge Rampage  32.0         4  ...         11.6    82      US\n",
              "405                 Ford Ranger  28.0         4  ...         18.6    82      US\n",
              "406                  Chevy S-10  31.0         4  ...         19.4    82      US\n",
              "\n",
              "[10 rows x 9 columns]"
            ]
          },
          "metadata": {},
          "execution_count": 9
        }
      ]
    },
    {
      "cell_type": "code",
      "source": [
        "type(df)"
      ],
      "metadata": {
        "id": "lhqy0T3qmNvJ",
        "colab": {
          "base_uri": "https://localhost:8080/"
        },
        "outputId": "d5db2b5c-cc2f-4b40-9b51-c097e38e3d2c"
      },
      "execution_count": 10,
      "outputs": [
        {
          "output_type": "execute_result",
          "data": {
            "text/plain": [
              "pandas.core.frame.DataFrame"
            ]
          },
          "metadata": {},
          "execution_count": 10
        }
      ]
    },
    {
      "cell_type": "code",
      "source": [
        "df=df.iloc[:,:].values\n",
        "df"
      ],
      "metadata": {
        "id": "DVcO1fRwmNsK",
        "colab": {
          "base_uri": "https://localhost:8080/"
        },
        "outputId": "ee9140ba-6fe3-4c75-d5c1-668adfe95d1d"
      },
      "execution_count": 11,
      "outputs": [
        {
          "output_type": "execute_result",
          "data": {
            "text/plain": [
              "array([['Chrysler Lebaron Medallion', '26.0', '4', '156.0', '92.00',\n",
              "        '2585.', '14.5', '82', 'US'],\n",
              "       ['Ford Grenada l', '22.0', '6', '232.0', '112.0', '2835', '14.7',\n",
              "        '82', 'US'],\n",
              "       ['Toyota Celica GT', '32.0', '4', '144.0', '96.00', '2665.',\n",
              "        '13.9', '82', 'Japan'],\n",
              "       ['Dodge Charger 2.2', '36.0', '4', '135.0', '84.00', '2370.',\n",
              "        '13.0', '82', 'US'],\n",
              "       ['Chevrolet Camaro', '27.0', '4', '151.0', '90.00', '2950.',\n",
              "        '17.3', '82', 'US'],\n",
              "       ['Ford Mustang GL', '27.0', '4', '140.0', '86.00', '2790.',\n",
              "        '15.6', '82', 'US'],\n",
              "       ['Volkswagen Pickup', '44.0', '4', '97.00', '52.00', '2130.',\n",
              "        '24.6', '82', 'Europe'],\n",
              "       ['Dodge Rampage', '32.0', '4', '135.0', '84.00', '2295.', '11.6',\n",
              "        '82', 'US'],\n",
              "       ['Ford Ranger', '28.0', '4', '120.0', '79.00', '2625.', '18.6',\n",
              "        '82', 'US'],\n",
              "       ['Chevy S-10', '31.0', '4', '119.0', '82.00', '2720.', '19.4',\n",
              "        '82', 'US']], dtype=object)"
            ]
          },
          "metadata": {},
          "execution_count": 11
        }
      ]
    },
    {
      "cell_type": "code",
      "source": [
        "from sklearn.preprocessing import LabelEncoder"
      ],
      "metadata": {
        "id": "MdmumjHkmNpu"
      },
      "execution_count": 12,
      "outputs": []
    },
    {
      "cell_type": "code",
      "source": [
        "country=LabelEncoder()"
      ],
      "metadata": {
        "id": "RWzKLJjVmNm9"
      },
      "execution_count": 13,
      "outputs": []
    },
    {
      "cell_type": "code",
      "source": [
        "df[:,8]=country.fit_transform(df[:,8])\n",
        "df"
      ],
      "metadata": {
        "id": "1JNhB7yvmNkR",
        "colab": {
          "base_uri": "https://localhost:8080/"
        },
        "outputId": "b42249c7-cbf5-49c8-8aaa-faed45c0db0b"
      },
      "execution_count": 15,
      "outputs": [
        {
          "output_type": "execute_result",
          "data": {
            "text/plain": [
              "array([['Chrysler Lebaron Medallion', '26.0', '4', '156.0', '92.00',\n",
              "        '2585.', '14.5', '82', 2],\n",
              "       ['Ford Grenada l', '22.0', '6', '232.0', '112.0', '2835', '14.7',\n",
              "        '82', 2],\n",
              "       ['Toyota Celica GT', '32.0', '4', '144.0', '96.00', '2665.',\n",
              "        '13.9', '82', 1],\n",
              "       ['Dodge Charger 2.2', '36.0', '4', '135.0', '84.00', '2370.',\n",
              "        '13.0', '82', 2],\n",
              "       ['Chevrolet Camaro', '27.0', '4', '151.0', '90.00', '2950.',\n",
              "        '17.3', '82', 2],\n",
              "       ['Ford Mustang GL', '27.0', '4', '140.0', '86.00', '2790.',\n",
              "        '15.6', '82', 2],\n",
              "       ['Volkswagen Pickup', '44.0', '4', '97.00', '52.00', '2130.',\n",
              "        '24.6', '82', 0],\n",
              "       ['Dodge Rampage', '32.0', '4', '135.0', '84.00', '2295.', '11.6',\n",
              "        '82', 2],\n",
              "       ['Ford Ranger', '28.0', '4', '120.0', '79.00', '2625.', '18.6',\n",
              "        '82', 2],\n",
              "       ['Chevy S-10', '31.0', '4', '119.0', '82.00', '2720.', '19.4',\n",
              "        '82', 2]], dtype=object)"
            ]
          },
          "metadata": {},
          "execution_count": 15
        }
      ]
    },
    {
      "cell_type": "code",
      "source": [
        "from sklearn.compose import  ColumnTransformer\n",
        "from sklearn.preprocessing import OneHotEncoder"
      ],
      "metadata": {
        "id": "zHU4GqbDmNh6"
      },
      "execution_count": 16,
      "outputs": []
    },
    {
      "cell_type": "code",
      "source": [
        "ct=ColumnTransformer(transformers=[('encode',OneHotEncoder(),[8])],remainder='passthrough')"
      ],
      "metadata": {
        "id": "Fo7WVvKqmNfM"
      },
      "execution_count": 17,
      "outputs": []
    },
    {
      "cell_type": "code",
      "source": [
        "y=ct.fit_transform(df)\n",
        "y"
      ],
      "metadata": {
        "id": "hJe7Huc3mNcu",
        "colab": {
          "base_uri": "https://localhost:8080/"
        },
        "outputId": "f33d5e7a-d40e-49f7-da27-b283f074492a"
      },
      "execution_count": 19,
      "outputs": [
        {
          "output_type": "execute_result",
          "data": {
            "text/plain": [
              "array([[0.0, 0.0, 1.0, 'Chrysler Lebaron Medallion', '26.0', '4',\n",
              "        '156.0', '92.00', '2585.', '14.5', '82'],\n",
              "       [0.0, 0.0, 1.0, 'Ford Grenada l', '22.0', '6', '232.0', '112.0',\n",
              "        '2835', '14.7', '82'],\n",
              "       [0.0, 1.0, 0.0, 'Toyota Celica GT', '32.0', '4', '144.0', '96.00',\n",
              "        '2665.', '13.9', '82'],\n",
              "       [0.0, 0.0, 1.0, 'Dodge Charger 2.2', '36.0', '4', '135.0',\n",
              "        '84.00', '2370.', '13.0', '82'],\n",
              "       [0.0, 0.0, 1.0, 'Chevrolet Camaro', '27.0', '4', '151.0', '90.00',\n",
              "        '2950.', '17.3', '82'],\n",
              "       [0.0, 0.0, 1.0, 'Ford Mustang GL', '27.0', '4', '140.0', '86.00',\n",
              "        '2790.', '15.6', '82'],\n",
              "       [1.0, 0.0, 0.0, 'Volkswagen Pickup', '44.0', '4', '97.00',\n",
              "        '52.00', '2130.', '24.6', '82'],\n",
              "       [0.0, 0.0, 1.0, 'Dodge Rampage', '32.0', '4', '135.0', '84.00',\n",
              "        '2295.', '11.6', '82'],\n",
              "       [0.0, 0.0, 1.0, 'Ford Ranger', '28.0', '4', '120.0', '79.00',\n",
              "        '2625.', '18.6', '82'],\n",
              "       [0.0, 0.0, 1.0, 'Chevy S-10', '31.0', '4', '119.0', '82.00',\n",
              "        '2720.', '19.4', '82']], dtype=object)"
            ]
          },
          "metadata": {},
          "execution_count": 19
        }
      ]
    },
    {
      "cell_type": "code",
      "source": [
        "y=pd.DataFrame(y)\n",
        "y"
      ],
      "metadata": {
        "id": "F2qKtsrdmNaY",
        "colab": {
          "base_uri": "https://localhost:8080/",
          "height": 363
        },
        "outputId": "44cec7d6-a3ca-49a8-8bfe-7085ca121e92"
      },
      "execution_count": 20,
      "outputs": [
        {
          "output_type": "execute_result",
          "data": {
            "text/html": [
              "\n",
              "  <div id=\"df-b01c439e-c1fc-41fb-97fe-ecbc3f95730c\">\n",
              "    <div class=\"colab-df-container\">\n",
              "      <div>\n",
              "<style scoped>\n",
              "    .dataframe tbody tr th:only-of-type {\n",
              "        vertical-align: middle;\n",
              "    }\n",
              "\n",
              "    .dataframe tbody tr th {\n",
              "        vertical-align: top;\n",
              "    }\n",
              "\n",
              "    .dataframe thead th {\n",
              "        text-align: right;\n",
              "    }\n",
              "</style>\n",
              "<table border=\"1\" class=\"dataframe\">\n",
              "  <thead>\n",
              "    <tr style=\"text-align: right;\">\n",
              "      <th></th>\n",
              "      <th>0</th>\n",
              "      <th>1</th>\n",
              "      <th>2</th>\n",
              "      <th>3</th>\n",
              "      <th>4</th>\n",
              "      <th>5</th>\n",
              "      <th>6</th>\n",
              "      <th>7</th>\n",
              "      <th>8</th>\n",
              "      <th>9</th>\n",
              "      <th>10</th>\n",
              "    </tr>\n",
              "  </thead>\n",
              "  <tbody>\n",
              "    <tr>\n",
              "      <th>0</th>\n",
              "      <td>0</td>\n",
              "      <td>0</td>\n",
              "      <td>1</td>\n",
              "      <td>Chrysler Lebaron Medallion</td>\n",
              "      <td>26.0</td>\n",
              "      <td>4</td>\n",
              "      <td>156.0</td>\n",
              "      <td>92.00</td>\n",
              "      <td>2585.</td>\n",
              "      <td>14.5</td>\n",
              "      <td>82</td>\n",
              "    </tr>\n",
              "    <tr>\n",
              "      <th>1</th>\n",
              "      <td>0</td>\n",
              "      <td>0</td>\n",
              "      <td>1</td>\n",
              "      <td>Ford Grenada l</td>\n",
              "      <td>22.0</td>\n",
              "      <td>6</td>\n",
              "      <td>232.0</td>\n",
              "      <td>112.0</td>\n",
              "      <td>2835</td>\n",
              "      <td>14.7</td>\n",
              "      <td>82</td>\n",
              "    </tr>\n",
              "    <tr>\n",
              "      <th>2</th>\n",
              "      <td>0</td>\n",
              "      <td>1</td>\n",
              "      <td>0</td>\n",
              "      <td>Toyota Celica GT</td>\n",
              "      <td>32.0</td>\n",
              "      <td>4</td>\n",
              "      <td>144.0</td>\n",
              "      <td>96.00</td>\n",
              "      <td>2665.</td>\n",
              "      <td>13.9</td>\n",
              "      <td>82</td>\n",
              "    </tr>\n",
              "    <tr>\n",
              "      <th>3</th>\n",
              "      <td>0</td>\n",
              "      <td>0</td>\n",
              "      <td>1</td>\n",
              "      <td>Dodge Charger 2.2</td>\n",
              "      <td>36.0</td>\n",
              "      <td>4</td>\n",
              "      <td>135.0</td>\n",
              "      <td>84.00</td>\n",
              "      <td>2370.</td>\n",
              "      <td>13.0</td>\n",
              "      <td>82</td>\n",
              "    </tr>\n",
              "    <tr>\n",
              "      <th>4</th>\n",
              "      <td>0</td>\n",
              "      <td>0</td>\n",
              "      <td>1</td>\n",
              "      <td>Chevrolet Camaro</td>\n",
              "      <td>27.0</td>\n",
              "      <td>4</td>\n",
              "      <td>151.0</td>\n",
              "      <td>90.00</td>\n",
              "      <td>2950.</td>\n",
              "      <td>17.3</td>\n",
              "      <td>82</td>\n",
              "    </tr>\n",
              "    <tr>\n",
              "      <th>5</th>\n",
              "      <td>0</td>\n",
              "      <td>0</td>\n",
              "      <td>1</td>\n",
              "      <td>Ford Mustang GL</td>\n",
              "      <td>27.0</td>\n",
              "      <td>4</td>\n",
              "      <td>140.0</td>\n",
              "      <td>86.00</td>\n",
              "      <td>2790.</td>\n",
              "      <td>15.6</td>\n",
              "      <td>82</td>\n",
              "    </tr>\n",
              "    <tr>\n",
              "      <th>6</th>\n",
              "      <td>1</td>\n",
              "      <td>0</td>\n",
              "      <td>0</td>\n",
              "      <td>Volkswagen Pickup</td>\n",
              "      <td>44.0</td>\n",
              "      <td>4</td>\n",
              "      <td>97.00</td>\n",
              "      <td>52.00</td>\n",
              "      <td>2130.</td>\n",
              "      <td>24.6</td>\n",
              "      <td>82</td>\n",
              "    </tr>\n",
              "    <tr>\n",
              "      <th>7</th>\n",
              "      <td>0</td>\n",
              "      <td>0</td>\n",
              "      <td>1</td>\n",
              "      <td>Dodge Rampage</td>\n",
              "      <td>32.0</td>\n",
              "      <td>4</td>\n",
              "      <td>135.0</td>\n",
              "      <td>84.00</td>\n",
              "      <td>2295.</td>\n",
              "      <td>11.6</td>\n",
              "      <td>82</td>\n",
              "    </tr>\n",
              "    <tr>\n",
              "      <th>8</th>\n",
              "      <td>0</td>\n",
              "      <td>0</td>\n",
              "      <td>1</td>\n",
              "      <td>Ford Ranger</td>\n",
              "      <td>28.0</td>\n",
              "      <td>4</td>\n",
              "      <td>120.0</td>\n",
              "      <td>79.00</td>\n",
              "      <td>2625.</td>\n",
              "      <td>18.6</td>\n",
              "      <td>82</td>\n",
              "    </tr>\n",
              "    <tr>\n",
              "      <th>9</th>\n",
              "      <td>0</td>\n",
              "      <td>0</td>\n",
              "      <td>1</td>\n",
              "      <td>Chevy S-10</td>\n",
              "      <td>31.0</td>\n",
              "      <td>4</td>\n",
              "      <td>119.0</td>\n",
              "      <td>82.00</td>\n",
              "      <td>2720.</td>\n",
              "      <td>19.4</td>\n",
              "      <td>82</td>\n",
              "    </tr>\n",
              "  </tbody>\n",
              "</table>\n",
              "</div>\n",
              "      <button class=\"colab-df-convert\" onclick=\"convertToInteractive('df-b01c439e-c1fc-41fb-97fe-ecbc3f95730c')\"\n",
              "              title=\"Convert this dataframe to an interactive table.\"\n",
              "              style=\"display:none;\">\n",
              "        \n",
              "  <svg xmlns=\"http://www.w3.org/2000/svg\" height=\"24px\"viewBox=\"0 0 24 24\"\n",
              "       width=\"24px\">\n",
              "    <path d=\"M0 0h24v24H0V0z\" fill=\"none\"/>\n",
              "    <path d=\"M18.56 5.44l.94 2.06.94-2.06 2.06-.94-2.06-.94-.94-2.06-.94 2.06-2.06.94zm-11 1L8.5 8.5l.94-2.06 2.06-.94-2.06-.94L8.5 2.5l-.94 2.06-2.06.94zm10 10l.94 2.06.94-2.06 2.06-.94-2.06-.94-.94-2.06-.94 2.06-2.06.94z\"/><path d=\"M17.41 7.96l-1.37-1.37c-.4-.4-.92-.59-1.43-.59-.52 0-1.04.2-1.43.59L10.3 9.45l-7.72 7.72c-.78.78-.78 2.05 0 2.83L4 21.41c.39.39.9.59 1.41.59.51 0 1.02-.2 1.41-.59l7.78-7.78 2.81-2.81c.8-.78.8-2.07 0-2.86zM5.41 20L4 18.59l7.72-7.72 1.47 1.35L5.41 20z\"/>\n",
              "  </svg>\n",
              "      </button>\n",
              "      \n",
              "  <style>\n",
              "    .colab-df-container {\n",
              "      display:flex;\n",
              "      flex-wrap:wrap;\n",
              "      gap: 12px;\n",
              "    }\n",
              "\n",
              "    .colab-df-convert {\n",
              "      background-color: #E8F0FE;\n",
              "      border: none;\n",
              "      border-radius: 50%;\n",
              "      cursor: pointer;\n",
              "      display: none;\n",
              "      fill: #1967D2;\n",
              "      height: 32px;\n",
              "      padding: 0 0 0 0;\n",
              "      width: 32px;\n",
              "    }\n",
              "\n",
              "    .colab-df-convert:hover {\n",
              "      background-color: #E2EBFA;\n",
              "      box-shadow: 0px 1px 2px rgba(60, 64, 67, 0.3), 0px 1px 3px 1px rgba(60, 64, 67, 0.15);\n",
              "      fill: #174EA6;\n",
              "    }\n",
              "\n",
              "    [theme=dark] .colab-df-convert {\n",
              "      background-color: #3B4455;\n",
              "      fill: #D2E3FC;\n",
              "    }\n",
              "\n",
              "    [theme=dark] .colab-df-convert:hover {\n",
              "      background-color: #434B5C;\n",
              "      box-shadow: 0px 1px 3px 1px rgba(0, 0, 0, 0.15);\n",
              "      filter: drop-shadow(0px 1px 2px rgba(0, 0, 0, 0.3));\n",
              "      fill: #FFFFFF;\n",
              "    }\n",
              "  </style>\n",
              "\n",
              "      <script>\n",
              "        const buttonEl =\n",
              "          document.querySelector('#df-b01c439e-c1fc-41fb-97fe-ecbc3f95730c button.colab-df-convert');\n",
              "        buttonEl.style.display =\n",
              "          google.colab.kernel.accessAllowed ? 'block' : 'none';\n",
              "\n",
              "        async function convertToInteractive(key) {\n",
              "          const element = document.querySelector('#df-b01c439e-c1fc-41fb-97fe-ecbc3f95730c');\n",
              "          const dataTable =\n",
              "            await google.colab.kernel.invokeFunction('convertToInteractive',\n",
              "                                                     [key], {});\n",
              "          if (!dataTable) return;\n",
              "\n",
              "          const docLinkHtml = 'Like what you see? Visit the ' +\n",
              "            '<a target=\"_blank\" href=https://colab.research.google.com/notebooks/data_table.ipynb>data table notebook</a>'\n",
              "            + ' to learn more about interactive tables.';\n",
              "          element.innerHTML = '';\n",
              "          dataTable['output_type'] = 'display_data';\n",
              "          await google.colab.output.renderOutput(dataTable, element);\n",
              "          const docLink = document.createElement('div');\n",
              "          docLink.innerHTML = docLinkHtml;\n",
              "          element.appendChild(docLink);\n",
              "        }\n",
              "      </script>\n",
              "    </div>\n",
              "  </div>\n",
              "  "
            ],
            "text/plain": [
              "  0  1  2                           3     4  5      6      7      8     9   10\n",
              "0  0  0  1  Chrysler Lebaron Medallion  26.0  4  156.0  92.00  2585.  14.5  82\n",
              "1  0  0  1              Ford Grenada l  22.0  6  232.0  112.0   2835  14.7  82\n",
              "2  0  1  0            Toyota Celica GT  32.0  4  144.0  96.00  2665.  13.9  82\n",
              "3  0  0  1           Dodge Charger 2.2  36.0  4  135.0  84.00  2370.  13.0  82\n",
              "4  0  0  1            Chevrolet Camaro  27.0  4  151.0  90.00  2950.  17.3  82\n",
              "5  0  0  1             Ford Mustang GL  27.0  4  140.0  86.00  2790.  15.6  82\n",
              "6  1  0  0           Volkswagen Pickup  44.0  4  97.00  52.00  2130.  24.6  82\n",
              "7  0  0  1               Dodge Rampage  32.0  4  135.0  84.00  2295.  11.6  82\n",
              "8  0  0  1                 Ford Ranger  28.0  4  120.0  79.00  2625.  18.6  82\n",
              "9  0  0  1                  Chevy S-10  31.0  4  119.0  82.00  2720.  19.4  82"
            ]
          },
          "metadata": {},
          "execution_count": 20
        }
      ]
    },
    {
      "cell_type": "code",
      "source": [
        ""
      ],
      "metadata": {
        "id": "q78RM9MfqXNK"
      },
      "execution_count": null,
      "outputs": []
    },
    {
      "cell_type": "code",
      "source": [
        ""
      ],
      "metadata": {
        "id": "V0VWyBeJqXJl"
      },
      "execution_count": null,
      "outputs": []
    },
    {
      "cell_type": "code",
      "source": [
        ""
      ],
      "metadata": {
        "id": "5aXx2syrqXG8"
      },
      "execution_count": null,
      "outputs": []
    }
  ]
}