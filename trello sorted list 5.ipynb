{
 "cells": [
  {
   "cell_type": "code",
   "execution_count": 1,
   "id": "734c4c14",
   "metadata": {},
   "outputs": [
    {
     "name": "stdout",
     "output_type": "stream",
     "text": [
      "Sorted array is:\n",
      " 1\n",
      " 9\n",
      " 22\n",
      " 23\n",
      " 45\n",
      " 67\n",
      " 100\n"
     ]
    }
   ],
   "source": [
    "# bubblesort\n",
    "def bubbleSort(arr):\n",
    "    n=len(arr)\n",
    "    for i in range(n-1):\n",
    "        for j in range(0,n-i-1):\n",
    "            if arr[j]>arr[j+1]:\n",
    "                arr[j],arr[j+1]=arr[j+1],arr[j]\n",
    "arr=[100,23,45,67,1,22,9]\n",
    "bubbleSort(arr)\n",
    " \n",
    "print (\"Sorted array is:\")\n",
    "for i in range(len(arr)):\n",
    "    print (\"% d\" % arr[i])"
   ]
  },
  {
   "cell_type": "code",
   "execution_count": 4,
   "id": "2b78c30c",
   "metadata": {},
   "outputs": [
    {
     "name": "stdout",
     "output_type": "stream",
     "text": [
      "element present at index 3\n"
     ]
    }
   ],
   "source": [
    "# linear search\n",
    "\n",
    "  \n",
    "def search(arr,n,x):\n",
    "  \n",
    "    for i in range(0,n):\n",
    "  \n",
    "        if arr[i] == x:\n",
    "            return i\n",
    "  \n",
    "    return -1\n",
    "arr=[12,13,45,67,99]\n",
    "x=67\n",
    "n=len(arr)\n",
    "result=search(arr,n,x)\n",
    "if result == -1:\n",
    "    print(\"element not present in array\")\n",
    "else:\n",
    "    print(\"element present at index:\",result)\n"
   ]
  },
  {
   "cell_type": "code",
   "execution_count": 6,
   "id": "4d2ce266",
   "metadata": {},
   "outputs": [
    {
     "name": "stdout",
     "output_type": "stream",
     "text": [
      "sorted array: [1, 22, 34, 45, 77, 98]\n"
     ]
    }
   ],
   "source": [
    "# insertion sort\n",
    "\n",
    "def insertionSort(arr):\n",
    "    for i in range(1,len(arr)):\n",
    "        temp=arr[i]\n",
    "        j=i-1\n",
    "        \n",
    "        while(j >=0 and temp <arr[j]):\n",
    "            arr[j+1]=arr[j]\n",
    "            j=j-1\n",
    "        arr[j+1]=temp\n",
    "arr=[34,45,22,77,98,1]\n",
    "insertionSort(arr)\n",
    "print(\"sorted array:\",arr)"
   ]
  },
  {
   "cell_type": "code",
   "execution_count": 7,
   "id": "1f55ff33",
   "metadata": {},
   "outputs": [
    {
     "name": "stdout",
     "output_type": "stream",
     "text": [
      "enter elemnts:12 45 6 78 90 3 55\n",
      "sorted array:\n",
      "[3, 6, 12, 45, 55, 78, 90]\n"
     ]
    }
   ],
   "source": [
    "# insertion sort\n",
    "\n",
    "def insertionSort(arr):\n",
    "    for i in range(1,len(arr)):\n",
    "        temp=arr[i]\n",
    "        j=i-1\n",
    "        \n",
    "        while(j >=0 and temp <arr[j]):\n",
    "            arr[j+1]=arr[j]\n",
    "            j=j-1\n",
    "        arr[j+1]=temp\n",
    "arr=input(\"enter elemnts:\").split()\n",
    "arr=[int(x) for x in arr]\n",
    "insertionSort(arr)\n",
    "print(\"sorted array:\")\n",
    "print(arr)"
   ]
  },
  {
   "cell_type": "code",
   "execution_count": 8,
   "id": "91f3d588",
   "metadata": {},
   "outputs": [
    {
     "name": "stdout",
     "output_type": "stream",
     "text": [
      "Enter the list of numbers: 100 23 567 88 12 3 88\n",
      "Sorted list: [3, 12, 23, 88, 88, 100, 567]\n"
     ]
    }
   ],
   "source": [
    "# merge\n",
    "\n",
    "def merge_sort(alist, start, end):\n",
    "    '''Sorts the list from indexes start to end - 1 inclusive.'''\n",
    "    if end - start > 1:\n",
    "        mid = (start + end)//2\n",
    "        merge_sort(alist, start, mid)\n",
    "        merge_sort(alist, mid, end)\n",
    "        merge_list(alist, start, mid, end)\n",
    " \n",
    "def merge_list(alist, start, mid, end):\n",
    "    left = alist[start:mid]\n",
    "    right = alist[mid:end]\n",
    "    k = start\n",
    "    i = 0\n",
    "    j = 0\n",
    "    while (start + i < mid and mid + j < end):\n",
    "        if (left[i] <= right[j]):\n",
    "            alist[k] = left[i]\n",
    "            i = i + 1\n",
    "        else:\n",
    "            alist[k] = right[j]\n",
    "            j = j + 1\n",
    "        k = k + 1\n",
    "    if start + i < mid:\n",
    "        while k < end:\n",
    "            alist[k] = left[i]\n",
    "            i = i + 1\n",
    "            k = k + 1\n",
    "    else:\n",
    "        while k < end:\n",
    "            alist[k] = right[j]\n",
    "            j = j + 1\n",
    "            k = k + 1\n",
    " \n",
    " \n",
    "alist = input('Enter the list of numbers: ').split()\n",
    "alist = [int(x) for x in alist]\n",
    "merge_sort(alist, 0, len(alist))\n",
    "print('Sorted list: ', end='')\n",
    "print(alist)"
   ]
  },
  {
   "cell_type": "code",
   "execution_count": 9,
   "id": "6ce13969",
   "metadata": {},
   "outputs": [
    {
     "name": "stdout",
     "output_type": "stream",
     "text": [
      "Given array is\n",
      "12\n",
      "11\n",
      "13\n",
      "5\n",
      "6\n",
      "7\n",
      "\n",
      "\n",
      "Sorted array is\n",
      "5\n",
      "6\n",
      "7\n",
      "11\n",
      "12\n",
      "13\n"
     ]
    }
   ],
   "source": [
    "# \n",
    "\n",
    "def merge(arr, l, m, r):\n",
    "    n1 = m - l + 1\n",
    "    n2 = r - m\n",
    " \n",
    "    # create temp arrays\n",
    "    L = [0] * (n1)\n",
    "    R = [0] * (n2)\n",
    " \n",
    "    # Copy data to temp arrays L[] and R[]\n",
    "    for i in range(0, n1):\n",
    "        L[i] = arr[l + i]\n",
    " \n",
    "    for j in range(0, n2):\n",
    "        R[j] = arr[m + 1 + j]\n",
    " \n",
    "    # Merge the temp arrays back into arr[l..r]\n",
    "    i = 0     # Initial index of first subarray\n",
    "    j = 0     # Initial index of second subarray\n",
    "    k = l     # Initial index of merged subarray\n",
    " \n",
    "    while i < n1 and j < n2:\n",
    "        if L[i] <= R[j]:\n",
    "            arr[k] = L[i]\n",
    "            i += 1\n",
    "        else:\n",
    "            arr[k] = R[j]\n",
    "            j += 1\n",
    "        k += 1\n",
    " \n",
    "    # Copy the remaining elements of L[], if there\n",
    "    # are any\n",
    "    while i < n1:\n",
    "        arr[k] = L[i]\n",
    "        i += 1\n",
    "        k += 1\n",
    " \n",
    "    # Copy the remaining elements of R[], if there\n",
    "    # are any\n",
    "    while j < n2:\n",
    "        arr[k] = R[j]\n",
    "        j += 1\n",
    "        k += 1\n",
    " \n",
    "# l is for left index and r is right index of the\n",
    "# sub-array of arr to be sorted\n",
    " \n",
    " \n",
    "def mergeSort(arr, l, r):\n",
    "    if l < r:\n",
    " \n",
    "        # Same as (l+r)//2, but avoids overflow for\n",
    "        # large l and h\n",
    "        m = l+(r-l)//2\n",
    " \n",
    "        # Sort first and second halves\n",
    "        mergeSort(arr, l, m)\n",
    "        mergeSort(arr, m+1, r)\n",
    "        merge(arr, l, m, r)\n",
    " \n",
    " \n",
    "# Driver code to test above\n",
    "arr = [12, 11, 13, 5, 6, 7]\n",
    "n = len(arr)\n",
    "print(\"Given array is\")\n",
    "for i in range(n):\n",
    "    print(\"%d\" % arr[i]),\n",
    " \n",
    "mergeSort(arr, 0, n-1)\n",
    "print(\"\\n\\nSorted array is\")\n",
    "for i in range(n):\n",
    "    print(\"%d\" % arr[i]),"
   ]
  },
  {
   "cell_type": "code",
   "execution_count": 2,
   "id": "2979054d",
   "metadata": {},
   "outputs": [
    {
     "name": "stdout",
     "output_type": "stream",
     "text": [
      "the interest is: 3\n"
     ]
    }
   ],
   "source": [
    "# Create a function that will throw an exception if interest rate is greater than 100.\n",
    "\n",
    "def interest(a):\n",
    "    try:\n",
    "        if a>=100:\n",
    "            raise ValueError()\n",
    "    except:\n",
    "        print(\"raise ValueError()!\")\n",
    "    else:\n",
    "        a < 100\n",
    "        print(\"the interest is:\",a)\n",
    "interest(3)"
   ]
  },
  {
   "cell_type": "code",
   "execution_count": null,
   "id": "c3ef852e",
   "metadata": {},
   "outputs": [],
   "source": []
  }
 ],
 "metadata": {
  "kernelspec": {
   "display_name": "Python 3 (ipykernel)",
   "language": "python",
   "name": "python3"
  },
  "language_info": {
   "codemirror_mode": {
    "name": "ipython",
    "version": 3
   },
   "file_extension": ".py",
   "mimetype": "text/x-python",
   "name": "python",
   "nbconvert_exporter": "python",
   "pygments_lexer": "ipython3",
   "version": "3.9.7"
  }
 },
 "nbformat": 4,
 "nbformat_minor": 5
}
