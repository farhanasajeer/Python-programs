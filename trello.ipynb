{
 "cells": [
  {
   "cell_type": "code",
   "execution_count": 1,
   "id": "39c77085",
   "metadata": {},
   "outputs": [
    {
     "name": "stdout",
     "output_type": "stream",
     "text": [
      "far is now running\n",
      "far is walks slowly\n"
     ]
    }
   ],
   "source": [
    "# create instance variale inside method\n",
    "\n",
    "class man:\n",
    "    def __init__(self,name,age):\n",
    "        self.name=name\n",
    "        self.age=age\n",
    "    def run(self):\n",
    "        return \"{} is now running\".format(self.name)\n",
    "    def walk(self):\n",
    "        return \"{} is walks slowly\".format(self.name)\n",
    "far=man(\"far\",20)\n",
    "print(far.run())\n",
    "print(far.walk())"
   ]
  },
  {
   "cell_type": "code",
   "execution_count": 5,
   "id": "ccfbd618",
   "metadata": {},
   "outputs": [
    {
     "name": "stdout",
     "output_type": "stream",
     "text": [
      "the maximum speed of bike 50 and the mileage is  50 \n",
      "the maximum speed of jeep 40 and the mileage is  45 \n"
     ]
    }
   ],
   "source": [
    "# vehilcle class with max_spd and mileage instance attributes\n",
    "\n",
    "class vehicle:\n",
    "    def __init__(self,max_speed,mileage):\n",
    "        self.max_speed=max_speed\n",
    "        self.mileage=mileage\n",
    "    def bike(self):\n",
    "        return \"the maximum speed of bike {} and the mileage is  {} \".format(self.max_speed,self.mileage)\n",
    "    def jeep(self):\n",
    "        return \"the maximum speed of jeep {} and the mileage is  {} \".format(self.max_speed,self.mileage)\n",
    "a=vehicle(50 ,50)\n",
    "b=vehicle(40,45)\n",
    "\n",
    "print(a.bike())\n",
    "print(b.jeep())"
   ]
  },
  {
   "cell_type": "code",
   "execution_count": 14,
   "id": "0314bafa",
   "metadata": {},
   "outputs": [
    {
     "name": "stdout",
     "output_type": "stream",
     "text": [
      "<class '__main__.vehicle'>\n"
     ]
    }
   ],
   "source": [
    "# vehicle class without any variable and method\n",
    "\n",
    "class vehicle:\n",
    "    print(vehicle)\n",
    "\n",
    "    "
   ]
  },
  {
   "cell_type": "code",
   "execution_count": 8,
   "id": "bf155ea6",
   "metadata": {},
   "outputs": [
    {
     "name": "stdout",
     "output_type": "stream",
     "text": [
      "vehicle is ready\n",
      "bus have many seats\n",
      "4seat\n",
      "faster\n"
     ]
    }
   ],
   "source": [
    "# child class bus that inherit all var and mthd of vehicle class\n",
    "\n",
    "class vehicle:\n",
    "    def __init__(self):\n",
    "        print(\"vehicle is ready\")\n",
    "    def car(self):\n",
    "        print(\"vehicle\")\n",
    "class bus(vehicle):\n",
    "    def __init__(self): \n",
    "        super().__init__()\n",
    "        print(\"bus have many seats\")\n",
    "    def car(self):\n",
    "        print(\"4seat\")\n",
    "    def bike(self):\n",
    "        print(\"faster\")\n",
    "p=bus()\n",
    "p.car()\n",
    "p.bike()\n",
    "    \n"
   ]
  },
  {
   "cell_type": "code",
   "execution_count": 21,
   "id": "28eecc58",
   "metadata": {},
   "outputs": [
    {
     "name": "stdout",
     "output_type": "stream",
     "text": [
      "car is red color and a vehicle\n",
      "auto is black color and a vehicle\n"
     ]
    }
   ],
   "source": [
    "# same class instance\n",
    "\n",
    "class group:\n",
    "    sp=\"vehicle\"\n",
    "    def __init__(self,name,color):\n",
    "        self.name=name\n",
    "        self.color=color\n",
    "a=group(\"car\",\"red\")\n",
    "b=group(\"auto\",\"black\")\n",
    "\n",
    "print(\"{} is {} color and a {}\".format(a.name,a.color,a.__class__.sp))\n",
    "\n",
    "print(\"{} is {} color and a {}\".format(b.name,b.color,b.__class__.sp))\n",
    "   \n"
   ]
  },
  {
   "cell_type": "code",
   "execution_count": 32,
   "id": "6cb34fd3",
   "metadata": {},
   "outputs": [
    {
     "name": "stdout",
     "output_type": "stream",
     "text": [
      "enter a stringfarhana\n",
      "string is: farhana\n"
     ]
    }
   ],
   "source": [
    "class string:\n",
    "    def __init__(self):\n",
    "        self.string=input(\"enter a string\")\n",
    "    def display(self):\n",
    "        print(\"string is:\",format(self.string))\n",
    "       \n",
    "a = string()\n",
    "a.display()\n",
    "        "
   ]
  },
  {
   "cell_type": "code",
   "execution_count": null,
   "id": "5d030233",
   "metadata": {},
   "outputs": [
    {
     "name": "stdout",
     "output_type": "stream",
     "text": [
      "enter a first number:3\n",
      "enter a second number:3\n",
      "Add\n",
      "Sub\n",
      "Mul\n",
      "Div\n",
      "enter choice:1\n",
      "6\n",
      "None\n",
      "invalid\n",
      "Add\n",
      "Sub\n",
      "Mul\n",
      "Div\n",
      "enter choice:1\n",
      "6\n",
      "None\n",
      "invalid\n",
      "Add\n",
      "Sub\n",
      "Mul\n",
      "Div\n"
     ]
    }
   ],
   "source": [
    "# calculator\n",
    "\n",
    "class calculator:\n",
    "\n",
    "    \n",
    "    def addition(self):\n",
    "        print(a+b)\n",
    "    def subtraction(self):\n",
    "        print(a-b)\n",
    "    def multiplication(self):\n",
    "        print(a*b)\n",
    "    def division(self):\n",
    "        print(a/b)\n",
    "a=int(input(\"enter a first number:\"))\n",
    "b=int(input(\"enter a second number:\"))\n",
    "obj=calculator()\n",
    "choice = 1\n",
    "while choice != 0:\n",
    "    print(\"Add\")\n",
    "    print(\"Sub\")\n",
    "    print(\"Mul\")\n",
    "    print(\"Div\")\n",
    "    choice = int(input(\"enter choice:\"))\n",
    "    if choice == 1:\n",
    "        print(obj.addition())\n",
    "    if choice == 2:\n",
    "        print(obj.substraction())\n",
    "    if choice == 3:\n",
    "        print(obj.multiplication())\n",
    "    if choice == 4:\n",
    "        print(obj.division())\n",
    "    else:\n",
    "        print(\"invalid\")\n",
    "        "
   ]
  },
  {
   "cell_type": "code",
   "execution_count": 6,
   "id": "b62557d3",
   "metadata": {},
   "outputs": [
    {
     "name": "stdout",
     "output_type": "stream",
     "text": [
      "enter length:4\n",
      "enter breadth:7\n",
      "area is: 28\n",
      "\n"
     ]
    }
   ],
   "source": [
    "# rectangle\n",
    "class rectangle():\n",
    "    def __init__(self,length,breadth):\n",
    "        self.length=length\n",
    "        self.breadth=breadth\n",
    "    def area(self):\n",
    "        return self.length*self.breadth\n",
    "a=int(input(\"enter length:\"))\n",
    "b=int(input(\"enter breadth:\"))\n",
    "obj=rectangle(a,b)\n",
    "print(\"area is:\",obj.area())\n",
    "print()"
   ]
  },
  {
   "cell_type": "code",
   "execution_count": 4,
   "id": "3d7f6d4e",
   "metadata": {},
   "outputs": [
    {
     "name": "stdout",
     "output_type": "stream",
     "text": [
      "square root of 8 is: 2.8284271247461903\n"
     ]
    }
   ],
   "source": [
    "# standrd mdl\n",
    "\n",
    "# sqrt\n",
    "import math\n",
    "x=8\n",
    "\n",
    "print(\"square root of\",x,\"is:\",math.sqrt(x))"
   ]
  },
  {
   "cell_type": "code",
   "execution_count": 5,
   "id": "00738328",
   "metadata": {},
   "outputs": [
    {
     "name": "stdout",
     "output_type": "stream",
     "text": [
      "factorial of 4 is: 24\n"
     ]
    }
   ],
   "source": [
    "# factorial\n",
    "import math\n",
    "x=4\n",
    "print(\"factorial of\",x,\"is:\",math.factorial(x))"
   ]
  },
  {
   "cell_type": "code",
   "execution_count": 11,
   "id": "818c0000",
   "metadata": {},
   "outputs": [
    {
     "name": "stdout",
     "output_type": "stream",
     "text": [
      "2021-12-15 16:14:58.137620\n"
     ]
    }
   ],
   "source": [
    "# current date\n",
    "import datetime\n",
    "now=datetime.datetime.now()\n",
    "print(now)"
   ]
  },
  {
   "cell_type": "code",
   "execution_count": 21,
   "id": "6bd4a382",
   "metadata": {},
   "outputs": [
    {
     "name": "stdout",
     "output_type": "stream",
     "text": [
      "highest value: 7\n",
      "lowest value: 1\n"
     ]
    }
   ],
   "source": [
    "# high and low\n",
    "def high_and_low():\n",
    "    number=[1,2,3,4,5,6,7]\n",
    "    print(\"highest value:\",max(number))\n",
    "    print(\"lowest value:\",min(number))\n",
    "    \n",
    "high_and_low()\n"
   ]
  },
  {
   "cell_type": "code",
   "execution_count": 25,
   "id": "392b0151",
   "metadata": {},
   "outputs": [
    {
     "name": "stdout",
     "output_type": "stream",
     "text": [
      "789\n"
     ]
    }
   ],
   "source": [
    "# absolute\n",
    "x=-789\n",
    "print(abs(x))"
   ]
  },
  {
   "cell_type": "code",
   "execution_count": 31,
   "id": "574e9367",
   "metadata": {},
   "outputs": [
    {
     "name": "stdout",
     "output_type": "stream",
     "text": [
      "64.0\n"
     ]
    }
   ],
   "source": [
    "# power\n",
    "import math\n",
    "x=4\n",
    "y=3\n",
    "print(math.pow(x,y))\n"
   ]
  },
  {
   "cell_type": "code",
   "execution_count": 3,
   "id": "882eb2f9",
   "metadata": {},
   "outputs": [
    {
     "name": "stdout",
     "output_type": "stream",
     "text": [
      "[2, 10, 8, 12, 16]\n"
     ]
    }
   ],
   "source": [
    "# lambda\n",
    "\n",
    "\n",
    "mylist=[1,5,4,6,8]\n",
    "newlist=list(map(lambda x: x * 2,mylist))\n",
    "print(newlist)"
   ]
  },
  {
   "cell_type": "code",
   "execution_count": 17,
   "id": "fcb34d27",
   "metadata": {},
   "outputs": [
    {
     "name": "stdout",
     "output_type": "stream",
     "text": [
      "5\n"
     ]
    }
   ],
   "source": [
    "# divisible\n",
    "\n",
    "number=lambda x: x // 2\n",
    "print(number(10))"
   ]
  },
  {
   "cell_type": "code",
   "execution_count": 2,
   "id": "d4a64eec",
   "metadata": {},
   "outputs": [
    {
     "data": {
      "text/plain": [
       "<_io.TextIOWrapper name='new1.txt' mode='w' encoding='utf-8'>"
      ]
     },
     "execution_count": 2,
     "metadata": {},
     "output_type": "execute_result"
    }
   ],
   "source": [
    "with open(\"new1.txt\",'w',encoding='utf-8')as s:\n",
    "    s.write(\"my first file\\n\")\n",
    "    s.write(\"file\\n\")\n",
    "    s.write(\"contain three lines\")\n",
    "s"
   ]
  },
  {
   "cell_type": "code",
   "execution_count": 5,
   "id": "b88d552c",
   "metadata": {},
   "outputs": [
    {
     "data": {
      "text/plain": [
       "'my first file\\nfile\\ncontain three lines'"
      ]
     },
     "execution_count": 5,
     "metadata": {},
     "output_type": "execute_result"
    }
   ],
   "source": [
    "s=open(\"new1.txt\",'r',encoding='utf-8')\n",
    "s.read()"
   ]
  },
  {
   "cell_type": "code",
   "execution_count": 2,
   "id": "a187fd46",
   "metadata": {},
   "outputs": [
    {
     "name": "stdout",
     "output_type": "stream",
     "text": [
      "Total Lines 5\n"
     ]
    }
   ],
   "source": [
    "# count no of file in apyth\n",
    "\n",
    "with open(r'C:/Users/Farhana/Desktop/new.txt', 'r') as fp:\n",
    "    for count, line in enumerate(fp):\n",
    "        pass\n",
    "print('Total Lines', count + 1)"
   ]
  },
  {
   "cell_type": "code",
   "execution_count": 7,
   "id": "0a8f5535",
   "metadata": {},
   "outputs": [
    {
     "name": "stdout",
     "output_type": "stream",
     "text": [
      "enter a nameq\n"
     ]
    },
    {
     "ename": "NameError",
     "evalue": "name 'prit' is not defined",
     "output_type": "error",
     "traceback": [
      "\u001b[1;31m---------------------------------------------------------------------------\u001b[0m",
      "\u001b[1;31mNameError\u001b[0m                                 Traceback (most recent call last)",
      "\u001b[1;32m~\\AppData\\Local\\Temp/ipykernel_11764/2324832549.py\u001b[0m in \u001b[0;36m<module>\u001b[1;34m\u001b[0m\n\u001b[0;32m      1\u001b[0m \u001b[1;31m# demonstrate name error\u001b[0m\u001b[1;33m\u001b[0m\u001b[1;33m\u001b[0m\u001b[0m\n\u001b[0;32m      2\u001b[0m \u001b[0mname\u001b[0m\u001b[1;33m=\u001b[0m\u001b[0mstr\u001b[0m\u001b[1;33m(\u001b[0m\u001b[0minput\u001b[0m\u001b[1;33m(\u001b[0m\u001b[1;34m\"enter a name\"\u001b[0m\u001b[1;33m)\u001b[0m\u001b[1;33m)\u001b[0m\u001b[1;33m\u001b[0m\u001b[1;33m\u001b[0m\u001b[0m\n\u001b[1;32m----> 3\u001b[1;33m \u001b[0mprit\u001b[0m\u001b[1;33m(\u001b[0m\u001b[0mname\u001b[0m\u001b[1;33m)\u001b[0m\u001b[1;33m\u001b[0m\u001b[1;33m\u001b[0m\u001b[0m\n\u001b[0m",
      "\u001b[1;31mNameError\u001b[0m: name 'prit' is not defined"
     ]
    }
   ],
   "source": [
    "# demonstrate name error\n",
    "name=str(input(\"enter a name\"))\n",
    "prit(name)\n"
   ]
  },
  {
   "cell_type": "code",
   "execution_count": 2,
   "id": "4375bd93",
   "metadata": {},
   "outputs": [
    {
     "ename": "AttributeError",
     "evalue": "'int' object has no attribute 'append'",
     "output_type": "error",
     "traceback": [
      "\u001b[1;31m---------------------------------------------------------------------------\u001b[0m",
      "\u001b[1;31mAttributeError\u001b[0m                            Traceback (most recent call last)",
      "\u001b[1;32m~\\AppData\\Local\\Temp/ipykernel_2252/3615752639.py\u001b[0m in \u001b[0;36m<module>\u001b[1;34m\u001b[0m\n\u001b[0;32m      1\u001b[0m \u001b[0mfar\u001b[0m\u001b[1;33m=\u001b[0m\u001b[1;36m2\u001b[0m\u001b[1;33m\u001b[0m\u001b[1;33m\u001b[0m\u001b[0m\n\u001b[1;32m----> 2\u001b[1;33m \u001b[0mfar\u001b[0m\u001b[1;33m.\u001b[0m\u001b[0mappend\u001b[0m\u001b[1;33m(\u001b[0m\u001b[1;36m3\u001b[0m\u001b[1;33m)\u001b[0m\u001b[1;33m\u001b[0m\u001b[1;33m\u001b[0m\u001b[0m\n\u001b[0m",
      "\u001b[1;31mAttributeError\u001b[0m: 'int' object has no attribute 'append'"
     ]
    }
   ],
   "source": [
    "far=2\n",
    "far.append(3)"
   ]
  },
  {
   "cell_type": "code",
   "execution_count": 8,
   "id": "5c1eff06",
   "metadata": {},
   "outputs": [
    {
     "ename": "KeyError",
     "evalue": "'name'",
     "output_type": "error",
     "traceback": [
      "\u001b[1;31m---------------------------------------------------------------------------\u001b[0m",
      "\u001b[1;31mKeyError\u001b[0m                                  Traceback (most recent call last)",
      "\u001b[1;32m~\\AppData\\Local\\Temp/ipykernel_2252/32274268.py\u001b[0m in \u001b[0;36m<module>\u001b[1;34m\u001b[0m\n\u001b[0;32m      1\u001b[0m \u001b[0memp_dict\u001b[0m \u001b[1;33m=\u001b[0m \u001b[1;33m{\u001b[0m\u001b[1;34m'Name'\u001b[0m\u001b[1;33m:\u001b[0m \u001b[1;34m'far'\u001b[0m\u001b[1;33m,\u001b[0m \u001b[1;34m'id'\u001b[0m\u001b[1;33m:\u001b[0m \u001b[1;36m1\u001b[0m\u001b[1;33m}\u001b[0m\u001b[1;33m\u001b[0m\u001b[1;33m\u001b[0m\u001b[0m\n\u001b[0;32m      2\u001b[0m \u001b[1;33m\u001b[0m\u001b[0m\n\u001b[1;32m----> 3\u001b[1;33m \u001b[0memp_dict\u001b[0m\u001b[1;33m[\u001b[0m\u001b[1;34m'name'\u001b[0m\u001b[1;33m]\u001b[0m\u001b[1;33m\u001b[0m\u001b[1;33m\u001b[0m\u001b[0m\n\u001b[0m",
      "\u001b[1;31mKeyError\u001b[0m: 'name'"
     ]
    }
   ],
   "source": [
    "emp_dict = {'Name': 'far', 'id': 1}\n",
    "\n",
    "emp_dict['name']"
   ]
  },
  {
   "cell_type": "code",
   "execution_count": 10,
   "id": "f948d56f",
   "metadata": {},
   "outputs": [
    {
     "name": "stdout",
     "output_type": "stream",
     "text": [
      "enter a number:0\n"
     ]
    },
    {
     "ename": "ZeroDivisionError",
     "evalue": "division by zero",
     "output_type": "error",
     "traceback": [
      "\u001b[1;31m---------------------------------------------------------------------------\u001b[0m",
      "\u001b[1;31mZeroDivisionError\u001b[0m                         Traceback (most recent call last)",
      "\u001b[1;32m~\\AppData\\Local\\Temp/ipykernel_2252/2259077330.py\u001b[0m in \u001b[0;36m<module>\u001b[1;34m\u001b[0m\n\u001b[0;32m      5\u001b[0m     \u001b[0mprint\u001b[0m\u001b[1;33m(\u001b[0m\u001b[1;34m\"not an even number!\"\u001b[0m\u001b[1;33m)\u001b[0m\u001b[1;33m\u001b[0m\u001b[1;33m\u001b[0m\u001b[0m\n\u001b[0;32m      6\u001b[0m \u001b[1;32melse\u001b[0m\u001b[1;33m:\u001b[0m\u001b[1;33m\u001b[0m\u001b[1;33m\u001b[0m\u001b[0m\n\u001b[1;32m----> 7\u001b[1;33m     \u001b[0mreciprocal\u001b[0m \u001b[1;33m=\u001b[0m \u001b[1;36m1\u001b[0m\u001b[1;33m/\u001b[0m\u001b[0mnum\u001b[0m\u001b[1;33m\u001b[0m\u001b[1;33m\u001b[0m\u001b[0m\n\u001b[0m\u001b[0;32m      8\u001b[0m     \u001b[0mprint\u001b[0m\u001b[1;33m(\u001b[0m\u001b[0mreciprocal\u001b[0m\u001b[1;33m)\u001b[0m\u001b[1;33m\u001b[0m\u001b[1;33m\u001b[0m\u001b[0m\n",
      "\u001b[1;31mZeroDivisionError\u001b[0m: division by zero"
     ]
    }
   ],
   "source": [
    "try:\n",
    "    num=int(input(\"enter a number:\"))\n",
    "    assert num % 4 == 0\n",
    "except:\n",
    "    print(\"not an even number!\")\n",
    "else:\n",
    "    reciprocal = 1/num\n",
    "    print(reciprocal)"
   ]
  },
  {
   "cell_type": "code",
   "execution_count": 7,
   "id": "b0485dfa",
   "metadata": {},
   "outputs": [
    {
     "ename": "IndexError",
     "evalue": "list index out of range",
     "output_type": "error",
     "traceback": [
      "\u001b[1;31m---------------------------------------------------------------------------\u001b[0m",
      "\u001b[1;31mIndexError\u001b[0m                                Traceback (most recent call last)",
      "\u001b[1;32m~\\AppData\\Local\\Temp/ipykernel_7084/3654683989.py\u001b[0m in \u001b[0;36m<module>\u001b[1;34m\u001b[0m\n\u001b[0;32m      1\u001b[0m \u001b[0ma\u001b[0m\u001b[1;33m=\u001b[0m\u001b[1;33m[\u001b[0m\u001b[1;34m'a'\u001b[0m\u001b[1;33m,\u001b[0m\u001b[1;34m'b'\u001b[0m\u001b[1;33m,\u001b[0m\u001b[1;34m'c'\u001b[0m\u001b[1;33m]\u001b[0m\u001b[1;33m\u001b[0m\u001b[1;33m\u001b[0m\u001b[0m\n\u001b[1;32m----> 2\u001b[1;33m \u001b[0mprint\u001b[0m\u001b[1;33m(\u001b[0m\u001b[0ma\u001b[0m\u001b[1;33m[\u001b[0m\u001b[1;36m4\u001b[0m\u001b[1;33m]\u001b[0m\u001b[1;33m)\u001b[0m\u001b[1;33m\u001b[0m\u001b[1;33m\u001b[0m\u001b[0m\n\u001b[0m",
      "\u001b[1;31mIndexError\u001b[0m: list index out of range"
     ]
    }
   ],
   "source": [
    "a=['a','b','c']\n",
    "print(a[4])"
   ]
  },
  {
   "cell_type": "code",
   "execution_count": 16,
   "id": "401b56e9",
   "metadata": {},
   "outputs": [
    {
     "name": "stdout",
     "output_type": "stream",
     "text": [
      "Enter the name of the file with .txt extension:new.txt\n",
      "my first file\n",
      "\n",
      "file\n",
      "\n",
      "contain three lines\n"
     ]
    }
   ],
   "source": [
    "a=str(input(\"Enter the name of the file with .txt extension:\"))\n",
    "file2=open(a,'r')\n",
    "line=file2.readline()\n",
    "while(line!=\"\"):\n",
    "    print(line)\n",
    "    line=file2.readline()\n",
    "file2.close()"
   ]
  },
  {
   "cell_type": "code",
   "execution_count": 1,
   "id": "1461ba4e",
   "metadata": {},
   "outputs": [
    {
     "name": "stdout",
     "output_type": "stream",
     "text": [
      "Enter file name: new.txt\n",
      "Number of lines:\n",
      "3\n"
     ]
    }
   ],
   "source": [
    "name = input(\"Enter file name: \")\n",
    "num_lines = 0\n",
    "with open(name, 'r') as f:\n",
    "    for line in f:\n",
    "        num_lines += 1\n",
    "print(\"Number of lines:\")\n",
    "print(num_lines)"
   ]
  },
  {
   "cell_type": "code",
   "execution_count": null,
   "id": "8250373c",
   "metadata": {},
   "outputs": [],
   "source": []
  },
  {
   "cell_type": "code",
   "execution_count": null,
   "id": "448da32b",
   "metadata": {},
   "outputs": [],
   "source": []
  }
 ],
 "metadata": {
  "kernelspec": {
   "display_name": "Python 3 (ipykernel)",
   "language": "python",
   "name": "python3"
  },
  "language_info": {
   "codemirror_mode": {
    "name": "ipython",
    "version": 3
   },
   "file_extension": ".py",
   "mimetype": "text/x-python",
   "name": "python",
   "nbconvert_exporter": "python",
   "pygments_lexer": "ipython3",
   "version": "3.9.7"
  }
 },
 "nbformat": 4,
 "nbformat_minor": 5
}
